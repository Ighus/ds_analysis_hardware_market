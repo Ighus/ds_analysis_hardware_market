{
 "cells": [
  {
   "cell_type": "code",
   "execution_count": 28,
   "metadata": {
    "collapsed": true
   },
   "outputs": [],
   "source": [
    "import pandas as pd\n",
    "import numpy as np\n",
    "import re\n",
    "from datetime import timedelta\n",
    "from connection_keys import connect_bq_client\n",
    "import statsmodels.api as sm\n",
    "import os\n",
    "import warnings\n",
    "import itertools\n",
    "warnings.filterwarnings(\"ignore\")\n",
    "\n",
    "import plotly.express as px\n",
    "import matplotlib.pyplot as plt\n",
    "import seaborn as sns\n",
    "%matplotlib inline\n",
    "plt.style.use('fivethirtyeight')\n",
    "plt.rcParams['axes.labelsize'] = 14\n",
    "plt.rcParams['xtick.labelsize'] = 12\n",
    "plt.rcParams['ytick.labelsize'] = 12\n",
    "plt.rcParams['text.color'] = 'k'\n",
    "\n",
    "pd.set_option('display.max_colwidth', None)\n",
    "pd.set_option('display.max_columns', None)\n",
    "\n",
    "LOJA_LARANJA = os.environ['LOJA_LARANJA']\n",
    "LOJA_VERMELHA = os.environ['LOJA_VERMELHA']"
   ]
  },
  {
   "attachments": {},
   "cell_type": "markdown",
   "metadata": {},
   "source": [
    "# Puxando dados do BQ\n",
    "Puxando dados do BigQuery"
   ]
  },
  {
   "cell_type": "code",
   "execution_count": 2,
   "metadata": {},
   "outputs": [],
   "source": [
    "client = connect_bq_client()\n",
    "\n",
    "sql = \"\"\"\n",
    "    SELECT *\n",
    "    FROM `db_market_product.gpu`\n",
    "    ORDER BY dt_carga asc\n",
    "\"\"\"\n",
    "\n",
    "df = client.query(sql).to_dataframe()\n",
    "df['data'] = df.dt_carga.dt.date\n",
    "df['ds_nome_produto'] = df['ds_nome_produto'].str.upper()\n",
    "df['loja'].replace([LOJA_LARANJA, LOJA_VERMELHA], [\"Loja Laranja\", \"Loja Vermelha\"],inplace=True)"
   ]
  },
  {
   "attachments": {},
   "cell_type": "markdown",
   "metadata": {},
   "source": [
    "# First Look\n",
    "Dando uma primeira olhada nos dados salvos"
   ]
  },
  {
   "cell_type": "code",
   "execution_count": 3,
   "metadata": {},
   "outputs": [
    {
     "name": "stdout",
     "output_type": "stream",
     "text": [
      "<class 'pandas.core.frame.DataFrame'>\n",
      "RangeIndex: 1257328 entries, 0 to 1257327\n",
      "Data columns (total 11 columns):\n",
      " #   Column                      Non-Null Count    Dtype              \n",
      "---  ------                      --------------    -----              \n",
      " 0   ds_marca                    1257328 non-null  object             \n",
      " 1   ds_nome_produto             1257328 non-null  object             \n",
      " 2   vl_preco_atual              1257328 non-null  float64            \n",
      " 3   vl_preco_com_desconto       1257328 non-null  float64            \n",
      " 4   vl_porcentagem_do_desconto  1257328 non-null  float64            \n",
      " 5   qt_quantidade_estoque       531594 non-null   Int64              \n",
      " 6   oferta                      1257328 non-null  object             \n",
      " 7   ds_disponibilidade          1257328 non-null  object             \n",
      " 8   loja                        1257328 non-null  object             \n",
      " 9   dt_carga                    1257328 non-null  datetime64[ns, UTC]\n",
      " 10  data                        1257328 non-null  object             \n",
      "dtypes: Int64(1), datetime64[ns, UTC](1), float64(3), object(6)\n",
      "memory usage: 106.7+ MB\n"
     ]
    },
    {
     "data": {
      "text/html": [
       "<div>\n",
       "<style scoped>\n",
       "    .dataframe tbody tr th:only-of-type {\n",
       "        vertical-align: middle;\n",
       "    }\n",
       "\n",
       "    .dataframe tbody tr th {\n",
       "        vertical-align: top;\n",
       "    }\n",
       "\n",
       "    .dataframe thead th {\n",
       "        text-align: right;\n",
       "    }\n",
       "</style>\n",
       "<table border=\"1\" class=\"dataframe\">\n",
       "  <thead>\n",
       "    <tr style=\"text-align: right;\">\n",
       "      <th></th>\n",
       "      <th>ds_marca</th>\n",
       "      <th>ds_nome_produto</th>\n",
       "      <th>vl_preco_atual</th>\n",
       "      <th>vl_preco_com_desconto</th>\n",
       "      <th>vl_porcentagem_do_desconto</th>\n",
       "      <th>qt_quantidade_estoque</th>\n",
       "      <th>oferta</th>\n",
       "      <th>ds_disponibilidade</th>\n",
       "      <th>loja</th>\n",
       "      <th>dt_carga</th>\n",
       "      <th>data</th>\n",
       "    </tr>\n",
       "  </thead>\n",
       "  <tbody>\n",
       "    <tr>\n",
       "      <th>482847</th>\n",
       "      <td>Gigabyte</td>\n",
       "      <td>PLACA DE VIDEO GIGABYTE RADEON RX 6800 GAMING OC 16GB GDDR6 2‎56-BIT, GV-R68GAMING OC-16GD</td>\n",
       "      <td>8174.45</td>\n",
       "      <td>8174.45</td>\n",
       "      <td>12.0</td>\n",
       "      <td>&lt;NA&gt;</td>\n",
       "      <td>None</td>\n",
       "      <td>OUT_OF_STOCK</td>\n",
       "      <td>Loja Vermelha</td>\n",
       "      <td>2022-12-24 10:01:37.587326+00:00</td>\n",
       "      <td>2022-12-24</td>\n",
       "    </tr>\n",
       "    <tr>\n",
       "      <th>1115419</th>\n",
       "      <td>Galax</td>\n",
       "      <td>PLACA DE VÍDEO GALAX NVIDIA GEFORCE GTX 1660 1-CLICK OC, 6GB, GDDR5 - 60SRH7DSY91C</td>\n",
       "      <td>1999.99</td>\n",
       "      <td>1699.99</td>\n",
       "      <td>15.0</td>\n",
       "      <td>9</td>\n",
       "      <td>[{'ds_oferta_nome': 'Prime', 'vl_oferta_preco_atual': 1894.11, 'vl_oferta_preco_com_desconto': 1609.99, 'vl_oferta_porcentagem_do_desconto': 5}]</td>\n",
       "      <td>True</td>\n",
       "      <td>Loja Laranja</td>\n",
       "      <td>2023-04-14 10:01:48.862419+00:00</td>\n",
       "      <td>2023-04-14</td>\n",
       "    </tr>\n",
       "    <tr>\n",
       "      <th>252446</th>\n",
       "      <td>PNY</td>\n",
       "      <td>PLACA DE VIDEO PNY GEFORCE GTX 1650 4GB GDDR6 128-BIT, GMX1650N3J4FP2AKTP</td>\n",
       "      <td>2704.53</td>\n",
       "      <td>2704.53</td>\n",
       "      <td>12.0</td>\n",
       "      <td>&lt;NA&gt;</td>\n",
       "      <td>None</td>\n",
       "      <td>OUT_OF_STOCK</td>\n",
       "      <td>Loja Vermelha</td>\n",
       "      <td>2022-11-12 10:01:48.922531+00:00</td>\n",
       "      <td>2022-11-12</td>\n",
       "    </tr>\n",
       "    <tr>\n",
       "      <th>637161</th>\n",
       "      <td>Gigabyte</td>\n",
       "      <td>PLACA DE VIDEO GIGABYTE GEFORCE RTX 2080 8GB GDDR6 OC WHITE 256-BIT, GV-N2080GAMINGOC WHITE-8GC</td>\n",
       "      <td>4657.90</td>\n",
       "      <td>4657.90</td>\n",
       "      <td>12.0</td>\n",
       "      <td>&lt;NA&gt;</td>\n",
       "      <td>None</td>\n",
       "      <td>OUT_OF_STOCK</td>\n",
       "      <td>Loja Vermelha</td>\n",
       "      <td>2023-01-20 22:02:12.623748+00:00</td>\n",
       "      <td>2023-01-20</td>\n",
       "    </tr>\n",
       "    <tr>\n",
       "      <th>617331</th>\n",
       "      <td>Zotac</td>\n",
       "      <td>PLACA DE VIDEO ZOTAC GEFORCE RTX 3090 AMP EXTREME HOLO, 24GB, GDDR6X, 384-BIT, ZT-A30900B-10P</td>\n",
       "      <td>11374.35</td>\n",
       "      <td>11374.35</td>\n",
       "      <td>12.0</td>\n",
       "      <td>&lt;NA&gt;</td>\n",
       "      <td>None</td>\n",
       "      <td>OUT_OF_STOCK</td>\n",
       "      <td>Loja Vermelha</td>\n",
       "      <td>2023-01-17 10:01:33.457717+00:00</td>\n",
       "      <td>2023-01-17</td>\n",
       "    </tr>\n",
       "  </tbody>\n",
       "</table>\n",
       "</div>"
      ],
      "text/plain": [
       "         ds_marca  \\\n",
       "482847   Gigabyte   \n",
       "1115419     Galax   \n",
       "252446        PNY   \n",
       "637161   Gigabyte   \n",
       "617331      Zotac   \n",
       "\n",
       "                                                                                         ds_nome_produto  \\\n",
       "482847        PLACA DE VIDEO GIGABYTE RADEON RX 6800 GAMING OC 16GB GDDR6 2‎56-BIT, GV-R68GAMING OC-16GD   \n",
       "1115419               PLACA DE VÍDEO GALAX NVIDIA GEFORCE GTX 1660 1-CLICK OC, 6GB, GDDR5 - 60SRH7DSY91C   \n",
       "252446                         PLACA DE VIDEO PNY GEFORCE GTX 1650 4GB GDDR6 128-BIT, GMX1650N3J4FP2AKTP   \n",
       "637161   PLACA DE VIDEO GIGABYTE GEFORCE RTX 2080 8GB GDDR6 OC WHITE 256-BIT, GV-N2080GAMINGOC WHITE-8GC   \n",
       "617331     PLACA DE VIDEO ZOTAC GEFORCE RTX 3090 AMP EXTREME HOLO, 24GB, GDDR6X, 384-BIT, ZT-A30900B-10P   \n",
       "\n",
       "         vl_preco_atual  vl_preco_com_desconto  vl_porcentagem_do_desconto  \\\n",
       "482847          8174.45                8174.45                        12.0   \n",
       "1115419         1999.99                1699.99                        15.0   \n",
       "252446          2704.53                2704.53                        12.0   \n",
       "637161          4657.90                4657.90                        12.0   \n",
       "617331         11374.35               11374.35                        12.0   \n",
       "\n",
       "         qt_quantidade_estoque  \\\n",
       "482847                    <NA>   \n",
       "1115419                      9   \n",
       "252446                    <NA>   \n",
       "637161                    <NA>   \n",
       "617331                    <NA>   \n",
       "\n",
       "                                                                                                                                                   oferta  \\\n",
       "482847                                                                                                                                               None   \n",
       "1115419  [{'ds_oferta_nome': 'Prime', 'vl_oferta_preco_atual': 1894.11, 'vl_oferta_preco_com_desconto': 1609.99, 'vl_oferta_porcentagem_do_desconto': 5}]   \n",
       "252446                                                                                                                                               None   \n",
       "637161                                                                                                                                               None   \n",
       "617331                                                                                                                                               None   \n",
       "\n",
       "        ds_disponibilidade           loja                         dt_carga  \\\n",
       "482847        OUT_OF_STOCK  Loja Vermelha 2022-12-24 10:01:37.587326+00:00   \n",
       "1115419               True   Loja Laranja 2023-04-14 10:01:48.862419+00:00   \n",
       "252446        OUT_OF_STOCK  Loja Vermelha 2022-11-12 10:01:48.922531+00:00   \n",
       "637161        OUT_OF_STOCK  Loja Vermelha 2023-01-20 22:02:12.623748+00:00   \n",
       "617331        OUT_OF_STOCK  Loja Vermelha 2023-01-17 10:01:33.457717+00:00   \n",
       "\n",
       "               data  \n",
       "482847   2022-12-24  \n",
       "1115419  2023-04-14  \n",
       "252446   2022-11-12  \n",
       "637161   2023-01-20  \n",
       "617331   2023-01-17  "
      ]
     },
     "execution_count": 3,
     "metadata": {},
     "output_type": "execute_result"
    }
   ],
   "source": [
    "df.info()\n",
    "df.sample(5)"
   ]
  },
  {
   "cell_type": "code",
   "execution_count": 4,
   "metadata": {},
   "outputs": [
    {
     "data": {
      "text/plain": [
       "ds_marca                           0\n",
       "ds_nome_produto                    0\n",
       "vl_preco_atual                     0\n",
       "vl_preco_com_desconto              0\n",
       "vl_porcentagem_do_desconto         0\n",
       "qt_quantidade_estoque         725734\n",
       "oferta                             0\n",
       "ds_disponibilidade                 0\n",
       "loja                               0\n",
       "dt_carga                           0\n",
       "data                               0\n",
       "dtype: int64"
      ]
     },
     "execution_count": 4,
     "metadata": {},
     "output_type": "execute_result"
    }
   ],
   "source": [
    "df.isnull().sum()"
   ]
  },
  {
   "cell_type": "code",
   "execution_count": 5,
   "metadata": {},
   "outputs": [
    {
     "name": "stdout",
     "output_type": "stream",
     "text": [
      "['Nvidia' 'Gigabyte' 'Colorful' 'Asus' 'PALIT' 'Afox' 'Gainward' 'Pny'\n",
      " 'PCYES' 'GOLDENTEC' 'Axle' 'MSI' 'Liketec' 'Galax' 'Knup' 'DT3sports'\n",
      " 'GOLINE' 'Lian Li' 'Hp' 'imperiums' 'Duex' 'Bluecase' 'PCWINMAX'\n",
      " 'Riser Card' '5TECHPC' 'Powercolor' 'Zotac' 'DEX' 'DarkFlash' 'Outros'\n",
      " 'Evga' 'OFICINA DOS BITS' 'Cooler Master' 'Brazil PC' 'Thermaltake'\n",
      " 'Barrow' 'Arktek' 'XFX' 'Biostar' 'Amd' 'Ctech' 'Deepcool' 'Valianty'\n",
      " 'Grizzly' 'Power Color' 'ASRock' 'PNY' 'AMD' 'AFOX' 'ZOGIS' 'EVGA'\n",
      " 'PCYES!' 'Sapphire' 'Mancer' 'PowerColor' 'AsRock' 'Enzatec' 'Akasa'\n",
      " 'Rise Mode' 'Gibayte' 'PNY Technologies' 'Aorus' 'Zogis' 'Point'\n",
      " 'Genérica' 'Inno 3d' 'NEOLOGIC' 'Superframe' 'TGT' 'Chroma Tech'\n",
      " 'Adamantiun' 'Storm-z' 'Goldentec' 'Evolut' 'INNO3D' 'Intel' 'BRX'\n",
      " 'Power' 'ASUS']\n",
      "['False' 'True' 'OUT_OF_STOCK' 'IN_STOCK']\n",
      "['Loja Laranja' 'Loja Vermelha']\n",
      "['None'\n",
      " \"[{'ds_oferta_nome': 'Setembro Tech', 'vl_oferta_preco_atual': 359.1, 'vl_oferta_preco_com_desconto': 359.1, 'vl_oferta_porcentagem_do_desconto': 9}]\"\n",
      " \"[{'ds_oferta_nome': 'Setembro Tech', 'vl_oferta_preco_atual': 749.88, 'vl_oferta_preco_com_desconto': 749.88, 'vl_oferta_porcentagem_do_desconto': 25}]\"\n",
      " ...\n",
      " \"[{'ds_oferta_nome': 'Oferta Ninja', 'vl_oferta_preco_atual': 3176.46, 'vl_oferta_preco_com_desconto': 2699.99, 'vl_oferta_porcentagem_do_desconto': 9}, {'ds_oferta_nome': 'Prime', 'vl_oferta_preco_atual': 3017.64, 'vl_oferta_preco_com_desconto': 2564.99, 'vl_oferta_porcentagem_do_desconto': 13}]\"\n",
      " \"[{'ds_oferta_nome': 'Mega Maio', 'vl_oferta_preco_atual': 1647.05, 'vl_oferta_preco_com_desconto': 1399.99, 'vl_oferta_porcentagem_do_desconto': 25}, {'ds_oferta_nome': 'Prime', 'vl_oferta_preco_atual': 1564.7, 'vl_oferta_preco_com_desconto': 1330.0, 'vl_oferta_porcentagem_do_desconto': 29}]\"\n",
      " \"[{'ds_oferta_nome': 'Oferta Ninja', 'vl_oferta_preco_atual': 9864.69, 'vl_oferta_preco_com_desconto': 8384.99, 'vl_oferta_porcentagem_do_desconto': 10}, {'ds_oferta_nome': 'Prime', 'vl_oferta_preco_atual': 9371.46, 'vl_oferta_preco_com_desconto': 7965.74, 'vl_oferta_porcentagem_do_desconto': 14}]\"]\n"
     ]
    }
   ],
   "source": [
    "columns = [\"ds_marca\", \"ds_disponibilidade\", \"loja\", \"oferta\"]\n",
    "\n",
    "for column in columns:\n",
    "  print(df[column].unique())"
   ]
  },
  {
   "attachments": {},
   "cell_type": "markdown",
   "metadata": {},
   "source": [
    "# Explorando os dados"
   ]
  },
  {
   "attachments": {},
   "cell_type": "markdown",
   "metadata": {},
   "source": [
    "Como o processo roda duas vezes ao dia, vale a verificação se houve algum dia em que foi rodado mais vezes no mesmo dia."
   ]
  },
  {
   "cell_type": "code",
   "execution_count": 6,
   "metadata": {},
   "outputs": [
    {
     "data": {
      "text/html": [
       "<div>\n",
       "<style scoped>\n",
       "    .dataframe tbody tr th:only-of-type {\n",
       "        vertical-align: middle;\n",
       "    }\n",
       "\n",
       "    .dataframe tbody tr th {\n",
       "        vertical-align: top;\n",
       "    }\n",
       "\n",
       "    .dataframe thead th {\n",
       "        text-align: right;\n",
       "    }\n",
       "</style>\n",
       "<table border=\"1\" class=\"dataframe\">\n",
       "  <thead>\n",
       "    <tr style=\"text-align: right;\">\n",
       "      <th></th>\n",
       "      <th>data</th>\n",
       "      <th>loja</th>\n",
       "      <th>counts</th>\n",
       "    </tr>\n",
       "  </thead>\n",
       "  <tbody>\n",
       "    <tr>\n",
       "      <th>26</th>\n",
       "      <td>2022-10-12</td>\n",
       "      <td>Loja Laranja</td>\n",
       "      <td>4</td>\n",
       "    </tr>\n",
       "    <tr>\n",
       "      <th>27</th>\n",
       "      <td>2022-10-12</td>\n",
       "      <td>Loja Vermelha</td>\n",
       "      <td>4</td>\n",
       "    </tr>\n",
       "    <tr>\n",
       "      <th>28</th>\n",
       "      <td>2022-10-13</td>\n",
       "      <td>Loja Laranja</td>\n",
       "      <td>3</td>\n",
       "    </tr>\n",
       "    <tr>\n",
       "      <th>29</th>\n",
       "      <td>2022-10-13</td>\n",
       "      <td>Loja Vermelha</td>\n",
       "      <td>3</td>\n",
       "    </tr>\n",
       "    <tr>\n",
       "      <th>30</th>\n",
       "      <td>2022-10-14</td>\n",
       "      <td>Loja Laranja</td>\n",
       "      <td>3</td>\n",
       "    </tr>\n",
       "    <tr>\n",
       "      <th>31</th>\n",
       "      <td>2022-10-14</td>\n",
       "      <td>Loja Vermelha</td>\n",
       "      <td>3</td>\n",
       "    </tr>\n",
       "    <tr>\n",
       "      <th>32</th>\n",
       "      <td>2022-10-15</td>\n",
       "      <td>Loja Laranja</td>\n",
       "      <td>3</td>\n",
       "    </tr>\n",
       "    <tr>\n",
       "      <th>33</th>\n",
       "      <td>2022-10-15</td>\n",
       "      <td>Loja Vermelha</td>\n",
       "      <td>3</td>\n",
       "    </tr>\n",
       "    <tr>\n",
       "      <th>34</th>\n",
       "      <td>2022-10-16</td>\n",
       "      <td>Loja Laranja</td>\n",
       "      <td>3</td>\n",
       "    </tr>\n",
       "    <tr>\n",
       "      <th>35</th>\n",
       "      <td>2022-10-16</td>\n",
       "      <td>Loja Vermelha</td>\n",
       "      <td>3</td>\n",
       "    </tr>\n",
       "  </tbody>\n",
       "</table>\n",
       "</div>"
      ],
      "text/plain": [
       "          data           loja  counts\n",
       "26  2022-10-12   Loja Laranja       4\n",
       "27  2022-10-12  Loja Vermelha       4\n",
       "28  2022-10-13   Loja Laranja       3\n",
       "29  2022-10-13  Loja Vermelha       3\n",
       "30  2022-10-14   Loja Laranja       3\n",
       "31  2022-10-14  Loja Vermelha       3\n",
       "32  2022-10-15   Loja Laranja       3\n",
       "33  2022-10-15  Loja Vermelha       3\n",
       "34  2022-10-16   Loja Laranja       3\n",
       "35  2022-10-16  Loja Vermelha       3"
      ]
     },
     "execution_count": 6,
     "metadata": {},
     "output_type": "execute_result"
    }
   ],
   "source": [
    "df_verification_days = df.groupby(['data', 'loja'])['dt_carga'].nunique().reset_index(name='counts')\n",
    "df_verification_days.query(\"counts > 2\")"
   ]
  },
  {
   "attachments": {},
   "cell_type": "markdown",
   "metadata": {},
   "source": [
    "Como pode ser visto, na coluna \"ds_disponibilidade\" existem diferentes formas de dizer se um item está em estoque atualmente ou não, a forma como isso é apresentado depende da loja, para que em ambas as lojas a informação fique equalizada, será alterado os tipos \"OUT_OF_STOCK\" e \"IN_STOCK\" para true e false."
   ]
  },
  {
   "cell_type": "code",
   "execution_count": 7,
   "metadata": {},
   "outputs": [],
   "source": [
    "# Alterando o campo \"ds_disponibilidade\" para booleano\n",
    "df['ds_disponibilidade'].replace([\"OUT_OF_STOCK\", \"IN_STOCK\"], [False, True],inplace=True)\n",
    "df['ds_disponibilidade'] = df['ds_disponibilidade'].astype(bool)"
   ]
  },
  {
   "attachments": {},
   "cell_type": "markdown",
   "metadata": {},
   "source": [
    "Para ficar mais fácil de filtrar as placas de vídeo em si de outros produtos que estão presentes, a partir de um padrão de informação, será criado um campo novo com a descrição resumida do nome da placa.\n",
    "<p><b>EVOLUÇÃO: PEGAR O NOME DA PLACA UTILIZANDO TÉNICAS DE NLP</b></p>"
   ]
  },
  {
   "cell_type": "code",
   "execution_count": 8,
   "metadata": {},
   "outputs": [],
   "source": [
    "def get_resume_product_name(name):\n",
    "  \"\"\"\n",
    "    Description: Com base no padrão de nomenclatura das placas de vídeo, cria um novo\n",
    "    campo com o nome abreviado do modelo.\n",
    "  \"\"\"\n",
    "  pattern = \"(RTX|GTX|GT|RX|WX|QUADRO|R7|R5|R9|HD)(.?.?)((\\w*)\\d+)( ?(TI|XT|X|SUPER))?\"\n",
    "  resume_name = re.search(pattern, name)\n",
    "  if resume_name is None:\n",
    "      return None\n",
    "  else:\n",
    "      return resume_name.group().strip()\n",
    "\n",
    "df['ds_nome_produto_resumido'] = df.apply(lambda x: get_resume_product_name(x['ds_nome_produto']), axis=1)"
   ]
  },
  {
   "attachments": {},
   "cell_type": "markdown",
   "metadata": {},
   "source": [
    "Efetua a separação e filtragem do dataframe atraves das datas do dia, pegando apenas a última leitura do dia para a análise, mas salva as primeiras datas para possíveis comprações de datas dentro do mesmo dia."
   ]
  },
  {
   "cell_type": "code",
   "execution_count": 9,
   "metadata": {},
   "outputs": [],
   "source": [
    "maxDf = df.groupby(['data'])['dt_carga'].max()\n",
    "minDf = df.groupby(['data'])['dt_carga'].min()\n",
    "maxDates = maxDf.tolist()\n",
    "minDates = minDf.tolist()\n",
    "df_max = df.loc[df['dt_carga'].isin(maxDates)]\n",
    "df_min = df.loc[df['dt_carga'].isin(minDates)]"
   ]
  },
  {
   "attachments": {},
   "cell_type": "markdown",
   "metadata": {},
   "source": [
    "Filtra o dataset para ter apenas os produtos com nomes válidos de placa"
   ]
  },
  {
   "cell_type": "code",
   "execution_count": 10,
   "metadata": {},
   "outputs": [
    {
     "name": "stdout",
     "output_type": "stream",
     "text": [
      "Tamanho do dataframe com todos os produtos: 616078 \n",
      "Tamanho do dataframe apenas com produtos válidos: 598385\n"
     ]
    }
   ],
   "source": [
    "df_gpu = df_max.loc[~df_max.ds_nome_produto_resumido.isnull()]\n",
    "print(f\"\"\"Tamanho do dataframe com todos os produtos: {df_max.shape[0]} \\nTamanho do dataframe apenas com produtos válidos: {df_gpu.shape[0]}\"\"\")\n"
   ]
  },
  {
   "attachments": {},
   "cell_type": "markdown",
   "metadata": {},
   "source": [
    "Análise de variação de preço ao longo do tempo para o valor base e o valor com desconto"
   ]
  },
  {
   "cell_type": "code",
   "execution_count": 11,
   "metadata": {},
   "outputs": [
    {
     "data": {
      "image/png": "[encoded data removed]",
      "text/plain": [
       "<Figure size 1200x600 with 1 Axes>"
      ]
     },
     "metadata": {},
     "output_type": "display_data"
    }
   ],
   "source": [
    "# query_gpu.\n",
    "index = 8\n",
    "product_name = \"RTX 3060 TI\"\n",
    "store = \"Loja Laranja\"\n",
    "\n",
    "query_gpu_line = df_gpu.query(f\"\"\" ds_nome_produto_resumido == \"{product_name}\" and loja == \"{store}\" \"\"\").iloc[index]\n",
    "query_gpu_line.drop_duplicates(keep=\"first\")\n",
    "\n",
    "gpu_name = query_gpu_line.ds_nome_produto\n",
    "brand_name = query_gpu_line.ds_marca\n",
    "\n",
    "query_gpu = df_gpu.query(f\"\"\" ds_nome_produto == \"{gpu_name}\" and loja == \"{store}\" \"\"\")\n",
    "\n",
    "sns.set(rc={'figure.figsize':(12,6)})\n",
    "sns.set_palette('rainbow')\n",
    "plt.xticks(rotation = 45)\n",
    "sns.lineplot(x=\"data\", y=\"vl_preco_atual\", data=query_gpu, label='Preço sem desconto')\n",
    "sns.lineplot(x=\"data\", y=\"vl_preco_com_desconto\", data=query_gpu, label='Preço com desconto')\n",
    "plt.ylabel(\"Preço da GPU\")\n",
    "plt.xlabel(\"Data da amostragem\")\n",
    "plt.legend(bbox_to_anchor=(1.02, 1),borderaxespad=0, title=f\"{re.match('[^,]+', gpu_name).group(0)}\\n{brand_name}\");"
   ]
  },
  {
   "cell_type": "code",
   "execution_count": 12,
   "metadata": {},
   "outputs": [
    {
     "data": {
      "text/plain": [
       "ds_marca                                                                                        Colorful\n",
       "ds_nome_produto               PLACA DE VIDEO COLORFUL GEFORCE RTX 2060 SUPER NB, V2-V 8GB, GDDR6, 256BIT\n",
       "vl_preco_atual                                                                                    2379.0\n",
       "vl_preco_com_desconto                                                                             2379.0\n",
       "vl_porcentagem_do_desconto                                                                           0.0\n",
       "qt_quantidade_estoque                                                                                104\n",
       "oferta                                                                                              None\n",
       "ds_disponibilidade                                                                                  True\n",
       "loja                                                                                        Loja Laranja\n",
       "dt_carga                                                                2022-10-01 22:07:59.247261+00:00\n",
       "data                                                                                          2022-10-01\n",
       "ds_nome_produto_resumido                                                                  RTX 2060 SUPER\n",
       "Name: 15166, dtype: object"
      ]
     },
     "execution_count": 12,
     "metadata": {},
     "output_type": "execute_result"
    }
   ],
   "source": [
    "df_gpu.query(\"\"\" ds_nome_produto_resumido == \"RTX 2060 SUPER\" and loja == \"Loja Laranja\" \"\"\").iloc[index]\n"
   ]
  },
  {
   "cell_type": "code",
   "execution_count": 36,
   "metadata": {},
   "outputs": [],
   "source": [
    "\n",
    "import json\n",
    "df_gpu_laranja = df_gpu.loc[df_gpu['loja'] == 'Loja Laranja']\n",
    "# df_gpu.sample(3)\n",
    "\n",
    "df_gpu_laranja['oferta'] = df_gpu_laranja['oferta'].str.replace(\"'\", '\"')\n",
    "\n",
    "# Supondo que 'df' seja seu DataFrame e substituindo 'None' com np.nan\n",
    "df_gpu_laranja['oferta'].replace('None', np.nan, inplace=True)\n",
    "\n",
    "# Função para extrair valores do JSON\n",
    "def parse_json(data):\n",
    "    if not pd.isna(data):\n",
    "        # print(data.oferta)\n",
    "        j = json.loads(data)\n",
    "        data = pd.json_normalize(j)\n",
    "    return data\n",
    "\n",
    "# Aplicando a função de parse e expandindo a coluna 'oferta'\n",
    "df_parsed = df_gpu_laranja[\"oferta\"].apply(parse_json)\n",
    "\n",
    "# Renomeando as colunas parseadas\n",
    "# df_parsed.columns = [f'promo_{col}' for col in df_parsed.columns]\n",
    "\n",
    "# # Concatenando o DataFrame original com as colunas parseadas\n",
    "# df_gpu_laranja = pd.concat([df_gpu_laranja, df_parsed], axis=1)"
   ]
  },
  {
   "cell_type": "code",
   "execution_count": 54,
   "metadata": {},
   "outputs": [],
   "source": [
    "import ast\n",
    "\n",
    "# Supondo que 'df' seja seu DataFrame e substituindo 'None' com np.nan\n",
    "df_gpu['oferta'].replace('None', np.nan, inplace=True)\n",
    "\n",
    "# Função para extrair valores do JSON\n",
    "def parse_json(data):\n",
    "    try:\n",
    "        j = ast.literal_eval(data)\n",
    "        if j:\n",
    "            return j[0]\n",
    "        else:\n",
    "            return {}\n",
    "    except:\n",
    "        return {}\n",
    "\n",
    "# Aplicando a função de parse e criando um novo DataFrame com as colunas parseadas\n",
    "df_oferta = df_gpu['oferta'].apply(parse_json).apply(pd.Series)\n",
    "\n",
    "# Renomeando as colunas parseadas\n",
    "df_oferta.columns = [f'promo_{col}' for col in df_oferta.columns]\n",
    "\n",
    "# Concatenando o DataFrame original com as colunas parseadas\n",
    "df = pd.concat([df_gpu, df_oferta], axis=1)"
   ]
  },
  {
   "cell_type": "code",
   "execution_count": 78,
   "metadata": {},
   "outputs": [
    {
     "data": {
      "text/html": [
       "<div>\n",
       "<style scoped>\n",
       "    .dataframe tbody tr th:only-of-type {\n",
       "        vertical-align: middle;\n",
       "    }\n",
       "\n",
       "    .dataframe tbody tr th {\n",
       "        vertical-align: top;\n",
       "    }\n",
       "\n",
       "    .dataframe thead th {\n",
       "        text-align: right;\n",
       "    }\n",
       "</style>\n",
       "<table border=\"1\" class=\"dataframe\">\n",
       "  <thead>\n",
       "    <tr style=\"text-align: right;\">\n",
       "      <th></th>\n",
       "      <th>ds_marca</th>\n",
       "      <th>ds_nome_produto</th>\n",
       "      <th>vl_preco_atual</th>\n",
       "      <th>vl_preco_com_desconto</th>\n",
       "      <th>vl_porcentagem_do_desconto</th>\n",
       "      <th>qt_quantidade_estoque</th>\n",
       "      <th>oferta</th>\n",
       "      <th>ds_disponibilidade</th>\n",
       "      <th>loja</th>\n",
       "      <th>dt_carga</th>\n",
       "      <th>data</th>\n",
       "      <th>ds_nome_produto_resumido</th>\n",
       "      <th>promo_ds_oferta_nome</th>\n",
       "      <th>promo_vl_oferta_preco_atual</th>\n",
       "      <th>promo_vl_oferta_preco_com_desconto</th>\n",
       "      <th>promo_vl_oferta_porcentagem_do_desconto</th>\n",
       "    </tr>\n",
       "  </thead>\n",
       "  <tbody>\n",
       "    <tr>\n",
       "      <th>357566</th>\n",
       "      <td>Gigabyte</td>\n",
       "      <td>PLACA DE VÍDEO GIGABYTE GEFORCE GTX 1650 D6 OC 4GB, GDDR6, 128BITS - GVN1656OC4GD REV 2.0</td>\n",
       "      <td>2260.61</td>\n",
       "      <td>2034.55</td>\n",
       "      <td>10.0</td>\n",
       "      <td>0</td>\n",
       "      <td>NaN</td>\n",
       "      <td>True</td>\n",
       "      <td>Loja Laranja</td>\n",
       "      <td>2022-12-01 22:01:39.701577+00:00</td>\n",
       "      <td>2022-12-01</td>\n",
       "      <td>GTX 1650</td>\n",
       "      <td>NaN</td>\n",
       "      <td>NaN</td>\n",
       "      <td>NaN</td>\n",
       "      <td>NaN</td>\n",
       "    </tr>\n",
       "    <tr>\n",
       "      <th>229545</th>\n",
       "      <td>Asus</td>\n",
       "      <td>PLACA DE VIDEO ASUS GEFORCE GTX 950 OC 2GB GDDR5 ROG STRIX 128-BIT, STRIX-GTX950-DC2OC-2GD5-GAMING</td>\n",
       "      <td>771.60</td>\n",
       "      <td>771.60</td>\n",
       "      <td>12.0</td>\n",
       "      <td>&lt;NA&gt;</td>\n",
       "      <td>NaN</td>\n",
       "      <td>False</td>\n",
       "      <td>Loja Vermelha</td>\n",
       "      <td>2022-11-07 22:01:52.067517+00:00</td>\n",
       "      <td>2022-11-07</td>\n",
       "      <td>GTX 950</td>\n",
       "      <td>NaN</td>\n",
       "      <td>NaN</td>\n",
       "      <td>NaN</td>\n",
       "      <td>NaN</td>\n",
       "    </tr>\n",
       "    <tr>\n",
       "      <th>1084998</th>\n",
       "      <td>Sapphire</td>\n",
       "      <td>PLACA DE VIDEO SAPPHIRE RADEON RX 460 4GB GDDR5 NITRO OC 128-BIT, 11257-02-20G</td>\n",
       "      <td>646.61</td>\n",
       "      <td>646.61</td>\n",
       "      <td>12.0</td>\n",
       "      <td>&lt;NA&gt;</td>\n",
       "      <td>NaN</td>\n",
       "      <td>False</td>\n",
       "      <td>Loja Vermelha</td>\n",
       "      <td>2023-04-08 22:01:29.306394+00:00</td>\n",
       "      <td>2023-04-08</td>\n",
       "      <td>RX 460</td>\n",
       "      <td>NaN</td>\n",
       "      <td>NaN</td>\n",
       "      <td>NaN</td>\n",
       "      <td>NaN</td>\n",
       "    </tr>\n",
       "    <tr>\n",
       "      <th>708907</th>\n",
       "      <td>Asus</td>\n",
       "      <td>PLACA DE VIDEO ASUS GEFORCE RTX 2060 DUAL OC EDITION 6GB GDDR6 192-BIT, DUAL-RTX2060-O6G-EVO</td>\n",
       "      <td>2549.02</td>\n",
       "      <td>2176.46</td>\n",
       "      <td>12.0</td>\n",
       "      <td>&lt;NA&gt;</td>\n",
       "      <td>[{'ds_oferta_nome': 'Ferias', 'vl_oferta_preco_atual': 2549.02, 'vl_oferta_preco_com_desconto': 2176.46, 'vl_oferta_porcentagem_do_desconto': 14.62}]</td>\n",
       "      <td>True</td>\n",
       "      <td>Loja Vermelha</td>\n",
       "      <td>2023-02-02 22:01:34.630842+00:00</td>\n",
       "      <td>2023-02-02</td>\n",
       "      <td>RTX 2060</td>\n",
       "      <td>Ferias</td>\n",
       "      <td>2549.02</td>\n",
       "      <td>2176.46</td>\n",
       "      <td>14.62</td>\n",
       "    </tr>\n",
       "    <tr>\n",
       "      <th>1089845</th>\n",
       "      <td>Zotac</td>\n",
       "      <td>PLACA DE VÍDEO ZOTAC NVIDIA GEFORCE RTX 3070 TWIN EDGE OC, 8GB GDDR6 - ZT-A30700H-10P</td>\n",
       "      <td>10857.90</td>\n",
       "      <td>10857.90</td>\n",
       "      <td>0.0</td>\n",
       "      <td>0</td>\n",
       "      <td>NaN</td>\n",
       "      <td>True</td>\n",
       "      <td>Loja Laranja</td>\n",
       "      <td>2023-04-09 22:01:49.670300+00:00</td>\n",
       "      <td>2023-04-09</td>\n",
       "      <td>RTX 3070</td>\n",
       "      <td>NaN</td>\n",
       "      <td>NaN</td>\n",
       "      <td>NaN</td>\n",
       "      <td>NaN</td>\n",
       "    </tr>\n",
       "    <tr>\n",
       "      <th>653926</th>\n",
       "      <td>Gigabyte</td>\n",
       "      <td>PLACA DE VIDEO GIGABYTE GEFORCE GT 210 1GB DDR3 LOW PROFILE 64-BIT GDDR3, GV-N210D3-1GI</td>\n",
       "      <td>159.90</td>\n",
       "      <td>159.90</td>\n",
       "      <td>12.0</td>\n",
       "      <td>&lt;NA&gt;</td>\n",
       "      <td>NaN</td>\n",
       "      <td>False</td>\n",
       "      <td>Loja Vermelha</td>\n",
       "      <td>2023-01-23 22:01:46.827208+00:00</td>\n",
       "      <td>2023-01-23</td>\n",
       "      <td>GT 210</td>\n",
       "      <td>NaN</td>\n",
       "      <td>NaN</td>\n",
       "      <td>NaN</td>\n",
       "      <td>NaN</td>\n",
       "    </tr>\n",
       "    <tr>\n",
       "      <th>708525</th>\n",
       "      <td>ASRock</td>\n",
       "      <td>PLACA DE VÍDEO RX 550 ASROCK AMD RADEON PHANTOM GAMING, 2GB GDDR5 - 90-GA0500-00UANF</td>\n",
       "      <td>1089.66</td>\n",
       "      <td>926.21</td>\n",
       "      <td>15.0</td>\n",
       "      <td>0</td>\n",
       "      <td>[{'ds_oferta_nome': 'Prime', 'vl_oferta_preco_atual': 1056.97, 'vl_oferta_preco_com_desconto': 898.42, 'vl_oferta_porcentagem_do_desconto': 3}]</td>\n",
       "      <td>True</td>\n",
       "      <td>Loja Laranja</td>\n",
       "      <td>2023-02-02 22:01:34.630842+00:00</td>\n",
       "      <td>2023-02-02</td>\n",
       "      <td>RX 550</td>\n",
       "      <td>Prime</td>\n",
       "      <td>1056.97</td>\n",
       "      <td>898.42</td>\n",
       "      <td>3.00</td>\n",
       "    </tr>\n",
       "    <tr>\n",
       "      <th>293611</th>\n",
       "      <td>Galax</td>\n",
       "      <td>PLACA DE VIDEO GALAX GEFORCE RTX 2080 SUPER EX 8GB GDDR6 1-CLICK OC 256-BIT, 28ISL6MDU9EX</td>\n",
       "      <td>4449.00</td>\n",
       "      <td>4449.00</td>\n",
       "      <td>12.0</td>\n",
       "      <td>&lt;NA&gt;</td>\n",
       "      <td>NaN</td>\n",
       "      <td>False</td>\n",
       "      <td>Loja Vermelha</td>\n",
       "      <td>2022-11-19 22:01:54.279758+00:00</td>\n",
       "      <td>2022-11-19</td>\n",
       "      <td>RTX 2080 SUPER</td>\n",
       "      <td>NaN</td>\n",
       "      <td>NaN</td>\n",
       "      <td>NaN</td>\n",
       "      <td>NaN</td>\n",
       "    </tr>\n",
       "    <tr>\n",
       "      <th>670579</th>\n",
       "      <td>Gigabyte</td>\n",
       "      <td>PLACA DE VIDEO GIGABYTE GEFORCE RTX 2070 8GB GDDR6 OC WHITE 256-BIT, GV-N2070GAMINGOC WHITE-8GC</td>\n",
       "      <td>3351.10</td>\n",
       "      <td>3351.10</td>\n",
       "      <td>12.0</td>\n",
       "      <td>&lt;NA&gt;</td>\n",
       "      <td>NaN</td>\n",
       "      <td>False</td>\n",
       "      <td>Loja Vermelha</td>\n",
       "      <td>2023-01-26 22:01:37.436107+00:00</td>\n",
       "      <td>2023-01-26</td>\n",
       "      <td>RTX 2070</td>\n",
       "      <td>NaN</td>\n",
       "      <td>NaN</td>\n",
       "      <td>NaN</td>\n",
       "      <td>NaN</td>\n",
       "    </tr>\n",
       "    <tr>\n",
       "      <th>229525</th>\n",
       "      <td>Gigabyte</td>\n",
       "      <td>PLACA DE VIDEO GIGABYTE GEFORCE GTX 1060 3GB GDDR5 G1 GAMING WINDFORCE 192-BIT, GV-N1060WF2OC-3GD</td>\n",
       "      <td>1278.39</td>\n",
       "      <td>1278.39</td>\n",
       "      <td>12.0</td>\n",
       "      <td>&lt;NA&gt;</td>\n",
       "      <td>NaN</td>\n",
       "      <td>False</td>\n",
       "      <td>Loja Vermelha</td>\n",
       "      <td>2022-11-07 22:01:52.067517+00:00</td>\n",
       "      <td>2022-11-07</td>\n",
       "      <td>GTX 1060</td>\n",
       "      <td>NaN</td>\n",
       "      <td>NaN</td>\n",
       "      <td>NaN</td>\n",
       "      <td>NaN</td>\n",
       "    </tr>\n",
       "  </tbody>\n",
       "</table>\n",
       "</div>"
      ],
      "text/plain": [
       "         ds_marca  \\\n",
       "357566   Gigabyte   \n",
       "229545       Asus   \n",
       "1084998  Sapphire   \n",
       "708907       Asus   \n",
       "1089845     Zotac   \n",
       "653926   Gigabyte   \n",
       "708525     ASRock   \n",
       "293611      Galax   \n",
       "670579   Gigabyte   \n",
       "229525   Gigabyte   \n",
       "\n",
       "                                                                                            ds_nome_produto  \\\n",
       "357566            PLACA DE VÍDEO GIGABYTE GEFORCE GTX 1650 D6 OC 4GB, GDDR6, 128BITS - GVN1656OC4GD REV 2.0   \n",
       "229545   PLACA DE VIDEO ASUS GEFORCE GTX 950 OC 2GB GDDR5 ROG STRIX 128-BIT, STRIX-GTX950-DC2OC-2GD5-GAMING   \n",
       "1084998                      PLACA DE VIDEO SAPPHIRE RADEON RX 460 4GB GDDR5 NITRO OC 128-BIT, 11257-02-20G   \n",
       "708907         PLACA DE VIDEO ASUS GEFORCE RTX 2060 DUAL OC EDITION 6GB GDDR6 192-BIT, DUAL-RTX2060-O6G-EVO   \n",
       "1089845               PLACA DE VÍDEO ZOTAC NVIDIA GEFORCE RTX 3070 TWIN EDGE OC, 8GB GDDR6 - ZT-A30700H-10P   \n",
       "653926              PLACA DE VIDEO GIGABYTE GEFORCE GT 210 1GB DDR3 LOW PROFILE 64-BIT GDDR3, GV-N210D3-1GI   \n",
       "708525                 PLACA DE VÍDEO RX 550 ASROCK AMD RADEON PHANTOM GAMING, 2GB GDDR5 - 90-GA0500-00UANF   \n",
       "293611            PLACA DE VIDEO GALAX GEFORCE RTX 2080 SUPER EX 8GB GDDR6 1-CLICK OC 256-BIT, 28ISL6MDU9EX   \n",
       "670579      PLACA DE VIDEO GIGABYTE GEFORCE RTX 2070 8GB GDDR6 OC WHITE 256-BIT, GV-N2070GAMINGOC WHITE-8GC   \n",
       "229525    PLACA DE VIDEO GIGABYTE GEFORCE GTX 1060 3GB GDDR5 G1 GAMING WINDFORCE 192-BIT, GV-N1060WF2OC-3GD   \n",
       "\n",
       "         vl_preco_atual  vl_preco_com_desconto  vl_porcentagem_do_desconto  \\\n",
       "357566          2260.61                2034.55                        10.0   \n",
       "229545           771.60                 771.60                        12.0   \n",
       "1084998          646.61                 646.61                        12.0   \n",
       "708907          2549.02                2176.46                        12.0   \n",
       "1089845        10857.90               10857.90                         0.0   \n",
       "653926           159.90                 159.90                        12.0   \n",
       "708525          1089.66                 926.21                        15.0   \n",
       "293611          4449.00                4449.00                        12.0   \n",
       "670579          3351.10                3351.10                        12.0   \n",
       "229525          1278.39                1278.39                        12.0   \n",
       "\n",
       "         qt_quantidade_estoque  \\\n",
       "357566                       0   \n",
       "229545                    <NA>   \n",
       "1084998                   <NA>   \n",
       "708907                    <NA>   \n",
       "1089845                      0   \n",
       "653926                    <NA>   \n",
       "708525                       0   \n",
       "293611                    <NA>   \n",
       "670579                    <NA>   \n",
       "229525                    <NA>   \n",
       "\n",
       "                                                                                                                                                        oferta  \\\n",
       "357566                                                                                                                                                     NaN   \n",
       "229545                                                                                                                                                     NaN   \n",
       "1084998                                                                                                                                                    NaN   \n",
       "708907   [{'ds_oferta_nome': 'Ferias', 'vl_oferta_preco_atual': 2549.02, 'vl_oferta_preco_com_desconto': 2176.46, 'vl_oferta_porcentagem_do_desconto': 14.62}]   \n",
       "1089845                                                                                                                                                    NaN   \n",
       "653926                                                                                                                                                     NaN   \n",
       "708525         [{'ds_oferta_nome': 'Prime', 'vl_oferta_preco_atual': 1056.97, 'vl_oferta_preco_com_desconto': 898.42, 'vl_oferta_porcentagem_do_desconto': 3}]   \n",
       "293611                                                                                                                                                     NaN   \n",
       "670579                                                                                                                                                     NaN   \n",
       "229525                                                                                                                                                     NaN   \n",
       "\n",
       "         ds_disponibilidade           loja                         dt_carga  \\\n",
       "357566                 True   Loja Laranja 2022-12-01 22:01:39.701577+00:00   \n",
       "229545                False  Loja Vermelha 2022-11-07 22:01:52.067517+00:00   \n",
       "1084998               False  Loja Vermelha 2023-04-08 22:01:29.306394+00:00   \n",
       "708907                 True  Loja Vermelha 2023-02-02 22:01:34.630842+00:00   \n",
       "1089845                True   Loja Laranja 2023-04-09 22:01:49.670300+00:00   \n",
       "653926                False  Loja Vermelha 2023-01-23 22:01:46.827208+00:00   \n",
       "708525                 True   Loja Laranja 2023-02-02 22:01:34.630842+00:00   \n",
       "293611                False  Loja Vermelha 2022-11-19 22:01:54.279758+00:00   \n",
       "670579                False  Loja Vermelha 2023-01-26 22:01:37.436107+00:00   \n",
       "229525                False  Loja Vermelha 2022-11-07 22:01:52.067517+00:00   \n",
       "\n",
       "               data ds_nome_produto_resumido promo_ds_oferta_nome  \\\n",
       "357566   2022-12-01                 GTX 1650                  NaN   \n",
       "229545   2022-11-07                  GTX 950                  NaN   \n",
       "1084998  2023-04-08                   RX 460                  NaN   \n",
       "708907   2023-02-02                 RTX 2060               Ferias   \n",
       "1089845  2023-04-09                 RTX 3070                  NaN   \n",
       "653926   2023-01-23                   GT 210                  NaN   \n",
       "708525   2023-02-02                   RX 550                Prime   \n",
       "293611   2022-11-19           RTX 2080 SUPER                  NaN   \n",
       "670579   2023-01-26                 RTX 2070                  NaN   \n",
       "229525   2022-11-07                 GTX 1060                  NaN   \n",
       "\n",
       "         promo_vl_oferta_preco_atual  promo_vl_oferta_preco_com_desconto  \\\n",
       "357566                           NaN                                 NaN   \n",
       "229545                           NaN                                 NaN   \n",
       "1084998                          NaN                                 NaN   \n",
       "708907                       2549.02                             2176.46   \n",
       "1089845                          NaN                                 NaN   \n",
       "653926                           NaN                                 NaN   \n",
       "708525                       1056.97                              898.42   \n",
       "293611                           NaN                                 NaN   \n",
       "670579                           NaN                                 NaN   \n",
       "229525                           NaN                                 NaN   \n",
       "\n",
       "         promo_vl_oferta_porcentagem_do_desconto  \n",
       "357566                                       NaN  \n",
       "229545                                       NaN  \n",
       "1084998                                      NaN  \n",
       "708907                                     14.62  \n",
       "1089845                                      NaN  \n",
       "653926                                       NaN  \n",
       "708525                                      3.00  \n",
       "293611                                       NaN  \n",
       "670579                                       NaN  \n",
       "229525                                       NaN  "
      ]
     },
     "execution_count": 78,
     "metadata": {},
     "output_type": "execute_result"
    }
   ],
   "source": [
    "df.sample(10)"
   ]
  },
  {
   "cell_type": "code",
   "execution_count": 15,
   "metadata": {},
   "outputs": [
    {
     "data": {
      "text/plain": [
       "[{'ds_oferta_nome': 'Prime',\n",
       "  'vl_oferta_preco_atual': 1341.16,\n",
       "  'vl_oferta_preco_com_desconto': 1139.99,\n",
       "  'vl_oferta_porcentagem_do_desconto': 5}]"
      ]
     },
     "execution_count": 15,
     "metadata": {},
     "output_type": "execute_result"
    }
   ],
   "source": [
    "teste = df_gpu_laranja.loc[1257321][\"oferta\"]\n",
    "teste\n",
    "\n",
    "j = json.loads('[{\"ds_oferta_nome\": \"Prime\", \"vl_oferta_preco_atual\": 1341.16, \"vl_oferta_preco_com_desconto\": 1139.99, \"vl_oferta_porcentagem_do_desconto\": 5}]')\n",
    "\n",
    "j\n",
    "# df_gpu_laranja['oferta'].apply(parse_json)"
   ]
  },
  {
   "attachments": {},
   "cell_type": "markdown",
   "metadata": {},
   "source": [
    "Produtos que mais apresentaram variação do preço base ao longo do tempo"
   ]
  },
  {
   "cell_type": "code",
   "execution_count": 16,
   "metadata": {},
   "outputs": [
    {
     "data": {
      "image/png": "[encoded data removed]",
      "text/plain": [
       "<Figure size 1200x800 with 4 Axes>"
      ]
     },
     "metadata": {},
     "output_type": "display_data"
    }
   ],
   "source": [
    "query_dif = df_gpu.sort_values('data').set_index('data').groupby(['ds_nome_produto', \"loja\"]).apply(lambda x: x['vl_preco_atual'].diff()).reset_index().nlargest(4, \"vl_preco_atual\")\n",
    "fig, axes = plt.subplots(4)\n",
    "sns.set(rc={'figure.figsize':(12,8)})\n",
    "\n",
    "graph_1 = df_gpu.query(f\"\"\" ds_nome_produto == \"{query_dif.iloc[0].ds_nome_produto}\" and loja == \"{query_dif.iloc[0].loja}\" \"\"\")\n",
    "graph_2 = df_gpu.query(f\"\"\" ds_nome_produto == \"{query_dif.iloc[1].ds_nome_produto}\" and loja == \"{query_dif.iloc[1].loja}\" \"\"\")\n",
    "graph_3 = df_gpu.query(f\"\"\" ds_nome_produto == \"{query_dif.iloc[2].ds_nome_produto}\" and loja == \"{query_dif.iloc[2].loja}\" \"\"\")\n",
    "graph_4 = df_gpu.query(f\"\"\" ds_nome_produto == \"{query_dif.iloc[3].ds_nome_produto}\" and loja == \"{query_dif.iloc[3].loja}\" \"\"\")\n",
    "\n",
    "sns.lineplot(x=\"data\", y=\"vl_preco_atual\", data=graph_1, label=f\"{query_dif.iloc[0].ds_nome_produto}\", ax=axes[0])\n",
    "sns.lineplot(x=\"data\", y=\"vl_preco_atual\", data=graph_2, label=f\"{query_dif.iloc[1].ds_nome_produto}\", ax=axes[1])\n",
    "sns.lineplot(x=\"data\", y=\"vl_preco_atual\", data=graph_3, label=f\"{query_dif.iloc[2].ds_nome_produto}\", ax=axes[2])\n",
    "sns.lineplot(x=\"data\", y=\"vl_preco_atual\", data=graph_4, label=f\"{query_dif.iloc[3].ds_nome_produto}\", ax=axes[3]);\n"
   ]
  },
  {
   "attachments": {},
   "cell_type": "markdown",
   "metadata": {},
   "source": [
    "Qual marca possui produtos mais caros?\n",
    "<p>É importante levar em consideração que muitas marcas podem não possuir os mesmos tipos de produtos, como por exemplo alguma marca não vender modelos de séries mais caras. Esse fator pode influenciar no valor total somado.</p>\n",
    "<p>Por isso, o mais indicado seria uma comparação levando em consideração produtos do mesmo patamar, utilizando o campo ds_nome_produto_resumido para agrupar essas classes</p>"
   ]
  },
  {
   "cell_type": "code",
   "execution_count": 41,
   "metadata": {},
   "outputs": [
    {
     "data": {
      "application/vnd.plotly.v1+json": {
       "config": {
        "plotlyServerURL": "https://plot.ly"
       },
       "data": [
        {
         "branchvalues": "total",
         "domain": {
          "x": [
           0,
           1
          ],
          "y": [
           0,
           1
          ]
         },
         "hovertemplate": "labels=%{label}<br>vl_preco_atual=%{value}<br>parent=%{parent}<br>id=%{id}<extra></extra>",
         "ids": [
          "Loja Laranja/5TECHPC",
          "Loja Vermelha/AFOX",
          "Loja Vermelha/AMD",
          "Loja Laranja/ASRock",
          "Loja Laranja/Afox",
          "Loja Laranja/Amd",
          "Loja Laranja/Aorus",
          "Loja Laranja/Arktek",
          "Loja Vermelha/AsRock",
          "Loja Laranja/Asus",
          "Loja Vermelha/Asus",
          "Loja Laranja/Axle",
          "Loja Laranja/Barrow",
          "Loja Laranja/Biostar",
          "Loja Laranja/Bluecase",
          "Loja Laranja/Brazil PC",
          "Loja Laranja/Colorful",
          "Loja Laranja/DEX",
          "Loja Laranja/Duex",
          "Loja Vermelha/Duex",
          "Loja Vermelha/EVGA",
          "Loja Vermelha/Enzatec",
          "Loja Laranja/Evga",
          "Loja Laranja/GOLINE",
          "Loja Laranja/Gainward",
          "Loja Vermelha/Gainward",
          "Loja Laranja/Galax",
          "Loja Vermelha/Galax",
          "Loja Laranja/Genérica",
          "Loja Laranja/Gibayte",
          "Loja Laranja/Gigabyte",
          "Loja Vermelha/Gigabyte",
          "Loja Laranja/Inno 3d",
          "Loja Laranja/Knup",
          "Loja Laranja/MSI",
          "Loja Vermelha/MSI",
          "Loja Vermelha/Mancer",
          "Loja Laranja/NEOLOGIC",
          "Loja Laranja/Nvidia",
          "Loja Laranja/OFICINA DOS BITS",
          "Loja Laranja/Outros",
          "Loja Laranja/PALIT",
          "Loja Laranja/PCWINMAX",
          "Loja Laranja/PCYES",
          "Loja Vermelha/PCYES!",
          "Loja Vermelha/PNY",
          "Loja Laranja/PNY Technologies",
          "Loja Laranja/Pny",
          "Loja Laranja/Point",
          "Loja Laranja/Power Color",
          "Loja Vermelha/PowerColor",
          "Loja Laranja/Powercolor",
          "Loja Laranja/Sapphire",
          "Loja Vermelha/Sapphire",
          "Loja Laranja/XFX",
          "Loja Vermelha/XFX",
          "Loja Vermelha/ZOGIS",
          "Loja Laranja/Zotac",
          "Loja Vermelha/Zotac",
          "Loja Laranja/imperiums",
          "Loja Laranja",
          "Loja Vermelha"
         ],
         "labels": [
          "5TECHPC",
          "AFOX",
          "AMD",
          "ASRock",
          "Afox",
          "Amd",
          "Aorus",
          "Arktek",
          "AsRock",
          "Asus",
          "Asus",
          "Axle",
          "Barrow",
          "Biostar",
          "Bluecase",
          "Brazil PC",
          "Colorful",
          "DEX",
          "Duex",
          "Duex",
          "EVGA",
          "Enzatec",
          "Evga",
          "GOLINE",
          "Gainward",
          "Gainward",
          "Galax",
          "Galax",
          "Genérica",
          "Gibayte",
          "Gigabyte",
          "Gigabyte",
          "Inno 3d",
          "Knup",
          "MSI",
          "MSI",
          "Mancer",
          "NEOLOGIC",
          "Nvidia",
          "OFICINA DOS BITS",
          "Outros",
          "PALIT",
          "PCWINMAX",
          "PCYES",
          "PCYES!",
          "PNY",
          "PNY Technologies",
          "Pny",
          "Point",
          "Power Color",
          "PowerColor",
          "Powercolor",
          "Sapphire",
          "Sapphire",
          "XFX",
          "XFX",
          "ZOGIS",
          "Zotac",
          "Zotac",
          "imperiums",
          "Loja Laranja",
          "Loja Vermelha"
         ],
         "name": "",
         "parents": [
          "Loja Laranja",
          "Loja Vermelha",
          "Loja Vermelha",
          "Loja Laranja",
          "Loja Laranja",
          "Loja Laranja",
          "Loja Laranja",
          "Loja Laranja",
          "Loja Vermelha",
          "Loja Laranja",
          "Loja Vermelha",
          "Loja Laranja",
          "Loja Laranja",
          "Loja Laranja",
          "Loja Laranja",
          "Loja Laranja",
          "Loja Laranja",
          "Loja Laranja",
          "Loja Laranja",
          "Loja Vermelha",
          "Loja Vermelha",
          "Loja Vermelha",
          "Loja Laranja",
          "Loja Laranja",
          "Loja Laranja",
          "Loja Vermelha",
          "Loja Laranja",
          "Loja Vermelha",
          "Loja Laranja",
          "Loja Laranja",
          "Loja Laranja",
          "Loja Vermelha",
          "Loja Laranja",
          "Loja Laranja",
          "Loja Laranja",
          "Loja Vermelha",
          "Loja Vermelha",
          "Loja Laranja",
          "Loja Laranja",
          "Loja Laranja",
          "Loja Laranja",
          "Loja Laranja",
          "Loja Laranja",
          "Loja Laranja",
          "Loja Vermelha",
          "Loja Vermelha",
          "Loja Laranja",
          "Loja Laranja",
          "Loja Laranja",
          "Loja Laranja",
          "Loja Vermelha",
          "Loja Laranja",
          "Loja Laranja",
          "Loja Vermelha",
          "Loja Laranja",
          "Loja Vermelha",
          "Loja Vermelha",
          "Loja Laranja",
          "Loja Vermelha",
          "Loja Laranja",
          "",
          ""
         ],
         "type": "treemap",
         "values": [
          47239.5,
          1342920.96,
          1045448.49,
          5161722.33,
          8198785.85,
          2415653.4,
          1293952.55,
          75600,
          16387056.17,
          90038432.91,
          130372908.74,
          297408,
          302830,
          132298.95,
          510840,
          44236.22,
          15580176.67,
          226334.95,
          1013254.4,
          847067.28,
          33997698.71,
          152155.72,
          24531997.82,
          148813.9,
          26374184.24,
          11403555.35,
          38179604.91,
          65902893.7,
          422212.78,
          224228.80000000002,
          57904803.49,
          141245993.79,
          80236.59,
          377844.24,
          36546496.62,
          77679753.38,
          2252286.19,
          30668.82,
          4113066.4699999997,
          362247.89999999997,
          2586232.91,
          23220114.55,
          72557.19,
          9341163.55,
          1818766.67,
          31596990.05,
          1584228.51,
          28177380.32,
          442.24,
          3033824.79,
          14394494.73,
          10641497.18,
          8564549.58,
          28736762.14,
          11744929.03,
          13706367.42,
          186114.82,
          26111197.47,
          44681997.94,
          163651.95,
          439876941.58,
          617751232.25
         ]
        }
       ],
       "layout": {
        "legend": {
         "tracegroupgap": 0
        },
        "margin": {
         "t": 60
        },
        "template": {
         "data": {
          "bar": [
           {
            "error_x": {
             "color": "#2a3f5f"
            },
            "error_y": {
             "color": "#2a3f5f"
            },
            "marker": {
             "line": {
              "color": "#E5ECF6",
              "width": 0.5
             },
             "pattern": {
              "fillmode": "overlay",
              "size": 10,
              "solidity": 0.2
             }
            },
            "type": "bar"
           }
          ],
          "barpolar": [
           {
            "marker": {
             "line": {
              "color": "#E5ECF6",
              "width": 0.5
             },
             "pattern": {
              "fillmode": "overlay",
              "size": 10,
              "solidity": 0.2
             }
            },
            "type": "barpolar"
           }
          ],
          "carpet": [
           {
            "aaxis": {
             "endlinecolor": "#2a3f5f",
             "gridcolor": "white",
             "linecolor": "white",
             "minorgridcolor": "white",
             "startlinecolor": "#2a3f5f"
            },
            "baxis": {
             "endlinecolor": "#2a3f5f",
             "gridcolor": "white",
             "linecolor": "white",
             "minorgridcolor": "white",
             "startlinecolor": "#2a3f5f"
            },
            "type": "carpet"
           }
          ],
          "choropleth": [
           {
            "colorbar": {
             "outlinewidth": 0,
             "ticks": ""
            },
            "type": "choropleth"
           }
          ],
          "contour": [
           {
            "colorbar": {
             "outlinewidth": 0,
             "ticks": ""
            },
            "colorscale": [
             [
              0,
              "#0d0887"
             ],
             [
              0.1111111111111111,
              "#46039f"
             ],
             [
              0.2222222222222222,
              "#7201a8"
             ],
             [
              0.3333333333333333,
              "#9c179e"
             ],
             [
              0.4444444444444444,
              "#bd3786"
             ],
             [
              0.5555555555555556,
              "#d8576b"
             ],
             [
              0.6666666666666666,
              "#ed7953"
             ],
             [
              0.7777777777777778,
              "#fb9f3a"
             ],
             [
              0.8888888888888888,
              "#fdca26"
             ],
             [
              1,
              "#f0f921"
             ]
            ],
            "type": "contour"
           }
          ],
          "contourcarpet": [
           {
            "colorbar": {
             "outlinewidth": 0,
             "ticks": ""
            },
            "type": "contourcarpet"
           }
          ],
          "heatmap": [
           {
            "colorbar": {
             "outlinewidth": 0,
             "ticks": ""
            },
            "colorscale": [
             [
              0,
              "#0d0887"
             ],
             [
              0.1111111111111111,
              "#46039f"
             ],
             [
              0.2222222222222222,
              "#7201a8"
             ],
             [
              0.3333333333333333,
              "#9c179e"
             ],
             [
              0.4444444444444444,
              "#bd3786"
             ],
             [
              0.5555555555555556,
              "#d8576b"
             ],
             [
              0.6666666666666666,
              "#ed7953"
             ],
             [
              0.7777777777777778,
              "#fb9f3a"
             ],
             [
              0.8888888888888888,
              "#fdca26"
             ],
             [
              1,
              "#f0f921"
             ]
            ],
            "type": "heatmap"
           }
          ],
          "heatmapgl": [
           {
            "colorbar": {
             "outlinewidth": 0,
             "ticks": ""
            },
            "colorscale": [
             [
              0,
              "#0d0887"
             ],
             [
              0.1111111111111111,
              "#46039f"
             ],
             [
              0.2222222222222222,
              "#7201a8"
             ],
             [
              0.3333333333333333,
              "#9c179e"
             ],
             [
              0.4444444444444444,
              "#bd3786"
             ],
             [
              0.5555555555555556,
              "#d8576b"
             ],
             [
              0.6666666666666666,
              "#ed7953"
             ],
             [
              0.7777777777777778,
              "#fb9f3a"
             ],
             [
              0.8888888888888888,
              "#fdca26"
             ],
             [
              1,
              "#f0f921"
             ]
            ],
            "type": "heatmapgl"
           }
          ],
          "histogram": [
           {
            "marker": {
             "pattern": {
              "fillmode": "overlay",
              "size": 10,
              "solidity": 0.2
             }
            },
            "type": "histogram"
           }
          ],
          "histogram2d": [
           {
            "colorbar": {
             "outlinewidth": 0,
             "ticks": ""
            },
            "colorscale": [
             [
              0,
              "#0d0887"
             ],
             [
              0.1111111111111111,
              "#46039f"
             ],
             [
              0.2222222222222222,
              "#7201a8"
             ],
             [
              0.3333333333333333,
              "#9c179e"
             ],
             [
              0.4444444444444444,
              "#bd3786"
             ],
             [
              0.5555555555555556,
              "#d8576b"
             ],
             [
              0.6666666666666666,
              "#ed7953"
             ],
             [
              0.7777777777777778,
              "#fb9f3a"
             ],
             [
              0.8888888888888888,
              "#fdca26"
             ],
             [
              1,
              "#f0f921"
             ]
            ],
            "type": "histogram2d"
           }
          ],
          "histogram2dcontour": [
           {
            "colorbar": {
             "outlinewidth": 0,
             "ticks": ""
            },
            "colorscale": [
             [
              0,
              "#0d0887"
             ],
             [
              0.1111111111111111,
              "#46039f"
             ],
             [
              0.2222222222222222,
              "#7201a8"
             ],
             [
              0.3333333333333333,
              "#9c179e"
             ],
             [
              0.4444444444444444,
              "#bd3786"
             ],
             [
              0.5555555555555556,
              "#d8576b"
             ],
             [
              0.6666666666666666,
              "#ed7953"
             ],
             [
              0.7777777777777778,
              "#fb9f3a"
             ],
             [
              0.8888888888888888,
              "#fdca26"
             ],
             [
              1,
              "#f0f921"
             ]
            ],
            "type": "histogram2dcontour"
           }
          ],
          "mesh3d": [
           {
            "colorbar": {
             "outlinewidth": 0,
             "ticks": ""
            },
            "type": "mesh3d"
           }
          ],
          "parcoords": [
           {
            "line": {
             "colorbar": {
              "outlinewidth": 0,
              "ticks": ""
             }
            },
            "type": "parcoords"
           }
          ],
          "pie": [
           {
            "automargin": true,
            "type": "pie"
           }
          ],
          "scatter": [
           {
            "fillpattern": {
             "fillmode": "overlay",
             "size": 10,
             "solidity": 0.2
            },
            "type": "scatter"
           }
          ],
          "scatter3d": [
           {
            "line": {
             "colorbar": {
              "outlinewidth": 0,
              "ticks": ""
             }
            },
            "marker": {
             "colorbar": {
              "outlinewidth": 0,
              "ticks": ""
             }
            },
            "type": "scatter3d"
           }
          ],
          "scattercarpet": [
           {
            "marker": {
             "colorbar": {
              "outlinewidth": 0,
              "ticks": ""
             }
            },
            "type": "scattercarpet"
           }
          ],
          "scattergeo": [
           {
            "marker": {
             "colorbar": {
              "outlinewidth": 0,
              "ticks": ""
             }
            },
            "type": "scattergeo"
           }
          ],
          "scattergl": [
           {
            "marker": {
             "colorbar": {
              "outlinewidth": 0,
              "ticks": ""
             }
            },
            "type": "scattergl"
           }
          ],
          "scattermapbox": [
           {
            "marker": {
             "colorbar": {
              "outlinewidth": 0,
              "ticks": ""
             }
            },
            "type": "scattermapbox"
           }
          ],
          "scatterpolar": [
           {
            "marker": {
             "colorbar": {
              "outlinewidth": 0,
              "ticks": ""
             }
            },
            "type": "scatterpolar"
           }
          ],
          "scatterpolargl": [
           {
            "marker": {
             "colorbar": {
              "outlinewidth": 0,
              "ticks": ""
             }
            },
            "type": "scatterpolargl"
           }
          ],
          "scatterternary": [
           {
            "marker": {
             "colorbar": {
              "outlinewidth": 0,
              "ticks": ""
             }
            },
            "type": "scatterternary"
           }
          ],
          "surface": [
           {
            "colorbar": {
             "outlinewidth": 0,
             "ticks": ""
            },
            "colorscale": [
             [
              0,
              "#0d0887"
             ],
             [
              0.1111111111111111,
              "#46039f"
             ],
             [
              0.2222222222222222,
              "#7201a8"
             ],
             [
              0.3333333333333333,
              "#9c179e"
             ],
             [
              0.4444444444444444,
              "#bd3786"
             ],
             [
              0.5555555555555556,
              "#d8576b"
             ],
             [
              0.6666666666666666,
              "#ed7953"
             ],
             [
              0.7777777777777778,
              "#fb9f3a"
             ],
             [
              0.8888888888888888,
              "#fdca26"
             ],
             [
              1,
              "#f0f921"
             ]
            ],
            "type": "surface"
           }
          ],
          "table": [
           {
            "cells": {
             "fill": {
              "color": "#EBF0F8"
             },
             "line": {
              "color": "white"
             }
            },
            "header": {
             "fill": {
              "color": "#C8D4E3"
             },
             "line": {
              "color": "white"
             }
            },
            "type": "table"
           }
          ]
         },
         "layout": {
          "annotationdefaults": {
           "arrowcolor": "#2a3f5f",
           "arrowhead": 0,
           "arrowwidth": 1
          },
          "autotypenumbers": "strict",
          "coloraxis": {
           "colorbar": {
            "outlinewidth": 0,
            "ticks": ""
           }
          },
          "colorscale": {
           "diverging": [
            [
             0,
             "#8e0152"
            ],
            [
             0.1,
             "#c51b7d"
            ],
            [
             0.2,
             "#de77ae"
            ],
            [
             0.3,
             "#f1b6da"
            ],
            [
             0.4,
             "#fde0ef"
            ],
            [
             0.5,
             "#f7f7f7"
            ],
            [
             0.6,
             "#e6f5d0"
            ],
            [
             0.7,
             "#b8e186"
            ],
            [
             0.8,
             "#7fbc41"
            ],
            [
             0.9,
             "#4d9221"
            ],
            [
             1,
             "#276419"
            ]
           ],
           "sequential": [
            [
             0,
             "#0d0887"
            ],
            [
             0.1111111111111111,
             "#46039f"
            ],
            [
             0.2222222222222222,
             "#7201a8"
            ],
            [
             0.3333333333333333,
             "#9c179e"
            ],
            [
             0.4444444444444444,
             "#bd3786"
            ],
            [
             0.5555555555555556,
             "#d8576b"
            ],
            [
             0.6666666666666666,
             "#ed7953"
            ],
            [
             0.7777777777777778,
             "#fb9f3a"
            ],
            [
             0.8888888888888888,
             "#fdca26"
            ],
            [
             1,
             "#f0f921"
            ]
           ],
           "sequentialminus": [
            [
             0,
             "#0d0887"
            ],
            [
             0.1111111111111111,
             "#46039f"
            ],
            [
             0.2222222222222222,
             "#7201a8"
            ],
            [
             0.3333333333333333,
             "#9c179e"
            ],
            [
             0.4444444444444444,
             "#bd3786"
            ],
            [
             0.5555555555555556,
             "#d8576b"
            ],
            [
             0.6666666666666666,
             "#ed7953"
            ],
            [
             0.7777777777777778,
             "#fb9f3a"
            ],
            [
             0.8888888888888888,
             "#fdca26"
            ],
            [
             1,
             "#f0f921"
            ]
           ]
          },
          "colorway": [
           "#636efa",
           "#EF553B",
           "#00cc96",
           "#ab63fa",
           "#FFA15A",
           "#19d3f3",
           "#FF6692",
           "#B6E880",
           "#FF97FF",
           "#FECB52"
          ],
          "font": {
           "color": "#2a3f5f"
          },
          "geo": {
           "bgcolor": "white",
           "lakecolor": "white",
           "landcolor": "#E5ECF6",
           "showlakes": true,
           "showland": true,
           "subunitcolor": "white"
          },
          "hoverlabel": {
           "align": "left"
          },
          "hovermode": "closest",
          "mapbox": {
           "style": "light"
          },
          "paper_bgcolor": "white",
          "plot_bgcolor": "#E5ECF6",
          "polar": {
           "angularaxis": {
            "gridcolor": "white",
            "linecolor": "white",
            "ticks": ""
           },
           "bgcolor": "#E5ECF6",
           "radialaxis": {
            "gridcolor": "white",
            "linecolor": "white",
            "ticks": ""
           }
          },
          "scene": {
           "xaxis": {
            "backgroundcolor": "#E5ECF6",
            "gridcolor": "white",
            "gridwidth": 2,
            "linecolor": "white",
            "showbackground": true,
            "ticks": "",
            "zerolinecolor": "white"
           },
           "yaxis": {
            "backgroundcolor": "#E5ECF6",
            "gridcolor": "white",
            "gridwidth": 2,
            "linecolor": "white",
            "showbackground": true,
            "ticks": "",
            "zerolinecolor": "white"
           },
           "zaxis": {
            "backgroundcolor": "#E5ECF6",
            "gridcolor": "white",
            "gridwidth": 2,
            "linecolor": "white",
            "showbackground": true,
            "ticks": "",
            "zerolinecolor": "white"
           }
          },
          "shapedefaults": {
           "line": {
            "color": "#2a3f5f"
           }
          },
          "ternary": {
           "aaxis": {
            "gridcolor": "white",
            "linecolor": "white",
            "ticks": ""
           },
           "baxis": {
            "gridcolor": "white",
            "linecolor": "white",
            "ticks": ""
           },
           "bgcolor": "#E5ECF6",
           "caxis": {
            "gridcolor": "white",
            "linecolor": "white",
            "ticks": ""
           }
          },
          "title": {
           "x": 0.05
          },
          "xaxis": {
           "automargin": true,
           "gridcolor": "white",
           "linecolor": "white",
           "ticks": "",
           "title": {
            "standoff": 15
           },
           "zerolinecolor": "white",
           "zerolinewidth": 2
          },
          "yaxis": {
           "automargin": true,
           "gridcolor": "white",
           "linecolor": "white",
           "ticks": "",
           "title": {
            "standoff": 15
           },
           "zerolinecolor": "white",
           "zerolinewidth": 2
          }
         }
        }
       }
      }
     },
     "metadata": {},
     "output_type": "display_data"
    }
   ],
   "source": [
    "query_loja_marca = df_gpu.drop_duplicates(keep=\"first\")\n",
    "query_loja_marca = query_loja_marca.groupby([\"loja\", 'ds_marca'])[\"vl_preco_atual\"].sum().to_frame()\n",
    "query_loja_marca = query_loja_marca.reset_index()\n",
    "\n",
    "fig = px.treemap(query_loja_marca, path=['loja', 'ds_marca'],\n",
    "                 values='vl_preco_atual')\n",
    "\n",
    "fig.show()"
   ]
  },
  {
   "cell_type": "code",
   "execution_count": 62,
   "metadata": {},
   "outputs": [
    {
     "data": {
      "text/html": [
       "<div>\n",
       "<style scoped>\n",
       "    .dataframe tbody tr th:only-of-type {\n",
       "        vertical-align: middle;\n",
       "    }\n",
       "\n",
       "    .dataframe tbody tr th {\n",
       "        vertical-align: top;\n",
       "    }\n",
       "\n",
       "    .dataframe thead th {\n",
       "        text-align: right;\n",
       "    }\n",
       "</style>\n",
       "<table border=\"1\" class=\"dataframe\">\n",
       "  <thead>\n",
       "    <tr style=\"text-align: right;\">\n",
       "      <th></th>\n",
       "      <th>loja</th>\n",
       "      <th>ds_nome_produto_resumido</th>\n",
       "      <th>ds_marca</th>\n",
       "      <th>vl_preco_atual</th>\n",
       "    </tr>\n",
       "  </thead>\n",
       "  <tbody>\n",
       "    <tr>\n",
       "      <th>0</th>\n",
       "      <td>Loja Laranja</td>\n",
       "      <td>GT 1030</td>\n",
       "      <td>PCYES</td>\n",
       "      <td>6999.50</td>\n",
       "    </tr>\n",
       "    <tr>\n",
       "      <th>1</th>\n",
       "      <td>Loja Laranja</td>\n",
       "      <td>GT 1030</td>\n",
       "      <td>Galax</td>\n",
       "      <td>6395.00</td>\n",
       "    </tr>\n",
       "    <tr>\n",
       "      <th>2</th>\n",
       "      <td>Loja Laranja</td>\n",
       "      <td>GT 1030</td>\n",
       "      <td>Asus</td>\n",
       "      <td>5995.00</td>\n",
       "    </tr>\n",
       "    <tr>\n",
       "      <th>3</th>\n",
       "      <td>Loja Laranja</td>\n",
       "      <td>GT 1030</td>\n",
       "      <td>Evga</td>\n",
       "      <td>5293.55</td>\n",
       "    </tr>\n",
       "    <tr>\n",
       "      <th>4</th>\n",
       "      <td>Loja Laranja</td>\n",
       "      <td>GT 1030</td>\n",
       "      <td>Gigabyte</td>\n",
       "      <td>4708.90</td>\n",
       "    </tr>\n",
       "    <tr>\n",
       "      <th>...</th>\n",
       "      <td>...</td>\n",
       "      <td>...</td>\n",
       "      <td>...</td>\n",
       "      <td>...</td>\n",
       "    </tr>\n",
       "    <tr>\n",
       "      <th>839</th>\n",
       "      <td>Loja Vermelha</td>\n",
       "      <td>RX 7900 XT</td>\n",
       "      <td>AsRock</td>\n",
       "      <td>52352.90</td>\n",
       "    </tr>\n",
       "    <tr>\n",
       "      <th>840</th>\n",
       "      <td>Loja Vermelha</td>\n",
       "      <td>RX-VEGMLBFX6</td>\n",
       "      <td>XFX</td>\n",
       "      <td>13331.65</td>\n",
       "    </tr>\n",
       "    <tr>\n",
       "      <th>841</th>\n",
       "      <td>Loja Vermelha</td>\n",
       "      <td>RX-VEGMTBFX6</td>\n",
       "      <td>XFX</td>\n",
       "      <td>16430.70</td>\n",
       "    </tr>\n",
       "    <tr>\n",
       "      <th>842</th>\n",
       "      <td>Loja Vermelha</td>\n",
       "      <td>RX-VEGMTSFX6</td>\n",
       "      <td>XFX</td>\n",
       "      <td>16430.70</td>\n",
       "    </tr>\n",
       "    <tr>\n",
       "      <th>843</th>\n",
       "      <td>Loja Vermelha</td>\n",
       "      <td>RX550</td>\n",
       "      <td>Duex</td>\n",
       "      <td>3528.80</td>\n",
       "    </tr>\n",
       "  </tbody>\n",
       "</table>\n",
       "<p>844 rows × 4 columns</p>\n",
       "</div>"
      ],
      "text/plain": [
       "              loja ds_nome_produto_resumido  ds_marca  vl_preco_atual\n",
       "0     Loja Laranja                  GT 1030     PCYES         6999.50\n",
       "1     Loja Laranja                  GT 1030     Galax         6395.00\n",
       "2     Loja Laranja                  GT 1030      Asus         5995.00\n",
       "3     Loja Laranja                  GT 1030      Evga         5293.55\n",
       "4     Loja Laranja                  GT 1030  Gigabyte         4708.90\n",
       "..             ...                      ...       ...             ...\n",
       "839  Loja Vermelha               RX 7900 XT    AsRock        52352.90\n",
       "840  Loja Vermelha             RX-VEGMLBFX6       XFX        13331.65\n",
       "841  Loja Vermelha             RX-VEGMTBFX6       XFX        16430.70\n",
       "842  Loja Vermelha             RX-VEGMTSFX6       XFX        16430.70\n",
       "843  Loja Vermelha                    RX550      Duex         3528.80\n",
       "\n",
       "[844 rows x 4 columns]"
      ]
     },
     "execution_count": 62,
     "metadata": {},
     "output_type": "execute_result"
    }
   ],
   "source": [
    "query_loja_marca = df_gpu.drop_duplicates(keep=\"first\")\n",
    "query_loja_marca = query_loja_marca.groupby([\"loja\", \"ds_nome_produto_resumido\", \"ds_marca\"])[\"vl_preco_atual\"].apply(lambda grp: grp.nlargest(5).sum()).to_frame()\n",
    "query_loja_marca = query_loja_marca.reset_index()\n",
    "query_loja_marca.groupby([\"loja\", \"ds_nome_produto_resumido\"]).apply(lambda grp: grp.nlargest(5, \"vl_preco_atual\")).reset_index(drop=True)\n",
    "# fig = px.treemap(query_loja_marca, path=[\"loja\", \"ds_nome_produto_resumido\", \"ds_marca\"],\n",
    "#                  values=\"vl_preco_atual\")\n",
    "\n",
    "# fig.show()"
   ]
  },
  {
   "cell_type": "code",
   "execution_count": 42,
   "metadata": {},
   "outputs": [
    {
     "data": {
      "text/html": [
       "<div>\n",
       "<style scoped>\n",
       "    .dataframe tbody tr th:only-of-type {\n",
       "        vertical-align: middle;\n",
       "    }\n",
       "\n",
       "    .dataframe tbody tr th {\n",
       "        vertical-align: top;\n",
       "    }\n",
       "\n",
       "    .dataframe thead th {\n",
       "        text-align: right;\n",
       "    }\n",
       "</style>\n",
       "<table border=\"1\" class=\"dataframe\">\n",
       "  <thead>\n",
       "    <tr style=\"text-align: right;\">\n",
       "      <th></th>\n",
       "      <th>ds_marca</th>\n",
       "      <th>ds_nome_produto</th>\n",
       "      <th>vl_preco_atual</th>\n",
       "      <th>vl_preco_com_desconto</th>\n",
       "      <th>vl_porcentagem_do_desconto</th>\n",
       "      <th>qt_quantidade_estoque</th>\n",
       "      <th>oferta</th>\n",
       "      <th>ds_disponibilidade</th>\n",
       "      <th>loja</th>\n",
       "      <th>dt_carga</th>\n",
       "      <th>data</th>\n",
       "      <th>ds_nome_produto_resumido</th>\n",
       "    </tr>\n",
       "  </thead>\n",
       "  <tbody>\n",
       "    <tr>\n",
       "      <th>2693</th>\n",
       "      <td>Bluecase</td>\n",
       "      <td>PLACA DE VÍDEO GTX 750TI 2GB, DDR5, 128BITS, BLUECASE</td>\n",
       "      <td>1120.00</td>\n",
       "      <td>1120.00</td>\n",
       "      <td>0.0</td>\n",
       "      <td>0</td>\n",
       "      <td>None</td>\n",
       "      <td>True</td>\n",
       "      <td>Loja Laranja</td>\n",
       "      <td>2022-09-29 22:01:30.406181+00:00</td>\n",
       "      <td>2022-09-29</td>\n",
       "      <td>GTX 750TI</td>\n",
       "    </tr>\n",
       "    <tr>\n",
       "      <th>2697</th>\n",
       "      <td>Bluecase</td>\n",
       "      <td>PLACA DE VÍDEO GTX 750, 2GB, DDR5, 128BITS - BLUECASE</td>\n",
       "      <td>945.00</td>\n",
       "      <td>945.00</td>\n",
       "      <td>0.0</td>\n",
       "      <td>0</td>\n",
       "      <td>None</td>\n",
       "      <td>True</td>\n",
       "      <td>Loja Laranja</td>\n",
       "      <td>2022-09-29 22:01:30.406181+00:00</td>\n",
       "      <td>2022-09-29</td>\n",
       "      <td>GTX 750</td>\n",
       "    </tr>\n",
       "    <tr>\n",
       "      <th>2756</th>\n",
       "      <td>Bluecase</td>\n",
       "      <td>GEFORCE GT 730 2GB, GDDR3, 128 BITS, BLUECASE, BP-GT730-2GD3D1</td>\n",
       "      <td>667.63</td>\n",
       "      <td>667.63</td>\n",
       "      <td>0.0</td>\n",
       "      <td>0</td>\n",
       "      <td>None</td>\n",
       "      <td>True</td>\n",
       "      <td>Loja Laranja</td>\n",
       "      <td>2022-09-29 22:01:30.406181+00:00</td>\n",
       "      <td>2022-09-29</td>\n",
       "      <td>GT 730</td>\n",
       "    </tr>\n",
       "    <tr>\n",
       "      <th>3172</th>\n",
       "      <td>Bluecase</td>\n",
       "      <td>PLACA DE VÍDEO NVIDIA GEFORCE GTX 1050 2GB, GDDR5 - BP-GTX1050-2GB5D1 BLUECASE</td>\n",
       "      <td>2015.99</td>\n",
       "      <td>1814.39</td>\n",
       "      <td>10.0</td>\n",
       "      <td>0</td>\n",
       "      <td>None</td>\n",
       "      <td>True</td>\n",
       "      <td>Loja Laranja</td>\n",
       "      <td>2022-09-29 22:01:30.406181+00:00</td>\n",
       "      <td>2022-09-29</td>\n",
       "      <td>GTX 1050</td>\n",
       "    </tr>\n",
       "    <tr>\n",
       "      <th>8019</th>\n",
       "      <td>Bluecase</td>\n",
       "      <td>PLACA DE VÍDEO GTX 750TI 2GB, DDR5, 128BITS, BLUECASE</td>\n",
       "      <td>1120.00</td>\n",
       "      <td>1120.00</td>\n",
       "      <td>0.0</td>\n",
       "      <td>0</td>\n",
       "      <td>None</td>\n",
       "      <td>True</td>\n",
       "      <td>Loja Laranja</td>\n",
       "      <td>2022-09-30 22:01:22.660381+00:00</td>\n",
       "      <td>2022-09-30</td>\n",
       "      <td>GTX 750TI</td>\n",
       "    </tr>\n",
       "    <tr>\n",
       "      <th>...</th>\n",
       "      <td>...</td>\n",
       "      <td>...</td>\n",
       "      <td>...</td>\n",
       "      <td>...</td>\n",
       "      <td>...</td>\n",
       "      <td>...</td>\n",
       "      <td>...</td>\n",
       "      <td>...</td>\n",
       "      <td>...</td>\n",
       "      <td>...</td>\n",
       "      <td>...</td>\n",
       "      <td>...</td>\n",
       "    </tr>\n",
       "    <tr>\n",
       "      <th>583464</th>\n",
       "      <td>Bluecase</td>\n",
       "      <td>PLACA DE VIDEO BLUECASE GEFORCE GT 610 1GB DDR3 64BITS HDMI</td>\n",
       "      <td>239.90</td>\n",
       "      <td>239.90</td>\n",
       "      <td>0.0</td>\n",
       "      <td>0</td>\n",
       "      <td>None</td>\n",
       "      <td>True</td>\n",
       "      <td>Loja Laranja</td>\n",
       "      <td>2023-01-11 10:02:15.747552+00:00</td>\n",
       "      <td>2023-01-11</td>\n",
       "      <td>GT 610</td>\n",
       "    </tr>\n",
       "    <tr>\n",
       "      <th>583465</th>\n",
       "      <td>Bluecase</td>\n",
       "      <td>GEFORCE GT 730 2GB, GDDR3, 128 BITS, BLUECASE, BP-GT730-2GD3D1</td>\n",
       "      <td>667.63</td>\n",
       "      <td>667.63</td>\n",
       "      <td>0.0</td>\n",
       "      <td>0</td>\n",
       "      <td>None</td>\n",
       "      <td>True</td>\n",
       "      <td>Loja Laranja</td>\n",
       "      <td>2023-01-11 10:02:15.747552+00:00</td>\n",
       "      <td>2023-01-11</td>\n",
       "      <td>GT 730</td>\n",
       "    </tr>\n",
       "    <tr>\n",
       "      <th>583466</th>\n",
       "      <td>Bluecase</td>\n",
       "      <td>PLACA DE VÍDEO GTX 750, 2GB, DDR5, 128BITS - BLUECASE</td>\n",
       "      <td>945.00</td>\n",
       "      <td>945.00</td>\n",
       "      <td>0.0</td>\n",
       "      <td>0</td>\n",
       "      <td>None</td>\n",
       "      <td>True</td>\n",
       "      <td>Loja Laranja</td>\n",
       "      <td>2023-01-11 10:02:15.747552+00:00</td>\n",
       "      <td>2023-01-11</td>\n",
       "      <td>GTX 750</td>\n",
       "    </tr>\n",
       "    <tr>\n",
       "      <th>583467</th>\n",
       "      <td>Bluecase</td>\n",
       "      <td>PLACA DE VÍDEO GTX 750TI 2GB, DDR5, 128BITS, BLUECASE</td>\n",
       "      <td>1120.00</td>\n",
       "      <td>1120.00</td>\n",
       "      <td>0.0</td>\n",
       "      <td>0</td>\n",
       "      <td>None</td>\n",
       "      <td>True</td>\n",
       "      <td>Loja Laranja</td>\n",
       "      <td>2023-01-11 10:02:15.747552+00:00</td>\n",
       "      <td>2023-01-11</td>\n",
       "      <td>GTX 750TI</td>\n",
       "    </tr>\n",
       "    <tr>\n",
       "      <th>583747</th>\n",
       "      <td>Bluecase</td>\n",
       "      <td>PLACA DE VÍDEO NVIDIA GEFORCE GTX 1050 2GB, GDDR5 - BP-GTX1050-2GB5D1 BLUECASE</td>\n",
       "      <td>2015.99</td>\n",
       "      <td>1814.39</td>\n",
       "      <td>10.0</td>\n",
       "      <td>0</td>\n",
       "      <td>None</td>\n",
       "      <td>True</td>\n",
       "      <td>Loja Laranja</td>\n",
       "      <td>2023-01-11 10:02:15.747552+00:00</td>\n",
       "      <td>2023-01-11</td>\n",
       "      <td>GTX 1050</td>\n",
       "    </tr>\n",
       "  </tbody>\n",
       "</table>\n",
       "<p>471 rows × 12 columns</p>\n",
       "</div>"
      ],
      "text/plain": [
       "        ds_marca  \\\n",
       "2693    Bluecase   \n",
       "2697    Bluecase   \n",
       "2756    Bluecase   \n",
       "3172    Bluecase   \n",
       "8019    Bluecase   \n",
       "...          ...   \n",
       "583464  Bluecase   \n",
       "583465  Bluecase   \n",
       "583466  Bluecase   \n",
       "583467  Bluecase   \n",
       "583747  Bluecase   \n",
       "\n",
       "                                                                       ds_nome_produto  \\\n",
       "2693                             PLACA DE VÍDEO GTX 750TI 2GB, DDR5, 128BITS, BLUECASE   \n",
       "2697                             PLACA DE VÍDEO GTX 750, 2GB, DDR5, 128BITS - BLUECASE   \n",
       "2756                    GEFORCE GT 730 2GB, GDDR3, 128 BITS, BLUECASE, BP-GT730-2GD3D1   \n",
       "3172    PLACA DE VÍDEO NVIDIA GEFORCE GTX 1050 2GB, GDDR5 - BP-GTX1050-2GB5D1 BLUECASE   \n",
       "8019                             PLACA DE VÍDEO GTX 750TI 2GB, DDR5, 128BITS, BLUECASE   \n",
       "...                                                                                ...   \n",
       "583464                     PLACA DE VIDEO BLUECASE GEFORCE GT 610 1GB DDR3 64BITS HDMI   \n",
       "583465                  GEFORCE GT 730 2GB, GDDR3, 128 BITS, BLUECASE, BP-GT730-2GD3D1   \n",
       "583466                           PLACA DE VÍDEO GTX 750, 2GB, DDR5, 128BITS - BLUECASE   \n",
       "583467                           PLACA DE VÍDEO GTX 750TI 2GB, DDR5, 128BITS, BLUECASE   \n",
       "583747  PLACA DE VÍDEO NVIDIA GEFORCE GTX 1050 2GB, GDDR5 - BP-GTX1050-2GB5D1 BLUECASE   \n",
       "\n",
       "        vl_preco_atual  vl_preco_com_desconto  vl_porcentagem_do_desconto  \\\n",
       "2693           1120.00                1120.00                         0.0   \n",
       "2697            945.00                 945.00                         0.0   \n",
       "2756            667.63                 667.63                         0.0   \n",
       "3172           2015.99                1814.39                        10.0   \n",
       "8019           1120.00                1120.00                         0.0   \n",
       "...                ...                    ...                         ...   \n",
       "583464          239.90                 239.90                         0.0   \n",
       "583465          667.63                 667.63                         0.0   \n",
       "583466          945.00                 945.00                         0.0   \n",
       "583467         1120.00                1120.00                         0.0   \n",
       "583747         2015.99                1814.39                        10.0   \n",
       "\n",
       "        qt_quantidade_estoque oferta  ds_disponibilidade          loja  \\\n",
       "2693                        0   None                True  Loja Laranja   \n",
       "2697                        0   None                True  Loja Laranja   \n",
       "2756                        0   None                True  Loja Laranja   \n",
       "3172                        0   None                True  Loja Laranja   \n",
       "8019                        0   None                True  Loja Laranja   \n",
       "...                       ...    ...                 ...           ...   \n",
       "583464                      0   None                True  Loja Laranja   \n",
       "583465                      0   None                True  Loja Laranja   \n",
       "583466                      0   None                True  Loja Laranja   \n",
       "583467                      0   None                True  Loja Laranja   \n",
       "583747                      0   None                True  Loja Laranja   \n",
       "\n",
       "                               dt_carga        data ds_nome_produto_resumido  \n",
       "2693   2022-09-29 22:01:30.406181+00:00  2022-09-29                GTX 750TI  \n",
       "2697   2022-09-29 22:01:30.406181+00:00  2022-09-29                  GTX 750  \n",
       "2756   2022-09-29 22:01:30.406181+00:00  2022-09-29                   GT 730  \n",
       "3172   2022-09-29 22:01:30.406181+00:00  2022-09-29                 GTX 1050  \n",
       "8019   2022-09-30 22:01:22.660381+00:00  2022-09-30                GTX 750TI  \n",
       "...                                 ...         ...                      ...  \n",
       "583464 2023-01-11 10:02:15.747552+00:00  2023-01-11                   GT 610  \n",
       "583465 2023-01-11 10:02:15.747552+00:00  2023-01-11                   GT 730  \n",
       "583466 2023-01-11 10:02:15.747552+00:00  2023-01-11                  GTX 750  \n",
       "583467 2023-01-11 10:02:15.747552+00:00  2023-01-11                GTX 750TI  \n",
       "583747 2023-01-11 10:02:15.747552+00:00  2023-01-11                 GTX 1050  \n",
       "\n",
       "[471 rows x 12 columns]"
      ]
     },
     "execution_count": 42,
     "metadata": {},
     "output_type": "execute_result"
    }
   ],
   "source": [
    "df_gpu.query(\"\"\" ds_marca == \"Bluecase\" \"\"\")"
   ]
  },
  {
   "cell_type": "code",
   "execution_count": 4,
   "metadata": {},
   "outputs": [
    {
     "name": "stdout",
     "output_type": "stream",
     "text": [
      "503\n",
      "{'_value': 'html', 'html': [{'_attributes': {'lang': 'pt-br', 'dir': 'ltr'}, 'head': [{'title': [{'_value': 'Under attack mode | TerabyteShop'}], 'meta': [{'_attributes': {'charset': 'UTF-8'}}, {'_attributes': {'name': 'viewport', 'content': 'width=device-width,minimum-scale=1,initial-scale=1'}}, {'_attributes': {'http-equiv': 'refresh', 'content': '35'}}], 'link': [{'_attributes': {'rel': ['shortcut', 'icon'], 'href': 'https://landing.terabyteshop.com.br/templatescdn/favicon.png', 'type': 'image/x-icon'}}, {'_attributes': {'href': 'https://fonts.googleapis.com/css2?family=Open+Sans:wght@400;800&display=optional', 'rel': ['preload']}}], 'style': [{'_value': 'body{font-family:Open Sans,sans-serif;font-weight:400;padding:0;margin:0;background:#191919}.topo{background-color:#2d2d2d;border-bottom:2px solid #ff5800;height:80px;display:flex}.img-responsive{max-width:100%;height:auto;display:block;margin:auto}.cont_erro{height:80vh;display:flex;justify-content:center;align-items:center;flex-direction:column}.tit_404{font-size:70px;font-family:Open Sans;font-weight:800;position:relative;top:auto;color:#444;margin:0}@media screen and (max-width:920px){.tit_404{font-size:40px}}.cont_404{flex-direction:column}h2{position:relative;color:#fff;font-size:18px;margin:0}@media screen and (max-width:920px){h2{font-size:12px}}h3{color:#ff5800;font-size:16px;margin:0;text-align:center}@media screen and (max-width:920px){h3{font-size:12px;text-align:center}}.CF_content{margin:30px auto}.loadd{height:100px}.line{display:inline-block;margin:0 10px;width:10px;height:10px;border-radius:15px;background-color:#ff5800}.loadd .line:last-child{animation:loadingC .6s linear .5s infinite}.loadd .line:nth-last-child(2){animation:loadingC .6s linear .6s infinite}.loadd .line:nth-last-child(3){animation:loadingC .6s linear .7s infinite}.fa-times{font-size:60px;text-align:center;color:#222;display:inline-block;margin:0 10px;width:60px;height:60px;border-radius:50%;background-color:#ff5800;opacity:.5}.loadd .fa-times:last-child{animation:loadingC 2s linear .5s infinite}@keyframes loadingC{0{transform:scale(1)}to{transform:scale(1.5);opacity:0}}.loading-content{text-align:center}.loading-ico{width:64px;height:64px;border-radius:50%;border:3px solid #222;border-top-color:#ff5800;display:inline-block;animation:spin .65s ease infinite}@keyframes spin{to{transform:rotate(1turn)}}@keyframes step-load{0%{left:-30px}to{left:100%}}.pulseDot{width:60px;height:60px;position:relative;z-index:1;transition:all .6s}.pulseDot:after,.pulseDot:before{border:3px solid #ff5800;content:\"\";position:absolute;width:100%;height:100%;border-radius:50%}.pulseDot:after{animation:pulse 2s ease-out infinite}.pulseDot:before{animation:pulse 2s ease-out .5s infinite}@keyframes pulse{0%{transform:scale(0);opacity:1}to{transform:scale(1);opacity:0}}'}]}], 'body': [{'header': [{'_attributes': {'class': ['topo']}, 'img': [{'_attributes': {'class': ['img-responsive'], 'src': 'data:image/png;base64,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', 'alt': 'TeraByteShop', 'width': '224', 'height': '64'}}]}], 'main': [{'_attributes': {'class': ['cont_erro']}, 'div': [{'_attributes': {'class': ['loadd']}, 'div': [{'_attributes': {'class': ['line']}}, {'_attributes': {'class': ['line']}}, {'_attributes': {'class': ['line']}}]}, {'_attributes': {'class': ['CF_content']}}], 'h1': [{'_attributes': {'class': ['tit_404']}, '_value': 'VERIFICANDO SEU ACESSO'}], 'h2': [{'div': [{'_attributes': {'class': ['cf-browser-verification', 'cf-im-under-attack']}, 'noscript': [{'h1': [{'_attributes': {'style': 'color:#bd2426;'}, '_value': 'Please turn JavaScript on and reload the page.'}]}], 'div': [{'_attributes': {'id': 'cf-content'}, 'div': [{'_attributes': {'id': 'cf-bubbles'}, 'div': [{'_attributes': {'class': ['bubbles']}}, {'_attributes': {'class': ['bubbles']}}, {'_attributes': {'class': ['bubbles']}}]}, {'_attributes': {'id': 'no-cookie-warning', 'class': ['cookie-warning'], 'style': 'display:none'}, 'p': [{'_attributes': {'style': 'color:#bd2426;'}, '_value': 'Please enable Cookies and reload the page'}]}], 'h1': [{'_value': 'Checking your browser before accessing www.terabyteshop.com.br.'}], 'p': [{'_value': 'This process is automatic. Your browser will redirect to your requested content shortly.'}, {'_attributes': {'id': 'cf-spinner-allow-5-secs'}, '_value': 'Please allow up to 5 seconds...'}, {'_attributes': {'id': 'cf-spinner-redirecting', 'style': 'display:none'}, '_value': 'Redirecting...'}]}, {'_attributes': {'id': 'trk_jschal_js', 'style': \"display:none;background-image:url('/cdn-cgi/images/trace/jsch/nojs/transparent.gif?ray=788ada258c7a628f')\"}}], 'form': [{'_attributes': {'id': 'challenge-form', 'class': ['challenge-form'], 'action': '/hardware/placas-de-video?__cf_chl_f_tk=bPh.5FCJDrB70q67rHfv1Y2sLR8WxKMKmNiXoJsxYr0-1673578517-0-gaNycGzNB1E', 'method': 'POST', 'enctype': 'application/x-www-form-urlencoded'}, 'input': [{'_attributes': {'type': 'hidden', 'name': 'md', 'value': 'QEMFLO75sLzMPBOxvtZEGhgbs_pBsuSbqCqqY1zCGYk-1673578517-0-AUMie1QHkVKsOBttJBMJ4R6RNJ6iHQSo5ARh0KZgC6buvFDQQbT1KNSxY14buSehye9Ob64KQXGWqbWZ4Devx2W8nrs8cSGMNmx8-04-b11_8eYkS5Tw1Kwo03DimJ95zQWencdB4CbmazHjVDLyiMfY5oYXnmCUIB71q1IWSuq3UxjZPpVpwFUiCbWX2Ga3vKy6phH1J47R-EodyHPZCM28fh3MfQ1sgNjRurDMrGmN0fzm2sGAVgS5nThuMN3_8jYWP5evnPSCa1H87Qp9OTgikngvlaUCs43aP-wJZeVkHiqibOo8mAJ8oG5ebhPez6-S51hJFHyjFqsejSNooRlvUCvYD681C1AWnfFbTZ4fqI4rTfAVt1aAmXQu-bQuD5ZkSwCChrk-kda95bnC1pDeTXwUBVhkh7WIL1XRiNIetG1797LAMaUwmdgLbwuIwCxJP_hjd4GXoosWTLL6QK-ZRjbLagZokiQU_Os4qSZ_Vh8wztrvGBruJgsKzvF8jx1G5w2f0pOHg_UjZgoWYMirPoPpUlPevzY33ZRj0X99ow6Cm_4TftZLyPog53rsjA'}}, {'_attributes': {'type': 'hidden', 'name': 'r', 'value': 'PTq8cbfMg5Yj1tDZ7frezJPHI9_aHeRt0m2ZnoxYMN8-1673578517-0-AYMT+wB1qK08y7XgBZpOBZ9CSJJd6aB+ugmaLi7K/c5zRPd9wHDHZDriV/6JmQBWjyykx7M4C/UvS4LcGh8E5EQ9NDAdxne+X9JKldMAPT/CNiIQYG79tWlv4ouy7P3khi6SMB4A4xAt+zW8Uexp7j0+D61nreT79Y8fuH1bwM3FzSshNiJTJDcUwDUf0zKQgE7nzkpH/SSOwARTORds83sGZrjL3AUlH7iel5qM3nSd1P82uVQ3/5ZsA9Q3+N5TJ3kRBGybLTkvZnD6B46BB6pKGpojaXPOIrkpQ99oizl3Wf69Ws9GclMReheDQD0B9p1HEIC0HTPYasklQjS3JoyIVkbs1VyENM8hxpwVko/FhQwUIiL0yObxIEXmeOQnKkpvUaDthCQkgBLc1Y58DKI4EeQ5lk31EDtYqE0L9w6kxIW3+e0SBOgmwo7C11jMgljhvXYxeAdHO/BQXu66iL8XGFJmiAtQAtXJu9wXKActQtRFCLyGrAj1MZuQoAN0V9qpj47Aj8WG/Fxc0Jur93cNUoykBt/aT0i3sCcAz8fMiJThWmZZDg0JqWpPlL47pfJfawC5SH5Fh2dhSclILZQY6MTt4S+cbYipIxg7eXqvPguF9xc9Fz+lHze4XLUA5uwXb2NcWqFnNNb5TJcMMvc3BxOx76hzoYmjsOvtw5Bah/GA03SPJ/r2shNwileMBUSLjbeKxRZ6mZDoBOlxgfszea8OYansvncCMv3meFf5//dGIsH/Nqcb4D6l+SXs1xC0j9b6D4cijrQUrJjX6FpLvvguxvqP1eRG3g2l/xIfMruQzoDvBp0i/OJRCqnUVyaihDY9Q+8KzqeztHah0oXqAwrXtrKAPsZSaQwn46c7gIVYZaDhjpBu7F3ZpBfXEtDYHvkaS7/eymHdKFbEdy7egXp+7PwQtLPCZSoL4OUof090iZ5pfyFMBYR4E3sxviBkgPn07fryXoVsEnNxO3DUXg8zBpraAcCUtkZAPZK8KOEaFRHriJVGAShTar4atRHGgaxQkx5atDgQn9okW6Qi37rDvEL5cAzu56d8+KoeRAtQEbtYkqSq297zEXb+S0ED3DmY7OI1/QQZJN2BXuCH7jA93PRiI/sfvTevBNlPqTGWf7Jqbwk7VUbf8SwmS9cazLXP6y4St5ynmfq6LIIe09yhrqhevd6KQe3MPf0+/83M6Y6gANhYV3kAvbipEdu4dJhG6OzUG0g947LI1Vax0dXElO2tawQ3wUu0wvxGvoycQLYa+/XBJXgw9pt3/hLZh6N0RIEL8NeAcyb+oreUPu/zN023U57hs2fUQFSR7Bu3cpbPDl668f2lFTxs/wY0Ley24BAPZKWIAN0lOtvzCdD5AeB6X7HPg86Sq7f2NpvhabpC4+pH+zSsBpY0y/UvCbekuGYQYJx7fNpO4C52OzAXMADtZYIF+KKl4u7c7ddDDYOLdCnFwKH6un0yD0mgK+mVs80sLS9M7rsC5ldokwljWGsSXV2RMTZ+MBWk+Ncv8ce2ePtazjacBciQ3dTONs9uLIcW9XYsYxrHN8RrbcR/7WoBstlAV0YbMmBBmOJQM+H1Io9L/jWX0PKywYAnUib8nUfPXBnxhpx9OZ94koCvJjs31GnKc2D/u/lwJ9gkJ6UUbQxMs9crEYqimRbEQpJGxzd89GO8ih3jWM6ZuUFfeMBBZmAMQoFyHVSk5HxggVo9qHFHbDCkEYo4edo1uXYUj8EUWcZA2GRklTSO+ShuUX0xlplTe9trxOJUdz/MZxKR3HQ7vVIyvvDe87VWJRMzgDnPVWCf0wES9xA='}}]}], 'script': [{'_value': '(function(){\\n        window._cf_chl_opt={\\n            cvId: \\'2\\',\\n            cType: \\'non-interactive\\',\\n            cNounce: \\'27155\\',\\n            cRay: \\'788ada258c7a628f\\',\\n            cHash: \\'0f6ef2c3438591c\\',\\n            cUPMDTk: \"\\\\/hardware\\\\/placas-de-video?__cf_chl_tk=bPh.5FCJDrB70q67rHfv1Y2sLR8WxKMKmNiXoJsxYr0-1673578517-0-gaNycGzNB1E\",\\n            cFPWv: \\'g\\',\\n            cTTimeMs: \\'1000\\',\\n            cTplV: 1,\\n            cTplB: \\'cf\\',\\n            cRq: {\\n                ru: \\'aHR0cHM6Ly93d3cudGVyYWJ5dGVzaG9wLmNvbS5ici9oYXJkd2FyZS9wbGFjYXMtZGUtdmlkZW8=\\',\\n                ra: \\'cHl0aG9uLXJlcXVlc3RzLzIuMjguMg==\\',\\n                rm: \\'UE9TVA==\\',\\n                d: \\'7S1BGGlfk4Evi+rTMuWonNQSqMm5jKHPALn2qrBZMFUpmy5xWjO5LbBX6GA5luIglRsWde9Ywn/w45U4dIwlrWMVGf2Cf6jrVC2ukKwUfb15NVX/7vaT69Fknvj12wOFHipZX/MtnymWIONaHQvdvBjqjDMk4gUYPJ+ewikxYqgGHWZRDFmOa2aYFVUXnNqiM5YxvkOWazMn+jktx4LEMfPIoS+Oj/77vBc7OzEFzlF6sqJV2a8EpV0gADHTopPg5021MGDi1FD3YVGWN7WQ+z6hRNzTYHw6idFU+joRMQtg0/FbvzcRO56jucjI0f5X7yY4cq9fHFjJmoNLJsFCFFpR2EKDzHOCb2vhCc76FqQj9yIUYYKnnkp2PzM9EoEe4jgnmbMGyeL98xN7+ZcJ5H8sep69mipuPwFTTleed0hog3U47Ii+lYUMK96bBNAUn3Gd3cocTCeUHw9RB6ksMkTzB/q3eRa23T4AOi6gq358d7VoMuLuTWshYpiW/+eWJue3uLT44iBYtoIITtHTK1eZw22iXsDgDxkTOtusjHvZ3sStTSR5QjXZaEkXXCmxNkBM63AA0SvP68xfIpAW6k/g9mcZ3pdzKfBuKYAAdWtn96WRs5CjiQvyX1vnGm9VJ7i/pWa0kavEKfJq69wuwkcn/61P3jsg6zkRhyQLe8Y=\\',\\n                t: \\'MTY3MzU3ODUxNy4zNjgwMDA=\\',\\n                m: \\'zaXBQUA8+M8lAG0DhOAVR85aPN2fyfdD0DOVjy/T3a4=\\',\\n                i1: \\'p2pMu9WLamoXOUYq4RVabg==\\',\\n                i2: \\'tFZG2BXjvlH7KXQib3UV6Q==\\',\\n                zh: \\'rPOgG+dkQfrAvd7UGhsmANKEQdulCr/Vd/HCdwJMU3k=\\',\\n                uh: \\'neMFmDCz0LRc0/Wea+5x0IhJieHbzcQVSkMgFkgnrjc=\\',\\n                hh: \\'F22ByKDre9DA72HaoDm1J4H/eWL3VeEPp7eqN23AaAI=\\',\\n            }\\n        };\\n        var trkjs = document.createElement(\\'img\\');\\n        trkjs.setAttribute(\\'src\\', \\'/cdn-cgi/images/trace/jsch/js/transparent.gif?ray=788ada258c7a628f\\');\\n        trkjs.setAttribute(\\'style\\', \\'display: none\\');\\n        document.body.appendChild(trkjs);\\n        var cpo = document.createElement(\\'script\\');\\n        cpo.src = \\'/cdn-cgi/challenge-platform/h/g/orchestrate/jsch/v1?ray=788ada258c7a628f\\';\\n        window._cf_chl_opt.cOgUHash = location.hash === \\'\\' && location.href.indexOf(\\'#\\') !== -1 ? \\'#\\' : location.hash;\\n        window._cf_chl_opt.cOgUQuery = location.search === \\'\\' && location.href.slice(0, -window._cf_chl_opt.cOgUHash.length).indexOf(\\'?\\') !== -1 ? \\'?\\' : location.search;\\n        if (window.history && window.history.replaceState) {\\n            var ogU = location.pathname + window._cf_chl_opt.cOgUQuery + window._cf_chl_opt.cOgUHash;\\n            history.replaceState(null, null, \"\\\\/hardware\\\\/placas-de-video?__cf_chl_rt_tk=bPh.5FCJDrB70q67rHfv1Y2sLR8WxKMKmNiXoJsxYr0-1673578517-0-gaNycGzNB1E\" + window._cf_chl_opt.cOgUHash);\\n            cpo.onload = function() {\\n                history.replaceState(null, null, ogU);\\n            };\\n        }\\n        document.getElementsByTagName(\\'head\\')[0].appendChild(cpo);\\n    }());'}]}]}], 'h3': [{}]}]}]}]}\n"
     ]
    }
   ],
   "source": [
    "import html_to_json\n",
    "import requests\n",
    "\n",
    "username = 'vgtgayan'\n",
    "base_url = 'https://www.terabyteshop.com.br/hardware/placas-de-video'\n",
    "url = base_url\n",
    "\n",
    "r = requests.post(url)\n",
    "print(r.status_code)\n",
    "\n",
    "html_string = r.text\n",
    "output_json = html_to_json.convert(html_string)\n",
    "print(output_json)\n",
    "\n",
    "# df = pd.read_html(\"https://www.terabyteshop.com.br/hardware/placas-de-video\")\n",
    "# df"
   ]
  },
  {
   "cell_type": "code",
   "execution_count": 140,
   "metadata": {},
   "outputs": [
    {
     "data": {
      "text/plain": [
       "['PLACA DE VÍDEO ASUS KO NVIDIA GEFORCE RTX3070 V2 GAMING, RGB, 14 GBPS, 8GB GDDR6, DLSS, LHR, RAY TRACING - KO-RTX3070-08G-V2-GAMING']"
      ]
     },
     "execution_count": 140,
     "metadata": {},
     "output_type": "execute_result"
    }
   ],
   "source": [
    "df.iloc[df.index == 187159]['ds_nome_produto'].tolist() # ds_nome_produto_resumido ds_nome_produto"
   ]
  },
  {
   "cell_type": "code",
   "execution_count": 10,
   "metadata": {},
   "outputs": [
    {
     "name": "stdout",
     "output_type": "stream",
     "text": [
      "<class 'pandas.core.frame.DataFrame'>\n",
      "RangeIndex: 384100 entries, 0 to 384099\n",
      "Data columns (total 11 columns):\n",
      " #   Column                      Non-Null Count   Dtype              \n",
      "---  ------                      --------------   -----              \n",
      " 0   ds_marca                    384100 non-null  object             \n",
      " 1   ds_nome_produto             384100 non-null  object             \n",
      " 2   vl_preco_atual              384100 non-null  float64            \n",
      " 3   vl_preco_com_desconto       384100 non-null  float64            \n",
      " 4   vl_porcentagem_do_desconto  384100 non-null  float64            \n",
      " 5   qt_quantidade_estoque       142715 non-null  Int64              \n",
      " 6   oferta                      384100 non-null  object             \n",
      " 7   ds_disponibilidade          384100 non-null  object             \n",
      " 8   loja                        384100 non-null  object             \n",
      " 9   dt_carga                    384100 non-null  datetime64[ns, UTC]\n",
      " 10  data                        384100 non-null  object             \n",
      "dtypes: Int64(1), datetime64[ns, UTC](1), float64(3), object(6)\n",
      "memory usage: 32.6+ MB\n"
     ]
    }
   ],
   "source": []
  },
  {
   "cell_type": "code",
   "execution_count": 51,
   "metadata": {},
   "outputs": [
    {
     "data": {
      "text/html": [
       "<div>\n",
       "<style scoped>\n",
       "    .dataframe tbody tr th:only-of-type {\n",
       "        vertical-align: middle;\n",
       "    }\n",
       "\n",
       "    .dataframe tbody tr th {\n",
       "        vertical-align: top;\n",
       "    }\n",
       "\n",
       "    .dataframe thead th {\n",
       "        text-align: right;\n",
       "    }\n",
       "</style>\n",
       "<table border=\"1\" class=\"dataframe\">\n",
       "  <thead>\n",
       "    <tr style=\"text-align: right;\">\n",
       "      <th></th>\n",
       "      <th>data</th>\n",
       "      <th>loja</th>\n",
       "      <th>counts</th>\n",
       "    </tr>\n",
       "  </thead>\n",
       "  <tbody>\n",
       "    <tr>\n",
       "      <th>26</th>\n",
       "      <td>2022-10-12</td>\n",
       "      <td>Kabum</td>\n",
       "      <td>4</td>\n",
       "    </tr>\n",
       "    <tr>\n",
       "      <th>27</th>\n",
       "      <td>2022-10-12</td>\n",
       "      <td>Pichau</td>\n",
       "      <td>4</td>\n",
       "    </tr>\n",
       "    <tr>\n",
       "      <th>28</th>\n",
       "      <td>2022-10-13</td>\n",
       "      <td>Kabum</td>\n",
       "      <td>3</td>\n",
       "    </tr>\n",
       "    <tr>\n",
       "      <th>29</th>\n",
       "      <td>2022-10-13</td>\n",
       "      <td>Pichau</td>\n",
       "      <td>3</td>\n",
       "    </tr>\n",
       "    <tr>\n",
       "      <th>30</th>\n",
       "      <td>2022-10-14</td>\n",
       "      <td>Kabum</td>\n",
       "      <td>3</td>\n",
       "    </tr>\n",
       "    <tr>\n",
       "      <th>31</th>\n",
       "      <td>2022-10-14</td>\n",
       "      <td>Pichau</td>\n",
       "      <td>3</td>\n",
       "    </tr>\n",
       "    <tr>\n",
       "      <th>32</th>\n",
       "      <td>2022-10-15</td>\n",
       "      <td>Kabum</td>\n",
       "      <td>3</td>\n",
       "    </tr>\n",
       "    <tr>\n",
       "      <th>33</th>\n",
       "      <td>2022-10-15</td>\n",
       "      <td>Pichau</td>\n",
       "      <td>3</td>\n",
       "    </tr>\n",
       "    <tr>\n",
       "      <th>34</th>\n",
       "      <td>2022-10-16</td>\n",
       "      <td>Kabum</td>\n",
       "      <td>3</td>\n",
       "    </tr>\n",
       "    <tr>\n",
       "      <th>35</th>\n",
       "      <td>2022-10-16</td>\n",
       "      <td>Pichau</td>\n",
       "      <td>3</td>\n",
       "    </tr>\n",
       "  </tbody>\n",
       "</table>\n",
       "</div>"
      ],
      "text/plain": [
       "          data    loja  counts\n",
       "26  2022-10-12   Kabum       4\n",
       "27  2022-10-12  Pichau       4\n",
       "28  2022-10-13   Kabum       3\n",
       "29  2022-10-13  Pichau       3\n",
       "30  2022-10-14   Kabum       3\n",
       "31  2022-10-14  Pichau       3\n",
       "32  2022-10-15   Kabum       3\n",
       "33  2022-10-15  Pichau       3\n",
       "34  2022-10-16   Kabum       3\n",
       "35  2022-10-16  Pichau       3"
      ]
     },
     "execution_count": 51,
     "metadata": {},
     "output_type": "execute_result"
    }
   ],
   "source": []
  },
  {
   "cell_type": "code",
   "execution_count": 14,
   "metadata": {},
   "outputs": [],
   "source": [
    "# df_datas_loja = df.groupby(['data', 'loja'])['dt_carga'].nunique()\n",
    "# df_datas_loja\n"
   ]
  },
  {
   "cell_type": "code",
   "execution_count": 8,
   "metadata": {},
   "outputs": [
    {
     "name": "stderr",
     "output_type": "stream",
     "text": [
      "[nltk_data] Downloading collection 'popular'\n",
      "[nltk_data]    | \n",
      "[nltk_data]    | Downloading package cmudict to\n",
      "[nltk_data]    |     /Users/igorferreira/nltk_data...\n",
      "[nltk_data]    |   Unzipping corpora/cmudict.zip.\n",
      "[nltk_data]    | Downloading package gazetteers to\n",
      "[nltk_data]    |     /Users/igorferreira/nltk_data...\n",
      "[nltk_data]    |   Unzipping corpora/gazetteers.zip.\n",
      "[nltk_data]    | Downloading package genesis to\n",
      "[nltk_data]    |     /Users/igorferreira/nltk_data...\n",
      "[nltk_data]    |   Unzipping corpora/genesis.zip.\n",
      "[nltk_data]    | Downloading package gutenberg to\n",
      "[nltk_data]    |     /Users/igorferreira/nltk_data...\n",
      "[nltk_data]    |   Unzipping corpora/gutenberg.zip.\n",
      "[nltk_data]    | Downloading package inaugural to\n",
      "[nltk_data]    |     /Users/igorferreira/nltk_data...\n",
      "[nltk_data]    |   Unzipping corpora/inaugural.zip.\n",
      "[nltk_data]    | Downloading package movie_reviews to\n",
      "[nltk_data]    |     /Users/igorferreira/nltk_data...\n",
      "[nltk_data]    |   Unzipping corpora/movie_reviews.zip.\n",
      "[nltk_data]    | Downloading package names to\n",
      "[nltk_data]    |     /Users/igorferreira/nltk_data...\n",
      "[nltk_data]    |   Unzipping corpora/names.zip.\n",
      "[nltk_data]    | Downloading package shakespeare to\n",
      "[nltk_data]    |     /Users/igorferreira/nltk_data...\n",
      "[nltk_data]    |   Unzipping corpora/shakespeare.zip.\n",
      "[nltk_data]    | Downloading package stopwords to\n",
      "[nltk_data]    |     /Users/igorferreira/nltk_data...\n",
      "[nltk_data]    |   Unzipping corpora/stopwords.zip.\n",
      "[nltk_data]    | Downloading package treebank to\n",
      "[nltk_data]    |     /Users/igorferreira/nltk_data...\n",
      "[nltk_data]    |   Unzipping corpora/treebank.zip.\n",
      "[nltk_data]    | Downloading package twitter_samples to\n",
      "[nltk_data]    |     /Users/igorferreira/nltk_data...\n",
      "[nltk_data]    |   Unzipping corpora/twitter_samples.zip.\n",
      "[nltk_data]    | Downloading package omw to\n",
      "[nltk_data]    |     /Users/igorferreira/nltk_data...\n",
      "[nltk_data]    | Downloading package omw-1.4 to\n",
      "[nltk_data]    |     /Users/igorferreira/nltk_data...\n",
      "[nltk_data]    | Downloading package wordnet to\n",
      "[nltk_data]    |     /Users/igorferreira/nltk_data...\n",
      "[nltk_data]    | Downloading package wordnet2021 to\n",
      "[nltk_data]    |     /Users/igorferreira/nltk_data...\n",
      "[nltk_data]    | Downloading package wordnet31 to\n",
      "[nltk_data]    |     /Users/igorferreira/nltk_data...\n",
      "[nltk_data]    | Downloading package wordnet_ic to\n",
      "[nltk_data]    |     /Users/igorferreira/nltk_data...\n",
      "[nltk_data]    |   Unzipping corpora/wordnet_ic.zip.\n",
      "[nltk_data]    | Downloading package words to\n",
      "[nltk_data]    |     /Users/igorferreira/nltk_data...\n",
      "[nltk_data]    |   Unzipping corpora/words.zip.\n",
      "[nltk_data]    | Downloading package maxent_ne_chunker to\n",
      "[nltk_data]    |     /Users/igorferreira/nltk_data...\n",
      "[nltk_data]    |   Unzipping chunkers/maxent_ne_chunker.zip.\n",
      "[nltk_data]    | Downloading package punkt to\n",
      "[nltk_data]    |     /Users/igorferreira/nltk_data...\n",
      "[nltk_data]    |   Unzipping tokenizers/punkt.zip.\n",
      "[nltk_data]    | Downloading package snowball_data to\n",
      "[nltk_data]    |     /Users/igorferreira/nltk_data...\n",
      "[nltk_data]    | Downloading package averaged_perceptron_tagger to\n",
      "[nltk_data]    |     /Users/igorferreira/nltk_data...\n",
      "[nltk_data]    |   Unzipping taggers/averaged_perceptron_tagger.zip.\n",
      "[nltk_data]    | \n",
      "[nltk_data]  Done downloading collection popular\n"
     ]
    },
    {
     "data": {
      "text/plain": [
       "True"
      ]
     },
     "execution_count": 8,
     "metadata": {},
     "output_type": "execute_result"
    }
   ],
   "source": [
    "import nltk\n",
    "from nltk.tokenize import word_tokenize\n",
    "from nltk.tag import pos_tag\n",
    "# nltk.download('popular') # Rodar apenas uma vez para fazer a instalação\n"
   ]
  },
  {
   "cell_type": "code",
   "execution_count": 10,
   "metadata": {},
   "outputs": [
    {
     "name": "stdout",
     "output_type": "stream",
     "text": [
      "(S\n",
      "  (NP\n",
      "    PLACA/NNP\n",
      "    DE/NNP\n",
      "    VÍDEO/NNP\n",
      "    ASUS/NNP\n",
      "    NVIDIA/NNP\n",
      "    GEFORCE/NNP\n",
      "    GTX/NNP\n",
      "    1050/CD\n",
      "    TI/NNP)\n",
      "  (NP OC/NNP CERBERUS/NNP)\n",
      "  ,/,\n",
      "  (NP 4GB/CD GDDR5/NNP)\n",
      "  -/:\n",
      "  CERBERUS-GTX1050TI-O4G/NN)\n"
     ]
    }
   ],
   "source": [
    "def preprocess(sent):\n",
    "    sent = nltk.word_tokenize(sent)\n",
    "    sent = nltk.pos_tag(sent)\n",
    "    return sent\n",
    "ex = \"PLACA DE VÍDEO ASUS NVIDIA GEFORCE GTX 1050 TI OC CERBERUS, 4GB GDDR5 - CERBERUS-GTX1050TI-O4G\"\n",
    "sent = preprocess(ex)\n",
    "sent\n",
    "pattern = 'NP: {<NNP>*<CD>*<NNP>}'\n",
    "cp = nltk.RegexpParser(pattern)\n",
    "cs = cp.parse(sent)\n",
    "print(cs)"
   ]
  },
  {
   "cell_type": "code",
   "execution_count": 13,
   "metadata": {},
   "outputs": [
    {
     "name": "stdout",
     "output_type": "stream",
     "text": [
      "[('PLACA', 'NNP', 'B-NP'),\n",
      " ('DE', 'NNP', 'I-NP'),\n",
      " ('VÍDEO', 'NNP', 'I-NP'),\n",
      " ('ASUS', 'NNP', 'I-NP'),\n",
      " ('NVIDIA', 'NNP', 'I-NP'),\n",
      " ('GEFORCE', 'NNP', 'I-NP'),\n",
      " ('GTX', 'NNP', 'I-NP'),\n",
      " ('1050', 'CD', 'I-NP'),\n",
      " ('TI', 'NNP', 'I-NP'),\n",
      " ('OC', 'NNP', 'B-NP'),\n",
      " ('CERBERUS', 'NNP', 'I-NP'),\n",
      " (',', ',', 'O'),\n",
      " ('4GB', 'CD', 'B-NP'),\n",
      " ('GDDR5', 'NNP', 'I-NP'),\n",
      " ('-', ':', 'O'),\n",
      " ('CERBERUS-GTX1050TI-O4G', 'NN', 'O')]\n",
      "(S\n",
      "  (ORGANIZATION PLACA/NNP)\n",
      "  (PERSON DE/NNP)\n",
      "  VÍDEO/NNP\n",
      "  ASUS/NNP\n",
      "  NVIDIA/NNP\n",
      "  GEFORCE/NNP\n",
      "  GTX/NNP\n",
      "  1050/CD\n",
      "  TI/NNP\n",
      "  OC/NNP\n",
      "  CERBERUS/NNP\n",
      "  ,/,\n",
      "  4GB/CD\n",
      "  (ORGANIZATION GDDR5/NNP)\n",
      "  -/:\n",
      "  CERBERUS-GTX1050TI-O4G/NN)\n"
     ]
    }
   ],
   "source": [
    "from nltk.chunk import conlltags2tree, tree2conlltags\n",
    "from pprint import pprint\n",
    "iob_tagged = tree2conlltags(cs)\n",
    "pprint(iob_tagged)\n",
    "ne_tree = nltk.ne_chunk(pos_tag(word_tokenize(ex)))\n",
    "print(ne_tree)"
   ]
  },
  {
   "cell_type": "code",
   "execution_count": 5,
   "metadata": {},
   "outputs": [],
   "source": [
    "def get_resume_product_name(name):\n",
    "    # string = df['nome_produto'][df['id'] == 259].item()\n",
    "    pattern = \"(RTX|GTX|GT|RX|WX|Quadro|R7|R5|R9|HD)\\s(\\d+)\"\n",
    "    resume_name = re.search(pattern, name)\n",
    "    if resume_name is None:\n",
    "        return ''\n",
    "    else:\n",
    "        return resume_name.group()\n",
    "\n",
    "df['ds_nome_produto_resumido'] = df.apply(lambda x: get_resume_product_name(x['ds_nome_produto']), axis=1)"
   ]
  },
  {
   "cell_type": "code",
   "execution_count": 19,
   "metadata": {},
   "outputs": [],
   "source": []
  },
  {
   "cell_type": "code",
   "execution_count": 17,
   "metadata": {},
   "outputs": [
    {
     "data": {
      "text/html": [
       "<div>\n",
       "<style scoped>\n",
       "    .dataframe tbody tr th:only-of-type {\n",
       "        vertical-align: middle;\n",
       "    }\n",
       "\n",
       "    .dataframe tbody tr th {\n",
       "        vertical-align: top;\n",
       "    }\n",
       "\n",
       "    .dataframe thead th {\n",
       "        text-align: right;\n",
       "    }\n",
       "</style>\n",
       "<table border=\"1\" class=\"dataframe\">\n",
       "  <thead>\n",
       "    <tr style=\"text-align: right;\">\n",
       "      <th></th>\n",
       "      <th>ds_marca</th>\n",
       "      <th>ds_nome_produto</th>\n",
       "      <th>vl_preco_atual</th>\n",
       "      <th>vl_preco_com_desconto</th>\n",
       "      <th>vl_porcentagem_do_desconto</th>\n",
       "      <th>qt_quantidade_estoque</th>\n",
       "      <th>oferta</th>\n",
       "      <th>ds_disponibilidade</th>\n",
       "      <th>loja</th>\n",
       "      <th>dt_carga</th>\n",
       "      <th>data</th>\n",
       "    </tr>\n",
       "  </thead>\n",
       "  <tbody>\n",
       "    <tr>\n",
       "      <th>45913</th>\n",
       "      <td>XFX</td>\n",
       "      <td>PLACA DE VIDEO XFX RADEON R7 360 2GB GDDR5 128-BIT, R7-360P-2DF5</td>\n",
       "      <td>576.15</td>\n",
       "      <td>576.15</td>\n",
       "      <td>12.0</td>\n",
       "      <td>&lt;NA&gt;</td>\n",
       "      <td>None</td>\n",
       "      <td>OUT_OF_STOCK</td>\n",
       "      <td>Pichau</td>\n",
       "      <td>2022-10-07 22:01:28.788032+00:00</td>\n",
       "      <td>2022-10-07</td>\n",
       "    </tr>\n",
       "    <tr>\n",
       "      <th>389705</th>\n",
       "      <td>Galax</td>\n",
       "      <td>PLACA DE VÍDEO, NVIDIA GALAX GEFORCE, GTX 1630 4GB, DDR6, 64 BITS</td>\n",
       "      <td>1021.59</td>\n",
       "      <td>970.51</td>\n",
       "      <td>5.0</td>\n",
       "      <td>26</td>\n",
       "      <td>None</td>\n",
       "      <td>True</td>\n",
       "      <td>Kabum</td>\n",
       "      <td>2022-12-07 22:01:41.943312+00:00</td>\n",
       "      <td>2022-12-07</td>\n",
       "    </tr>\n",
       "    <tr>\n",
       "      <th>297416</th>\n",
       "      <td>Evga</td>\n",
       "      <td>PLACA DE VIDEO RTX 3060 TI 8GB GDDR6 256BITS DUAL FAN 08G-P5-3663-KL EVGA</td>\n",
       "      <td>5395.90</td>\n",
       "      <td>4586.51</td>\n",
       "      <td>15.0</td>\n",
       "      <td>0</td>\n",
       "      <td>None</td>\n",
       "      <td>False</td>\n",
       "      <td>Kabum</td>\n",
       "      <td>2022-11-20 22:02:00.222487+00:00</td>\n",
       "      <td>2022-11-20</td>\n",
       "    </tr>\n",
       "    <tr>\n",
       "      <th>254406</th>\n",
       "      <td>Pny</td>\n",
       "      <td>PLACA DE VIDEO PNY NVIDIA QUADRO T1000, 4GB, GDDR6, 128 BITS, LOW PROFILE - VCNT1000-PORPB</td>\n",
       "      <td>3437.59</td>\n",
       "      <td>3265.71</td>\n",
       "      <td>5.0</td>\n",
       "      <td>0</td>\n",
       "      <td>None</td>\n",
       "      <td>False</td>\n",
       "      <td>Kabum</td>\n",
       "      <td>2022-11-12 22:01:49.274075+00:00</td>\n",
       "      <td>2022-11-12</td>\n",
       "    </tr>\n",
       "    <tr>\n",
       "      <th>440210</th>\n",
       "      <td>MSI</td>\n",
       "      <td>PLACA DE VÍDEO MSI GEFORCE GTX 1060 ARMOR 6G OCV1 GDDR5 192BIT</td>\n",
       "      <td>1541.00</td>\n",
       "      <td>1541.00</td>\n",
       "      <td>12.0</td>\n",
       "      <td>&lt;NA&gt;</td>\n",
       "      <td>None</td>\n",
       "      <td>OUT_OF_STOCK</td>\n",
       "      <td>Pichau</td>\n",
       "      <td>2022-12-16 22:01:23.029774+00:00</td>\n",
       "      <td>2022-12-16</td>\n",
       "    </tr>\n",
       "    <tr>\n",
       "      <th>534484</th>\n",
       "      <td>Asus</td>\n",
       "      <td>PLACA DE VÍDEO GTX 1660 ASUS PHOENIX NVIDIA GEFORCE 6GB, GDDR5 - PH-GTX1660-O6G</td>\n",
       "      <td>2941.16</td>\n",
       "      <td>2499.99</td>\n",
       "      <td>15.0</td>\n",
       "      <td>0</td>\n",
       "      <td>[{'ds_oferta_nome': 'Prime', 'vl_oferta_preco_atual': 2852.93, 'vl_oferta_preco_com_desconto': 2424.99, 'vl_oferta_porcentagem_do_desconto': 2}]</td>\n",
       "      <td>False</td>\n",
       "      <td>Kabum</td>\n",
       "      <td>2023-01-02 22:01:51.287766+00:00</td>\n",
       "      <td>2023-01-02</td>\n",
       "    </tr>\n",
       "    <tr>\n",
       "      <th>212028</th>\n",
       "      <td>AMD</td>\n",
       "      <td>PLACA DE VIDEO AFOX RADEON RX 550 4GB 128-BIT, AFRX550-4096D5H3</td>\n",
       "      <td>737.52</td>\n",
       "      <td>737.52</td>\n",
       "      <td>12.0</td>\n",
       "      <td>&lt;NA&gt;</td>\n",
       "      <td>None</td>\n",
       "      <td>OUT_OF_STOCK</td>\n",
       "      <td>Pichau</td>\n",
       "      <td>2022-11-04 22:01:26.935871+00:00</td>\n",
       "      <td>2022-11-04</td>\n",
       "    </tr>\n",
       "    <tr>\n",
       "      <th>444865</th>\n",
       "      <td>Knup</td>\n",
       "      <td>PLACA DE VÍDEO PARA PC DESKTOP, 2GB, DDR3, 64BIT, VGA HDMI, NVIDIA GEFORCE KNUP - KP-GT730/BB</td>\n",
       "      <td>549.80</td>\n",
       "      <td>549.80</td>\n",
       "      <td>0.0</td>\n",
       "      <td>1000</td>\n",
       "      <td>None</td>\n",
       "      <td>True</td>\n",
       "      <td>Kabum</td>\n",
       "      <td>2022-12-17 22:01:36.828901+00:00</td>\n",
       "      <td>2022-12-17</td>\n",
       "    </tr>\n",
       "    <tr>\n",
       "      <th>291830</th>\n",
       "      <td>PCYES</td>\n",
       "      <td>PLACA DE VIDEO AMD RX 6600 8GB GDDR6 128 BITS,GRAFFITI</td>\n",
       "      <td>3096.00</td>\n",
       "      <td>3096.00</td>\n",
       "      <td>0.0</td>\n",
       "      <td>0</td>\n",
       "      <td>None</td>\n",
       "      <td>False</td>\n",
       "      <td>Kabum</td>\n",
       "      <td>2022-11-19 22:01:54.279758+00:00</td>\n",
       "      <td>2022-11-19</td>\n",
       "    </tr>\n",
       "    <tr>\n",
       "      <th>169549</th>\n",
       "      <td>EVGA</td>\n",
       "      <td>PLACA DE VIDEO EVGA GEFORCE GT 740 2GB FTW GDDR5, 128BIT, 02G-P4-3744-KR - BOX</td>\n",
       "      <td>586.00</td>\n",
       "      <td>586.00</td>\n",
       "      <td>12.0</td>\n",
       "      <td>&lt;NA&gt;</td>\n",
       "      <td>None</td>\n",
       "      <td>OUT_OF_STOCK</td>\n",
       "      <td>Pichau</td>\n",
       "      <td>2022-10-27 22:02:29.876756+00:00</td>\n",
       "      <td>2022-10-27</td>\n",
       "    </tr>\n",
       "  </tbody>\n",
       "</table>\n",
       "</div>"
      ],
      "text/plain": [
       "       ds_marca  \\\n",
       "45913       XFX   \n",
       "389705    Galax   \n",
       "297416     Evga   \n",
       "254406      Pny   \n",
       "440210      MSI   \n",
       "534484     Asus   \n",
       "212028      AMD   \n",
       "444865     Knup   \n",
       "291830    PCYES   \n",
       "169549     EVGA   \n",
       "\n",
       "                                                                                      ds_nome_produto  \\\n",
       "45913                                PLACA DE VIDEO XFX RADEON R7 360 2GB GDDR5 128-BIT, R7-360P-2DF5   \n",
       "389705                              PLACA DE VÍDEO, NVIDIA GALAX GEFORCE, GTX 1630 4GB, DDR6, 64 BITS   \n",
       "297416                      PLACA DE VIDEO RTX 3060 TI 8GB GDDR6 256BITS DUAL FAN 08G-P5-3663-KL EVGA   \n",
       "254406     PLACA DE VIDEO PNY NVIDIA QUADRO T1000, 4GB, GDDR6, 128 BITS, LOW PROFILE - VCNT1000-PORPB   \n",
       "440210                                 PLACA DE VÍDEO MSI GEFORCE GTX 1060 ARMOR 6G OCV1 GDDR5 192BIT   \n",
       "534484                PLACA DE VÍDEO GTX 1660 ASUS PHOENIX NVIDIA GEFORCE 6GB, GDDR5 - PH-GTX1660-O6G   \n",
       "212028                                PLACA DE VIDEO AFOX RADEON RX 550 4GB 128-BIT, AFRX550-4096D5H3   \n",
       "444865  PLACA DE VÍDEO PARA PC DESKTOP, 2GB, DDR3, 64BIT, VGA HDMI, NVIDIA GEFORCE KNUP - KP-GT730/BB   \n",
       "291830                                         PLACA DE VIDEO AMD RX 6600 8GB GDDR6 128 BITS,GRAFFITI   \n",
       "169549                 PLACA DE VIDEO EVGA GEFORCE GT 740 2GB FTW GDDR5, 128BIT, 02G-P4-3744-KR - BOX   \n",
       "\n",
       "        vl_preco_atual  vl_preco_com_desconto  vl_porcentagem_do_desconto  \\\n",
       "45913           576.15                 576.15                        12.0   \n",
       "389705         1021.59                 970.51                         5.0   \n",
       "297416         5395.90                4586.51                        15.0   \n",
       "254406         3437.59                3265.71                         5.0   \n",
       "440210         1541.00                1541.00                        12.0   \n",
       "534484         2941.16                2499.99                        15.0   \n",
       "212028          737.52                 737.52                        12.0   \n",
       "444865          549.80                 549.80                         0.0   \n",
       "291830         3096.00                3096.00                         0.0   \n",
       "169549          586.00                 586.00                        12.0   \n",
       "\n",
       "        qt_quantidade_estoque  \\\n",
       "45913                    <NA>   \n",
       "389705                     26   \n",
       "297416                      0   \n",
       "254406                      0   \n",
       "440210                   <NA>   \n",
       "534484                      0   \n",
       "212028                   <NA>   \n",
       "444865                   1000   \n",
       "291830                      0   \n",
       "169549                   <NA>   \n",
       "\n",
       "                                                                                                                                                  oferta  \\\n",
       "45913                                                                                                                                               None   \n",
       "389705                                                                                                                                              None   \n",
       "297416                                                                                                                                              None   \n",
       "254406                                                                                                                                              None   \n",
       "440210                                                                                                                                              None   \n",
       "534484  [{'ds_oferta_nome': 'Prime', 'vl_oferta_preco_atual': 2852.93, 'vl_oferta_preco_com_desconto': 2424.99, 'vl_oferta_porcentagem_do_desconto': 2}]   \n",
       "212028                                                                                                                                              None   \n",
       "444865                                                                                                                                              None   \n",
       "291830                                                                                                                                              None   \n",
       "169549                                                                                                                                              None   \n",
       "\n",
       "       ds_disponibilidade    loja                         dt_carga       data  \n",
       "45913        OUT_OF_STOCK  Pichau 2022-10-07 22:01:28.788032+00:00 2022-10-07  \n",
       "389705               True   Kabum 2022-12-07 22:01:41.943312+00:00 2022-12-07  \n",
       "297416              False   Kabum 2022-11-20 22:02:00.222487+00:00 2022-11-20  \n",
       "254406              False   Kabum 2022-11-12 22:01:49.274075+00:00 2022-11-12  \n",
       "440210       OUT_OF_STOCK  Pichau 2022-12-16 22:01:23.029774+00:00 2022-12-16  \n",
       "534484              False   Kabum 2023-01-02 22:01:51.287766+00:00 2023-01-02  \n",
       "212028       OUT_OF_STOCK  Pichau 2022-11-04 22:01:26.935871+00:00 2022-11-04  \n",
       "444865               True   Kabum 2022-12-17 22:01:36.828901+00:00 2022-12-17  \n",
       "291830              False   Kabum 2022-11-19 22:01:54.279758+00:00 2022-11-19  \n",
       "169549       OUT_OF_STOCK  Pichau 2022-10-27 22:02:29.876756+00:00 2022-10-27  "
      ]
     },
     "execution_count": 17,
     "metadata": {},
     "output_type": "execute_result"
    }
   ],
   "source": [
    "df.sample(10)"
   ]
  },
  {
   "cell_type": "code",
   "execution_count": 16,
   "metadata": {},
   "outputs": [
    {
     "name": "stdout",
     "output_type": "stream",
     "text": [
      "<class 'pandas.core.frame.DataFrame'>\n",
      "Int64Index: 267687 entries, 2663 to 556112\n",
      "Data columns (total 11 columns):\n",
      " #   Column                      Non-Null Count   Dtype              \n",
      "---  ------                      --------------   -----              \n",
      " 0   ds_marca                    267687 non-null  object             \n",
      " 1   ds_nome_produto             267687 non-null  object             \n",
      " 2   vl_preco_atual              267687 non-null  float64            \n",
      " 3   vl_preco_com_desconto       267687 non-null  float64            \n",
      " 4   vl_porcentagem_do_desconto  267687 non-null  float64            \n",
      " 5   qt_quantidade_estoque       101224 non-null  Int64              \n",
      " 6   oferta                      267687 non-null  object             \n",
      " 7   ds_disponibilidade          267687 non-null  object             \n",
      " 8   loja                        267687 non-null  object             \n",
      " 9   dt_carga                    267687 non-null  datetime64[ns, UTC]\n",
      " 10  data                        267687 non-null  datetime64[ns]     \n",
      "dtypes: Int64(1), datetime64[ns, UTC](1), datetime64[ns](1), float64(3), object(5)\n",
      "memory usage: 24.8+ MB\n"
     ]
    }
   ],
   "source": [
    "df['data'] = pd.to_datetime(df['data'], format='%Y-%m-%d')"
   ]
  },
  {
   "cell_type": "code",
   "execution_count": 23,
   "metadata": {},
   "outputs": [
    {
     "data": {
      "text/html": [
       "<div>\n",
       "<style scoped>\n",
       "    .dataframe tbody tr th:only-of-type {\n",
       "        vertical-align: middle;\n",
       "    }\n",
       "\n",
       "    .dataframe tbody tr th {\n",
       "        vertical-align: top;\n",
       "    }\n",
       "\n",
       "    .dataframe thead th {\n",
       "        text-align: right;\n",
       "    }\n",
       "</style>\n",
       "<table border=\"1\" class=\"dataframe\">\n",
       "  <thead>\n",
       "    <tr style=\"text-align: right;\">\n",
       "      <th></th>\n",
       "      <th>ds_marca</th>\n",
       "      <th>ds_nome_produto</th>\n",
       "      <th>vl_preco_atual</th>\n",
       "      <th>vl_preco_com_desconto</th>\n",
       "      <th>vl_porcentagem_do_desconto</th>\n",
       "      <th>qt_quantidade_estoque</th>\n",
       "      <th>oferta</th>\n",
       "      <th>ds_disponibilidade</th>\n",
       "      <th>loja</th>\n",
       "      <th>dt_carga</th>\n",
       "      <th>data</th>\n",
       "      <th>ds_nome_produto_resumido</th>\n",
       "    </tr>\n",
       "  </thead>\n",
       "  <tbody>\n",
       "    <tr>\n",
       "      <th>2667</th>\n",
       "      <td>Asus</td>\n",
       "      <td>PLACA DE VÍDEO ASUS GEFORCE RTX 3080 10GB</td>\n",
       "      <td>19999.00</td>\n",
       "      <td>19999.00</td>\n",
       "      <td>0.0</td>\n",
       "      <td>0</td>\n",
       "      <td>None</td>\n",
       "      <td>False</td>\n",
       "      <td>Kabum</td>\n",
       "      <td>2022-09-29 22:01:30.406181+00:00</td>\n",
       "      <td>2022-09-29</td>\n",
       "      <td>RTX 3080</td>\n",
       "    </tr>\n",
       "    <tr>\n",
       "      <th>2881</th>\n",
       "      <td>Asus</td>\n",
       "      <td>PLACA DE VÍDEO ASUS NVIDIA TUF RTX 3080, 10GB, GDDR6X - TUF-RTX3080-O10G-GAMING</td>\n",
       "      <td>19800.00</td>\n",
       "      <td>19800.00</td>\n",
       "      <td>0.0</td>\n",
       "      <td>0</td>\n",
       "      <td>None</td>\n",
       "      <td>False</td>\n",
       "      <td>Kabum</td>\n",
       "      <td>2022-09-29 22:01:30.406181+00:00</td>\n",
       "      <td>2022-09-29</td>\n",
       "      <td>RTX 3080</td>\n",
       "    </tr>\n",
       "    <tr>\n",
       "      <th>2949</th>\n",
       "      <td>Asus</td>\n",
       "      <td>PLACA DE VÍDEO ASUS TUF GEFORCE RTX 3080 LHR 10GB GDDR6X 320 BIT TUF-RTX3080-10G-V2-GAMING</td>\n",
       "      <td>6895.80</td>\n",
       "      <td>6895.80</td>\n",
       "      <td>0.0</td>\n",
       "      <td>0</td>\n",
       "      <td>None</td>\n",
       "      <td>False</td>\n",
       "      <td>Kabum</td>\n",
       "      <td>2022-09-29 22:01:30.406181+00:00</td>\n",
       "      <td>2022-09-29</td>\n",
       "      <td>RTX 3080</td>\n",
       "    </tr>\n",
       "    <tr>\n",
       "      <th>3175</th>\n",
       "      <td>Asus</td>\n",
       "      <td>PLACA DE VIDEO ASUS GEFORCE RTX 3080, TI 12GB, DDR6X - TUF-RTX3080TI-O12G-GAMING</td>\n",
       "      <td>11873.90</td>\n",
       "      <td>10686.51</td>\n",
       "      <td>10.0</td>\n",
       "      <td>6</td>\n",
       "      <td>None</td>\n",
       "      <td>True</td>\n",
       "      <td>Kabum</td>\n",
       "      <td>2022-09-29 22:01:30.406181+00:00</td>\n",
       "      <td>2022-09-29</td>\n",
       "      <td>RTX 3080</td>\n",
       "    </tr>\n",
       "    <tr>\n",
       "      <th>3244</th>\n",
       "      <td>Asus</td>\n",
       "      <td>PLACA DE VÍDEO ASUS ROG STRIX GEFORCE RTX 3080 OC EDTION LHR,  10GB, GDDR6X, 320 BIT, ROG-STRIX-RTX3080-O10G-V2-GAMING</td>\n",
       "      <td>13320.00</td>\n",
       "      <td>11988.00</td>\n",
       "      <td>10.0</td>\n",
       "      <td>0</td>\n",
       "      <td>None</td>\n",
       "      <td>False</td>\n",
       "      <td>Kabum</td>\n",
       "      <td>2022-09-29 22:01:30.406181+00:00</td>\n",
       "      <td>2022-09-29</td>\n",
       "      <td>RTX 3080</td>\n",
       "    </tr>\n",
       "    <tr>\n",
       "      <th>...</th>\n",
       "      <td>...</td>\n",
       "      <td>...</td>\n",
       "      <td>...</td>\n",
       "      <td>...</td>\n",
       "      <td>...</td>\n",
       "      <td>...</td>\n",
       "      <td>...</td>\n",
       "      <td>...</td>\n",
       "      <td>...</td>\n",
       "      <td>...</td>\n",
       "      <td>...</td>\n",
       "      <td>...</td>\n",
       "    </tr>\n",
       "    <tr>\n",
       "      <th>553443</th>\n",
       "      <td>Asus</td>\n",
       "      <td>PLACA DE VÍDEO ASUS NVIDIA TUF RTX 3080, 10GB, GDDR6X - TUF-RTX3080-O10G-GAMING</td>\n",
       "      <td>19800.00</td>\n",
       "      <td>19800.00</td>\n",
       "      <td>0.0</td>\n",
       "      <td>0</td>\n",
       "      <td>None</td>\n",
       "      <td>False</td>\n",
       "      <td>Kabum</td>\n",
       "      <td>2023-01-06 10:01:58.934960+00:00</td>\n",
       "      <td>2023-01-06</td>\n",
       "      <td>RTX 3080</td>\n",
       "    </tr>\n",
       "    <tr>\n",
       "      <th>553882</th>\n",
       "      <td>Asus</td>\n",
       "      <td>PLACA DE VÍDEO ASUS ROG STRIX GEFORCE RTX 3080 OC EDTION LHR,  10GB, GDDR6X, 320 BIT, ROG-STRIX-RTX3080-O10G-V2-GAMING</td>\n",
       "      <td>13320.00</td>\n",
       "      <td>11988.00</td>\n",
       "      <td>10.0</td>\n",
       "      <td>0</td>\n",
       "      <td>None</td>\n",
       "      <td>False</td>\n",
       "      <td>Kabum</td>\n",
       "      <td>2023-01-06 10:01:58.934960+00:00</td>\n",
       "      <td>2023-01-06</td>\n",
       "      <td>RTX 3080</td>\n",
       "    </tr>\n",
       "    <tr>\n",
       "      <th>554088</th>\n",
       "      <td>Asus</td>\n",
       "      <td>PLACA DE VÍDEO RTX 3080 0O10G V2 GAMING ASUS NVIDIA GEFORCE TUF, 10GB GDDR6X, DLSS, LHR, RGB, 19 GBPS, RAY TRACING, LED</td>\n",
       "      <td>9411.75</td>\n",
       "      <td>7999.99</td>\n",
       "      <td>15.0</td>\n",
       "      <td>0</td>\n",
       "      <td>[{'ds_oferta_nome': 'Prime', 'vl_oferta_preco_atual': 9129.4, 'vl_oferta_preco_com_desconto': 7759.99, 'vl_oferta_porcentagem_do_desconto': 2}]</td>\n",
       "      <td>False</td>\n",
       "      <td>Kabum</td>\n",
       "      <td>2023-01-06 10:01:58.934960+00:00</td>\n",
       "      <td>2023-01-06</td>\n",
       "      <td>RTX 3080</td>\n",
       "    </tr>\n",
       "    <tr>\n",
       "      <th>554092</th>\n",
       "      <td>Asus</td>\n",
       "      <td>PLACA DE VÍDEO RTX 3080 V2 OC EDITION ASUS ROG STRIX GEFORCE, LHR, 10GB GDDR6X, 19 GBPS, RAY TRACING, RGB - ROG-STRIX-RTX3080-O10G-V2-GAMING</td>\n",
       "      <td>8352.93</td>\n",
       "      <td>7099.99</td>\n",
       "      <td>15.0</td>\n",
       "      <td>0</td>\n",
       "      <td>[{'ds_oferta_nome': 'Prime', 'vl_oferta_preco_atual': 8102.34, 'vl_oferta_preco_com_desconto': 6886.99, 'vl_oferta_porcentagem_do_desconto': 3}]</td>\n",
       "      <td>False</td>\n",
       "      <td>Kabum</td>\n",
       "      <td>2023-01-06 10:01:58.934960+00:00</td>\n",
       "      <td>2023-01-06</td>\n",
       "      <td>RTX 3080</td>\n",
       "    </tr>\n",
       "    <tr>\n",
       "      <th>554094</th>\n",
       "      <td>Asus</td>\n",
       "      <td>PLACA DE VÍDEO RTX 3080 GAMING OC ASUS ROG STRIX, 12GB, GDDR6X, LHR, DLSS, RGB, RAY TRACING - 90YV0FAC-M0NA00</td>\n",
       "      <td>8458.81</td>\n",
       "      <td>7189.99</td>\n",
       "      <td>15.0</td>\n",
       "      <td>0</td>\n",
       "      <td>[{'ds_oferta_nome': 'Prime', 'vl_oferta_preco_atual': 8205.05, 'vl_oferta_preco_com_desconto': 6974.29, 'vl_oferta_porcentagem_do_desconto': 2}]</td>\n",
       "      <td>False</td>\n",
       "      <td>Kabum</td>\n",
       "      <td>2023-01-06 10:01:58.934960+00:00</td>\n",
       "      <td>2023-01-06</td>\n",
       "      <td>RTX 3080</td>\n",
       "    </tr>\n",
       "  </tbody>\n",
       "</table>\n",
       "<p>811 rows × 12 columns</p>\n",
       "</div>"
      ],
      "text/plain": [
       "       ds_marca  \\\n",
       "2667       Asus   \n",
       "2881       Asus   \n",
       "2949       Asus   \n",
       "3175       Asus   \n",
       "3244       Asus   \n",
       "...         ...   \n",
       "553443     Asus   \n",
       "553882     Asus   \n",
       "554088     Asus   \n",
       "554092     Asus   \n",
       "554094     Asus   \n",
       "\n",
       "                                                                                                                                     ds_nome_produto  \\\n",
       "2667                                                                                                       PLACA DE VÍDEO ASUS GEFORCE RTX 3080 10GB   \n",
       "2881                                                                 PLACA DE VÍDEO ASUS NVIDIA TUF RTX 3080, 10GB, GDDR6X - TUF-RTX3080-O10G-GAMING   \n",
       "2949                                                      PLACA DE VÍDEO ASUS TUF GEFORCE RTX 3080 LHR 10GB GDDR6X 320 BIT TUF-RTX3080-10G-V2-GAMING   \n",
       "3175                                                                PLACA DE VIDEO ASUS GEFORCE RTX 3080, TI 12GB, DDR6X - TUF-RTX3080TI-O12G-GAMING   \n",
       "3244                          PLACA DE VÍDEO ASUS ROG STRIX GEFORCE RTX 3080 OC EDTION LHR,  10GB, GDDR6X, 320 BIT, ROG-STRIX-RTX3080-O10G-V2-GAMING   \n",
       "...                                                                                                                                              ...   \n",
       "553443                                                               PLACA DE VÍDEO ASUS NVIDIA TUF RTX 3080, 10GB, GDDR6X - TUF-RTX3080-O10G-GAMING   \n",
       "553882                        PLACA DE VÍDEO ASUS ROG STRIX GEFORCE RTX 3080 OC EDTION LHR,  10GB, GDDR6X, 320 BIT, ROG-STRIX-RTX3080-O10G-V2-GAMING   \n",
       "554088                       PLACA DE VÍDEO RTX 3080 0O10G V2 GAMING ASUS NVIDIA GEFORCE TUF, 10GB GDDR6X, DLSS, LHR, RGB, 19 GBPS, RAY TRACING, LED   \n",
       "554092  PLACA DE VÍDEO RTX 3080 V2 OC EDITION ASUS ROG STRIX GEFORCE, LHR, 10GB GDDR6X, 19 GBPS, RAY TRACING, RGB - ROG-STRIX-RTX3080-O10G-V2-GAMING   \n",
       "554094                                 PLACA DE VÍDEO RTX 3080 GAMING OC ASUS ROG STRIX, 12GB, GDDR6X, LHR, DLSS, RGB, RAY TRACING - 90YV0FAC-M0NA00   \n",
       "\n",
       "        vl_preco_atual  vl_preco_com_desconto  vl_porcentagem_do_desconto  \\\n",
       "2667          19999.00               19999.00                         0.0   \n",
       "2881          19800.00               19800.00                         0.0   \n",
       "2949           6895.80                6895.80                         0.0   \n",
       "3175          11873.90               10686.51                        10.0   \n",
       "3244          13320.00               11988.00                        10.0   \n",
       "...                ...                    ...                         ...   \n",
       "553443        19800.00               19800.00                         0.0   \n",
       "553882        13320.00               11988.00                        10.0   \n",
       "554088         9411.75                7999.99                        15.0   \n",
       "554092         8352.93                7099.99                        15.0   \n",
       "554094         8458.81                7189.99                        15.0   \n",
       "\n",
       "        qt_quantidade_estoque  \\\n",
       "2667                        0   \n",
       "2881                        0   \n",
       "2949                        0   \n",
       "3175                        6   \n",
       "3244                        0   \n",
       "...                       ...   \n",
       "553443                      0   \n",
       "553882                      0   \n",
       "554088                      0   \n",
       "554092                      0   \n",
       "554094                      0   \n",
       "\n",
       "                                                                                                                                                  oferta  \\\n",
       "2667                                                                                                                                                None   \n",
       "2881                                                                                                                                                None   \n",
       "2949                                                                                                                                                None   \n",
       "3175                                                                                                                                                None   \n",
       "3244                                                                                                                                                None   \n",
       "...                                                                                                                                                  ...   \n",
       "553443                                                                                                                                              None   \n",
       "553882                                                                                                                                              None   \n",
       "554088   [{'ds_oferta_nome': 'Prime', 'vl_oferta_preco_atual': 9129.4, 'vl_oferta_preco_com_desconto': 7759.99, 'vl_oferta_porcentagem_do_desconto': 2}]   \n",
       "554092  [{'ds_oferta_nome': 'Prime', 'vl_oferta_preco_atual': 8102.34, 'vl_oferta_preco_com_desconto': 6886.99, 'vl_oferta_porcentagem_do_desconto': 3}]   \n",
       "554094  [{'ds_oferta_nome': 'Prime', 'vl_oferta_preco_atual': 8205.05, 'vl_oferta_preco_com_desconto': 6974.29, 'vl_oferta_porcentagem_do_desconto': 2}]   \n",
       "\n",
       "       ds_disponibilidade   loja                         dt_carga       data  \\\n",
       "2667                False  Kabum 2022-09-29 22:01:30.406181+00:00 2022-09-29   \n",
       "2881                False  Kabum 2022-09-29 22:01:30.406181+00:00 2022-09-29   \n",
       "2949                False  Kabum 2022-09-29 22:01:30.406181+00:00 2022-09-29   \n",
       "3175                 True  Kabum 2022-09-29 22:01:30.406181+00:00 2022-09-29   \n",
       "3244                False  Kabum 2022-09-29 22:01:30.406181+00:00 2022-09-29   \n",
       "...                   ...    ...                              ...        ...   \n",
       "553443              False  Kabum 2023-01-06 10:01:58.934960+00:00 2023-01-06   \n",
       "553882              False  Kabum 2023-01-06 10:01:58.934960+00:00 2023-01-06   \n",
       "554088              False  Kabum 2023-01-06 10:01:58.934960+00:00 2023-01-06   \n",
       "554092              False  Kabum 2023-01-06 10:01:58.934960+00:00 2023-01-06   \n",
       "554094              False  Kabum 2023-01-06 10:01:58.934960+00:00 2023-01-06   \n",
       "\n",
       "       ds_nome_produto_resumido  \n",
       "2667                   RTX 3080  \n",
       "2881                   RTX 3080  \n",
       "2949                   RTX 3080  \n",
       "3175                   RTX 3080  \n",
       "3244                   RTX 3080  \n",
       "...                         ...  \n",
       "553443                 RTX 3080  \n",
       "553882                 RTX 3080  \n",
       "554088                 RTX 3080  \n",
       "554092                 RTX 3080  \n",
       "554094                 RTX 3080  \n",
       "\n",
       "[811 rows x 12 columns]"
      ]
     },
     "execution_count": 23,
     "metadata": {},
     "output_type": "execute_result"
    }
   ],
   "source": [
    "df.query(\"\"\" loja == 'Kabum' and ds_marca == 'Asus' and ds_nome_produto_resumido == 'RTX 3080' and  \"\"\")"
   ]
  },
  {
   "attachments": {},
   "cell_type": "markdown",
   "metadata": {},
   "source": [
    "# Dividindo o dataset para analisar o processo base pelo tempo e se houve aumento"
   ]
  },
  {
   "cell_type": "code",
   "execution_count": null,
   "metadata": {},
   "outputs": [],
   "source": []
  },
  {
   "cell_type": "code",
   "execution_count": null,
   "metadata": {},
   "outputs": [],
   "source": []
  },
  {
   "cell_type": "code",
   "execution_count": null,
   "metadata": {},
   "outputs": [],
   "source": []
  },
  {
   "attachments": {},
   "cell_type": "markdown",
   "metadata": {},
   "source": [
    "# Transpostar para outra lugar depois"
   ]
  },
  {
   "cell_type": "code",
   "execution_count": 11,
   "metadata": {},
   "outputs": [],
   "source": [
    "# Limpa o nome de arquivos RTX A2000, 12GB\n",
    "import os\n",
    "import re\n",
    "folder = './teste/'\n",
    "for filename in os.listdir('./teste'):\n",
    "    nome = re.sub(r'\\([^)]*\\)', '', filename)\n",
    "    nome = re.sub(r'\\s+(?=[.,?!])', '', nome)\n",
    "    os.rename(os.path.join(folder, filename), os.path.join(folder, nome))"
   ]
  },
  {
   "cell_type": "code",
   "execution_count": 27,
   "metadata": {},
   "outputs": [],
   "source": []
  },
  {
   "cell_type": "code",
   "execution_count": null,
   "metadata": {},
   "outputs": [],
   "source": [
    "\n"
   ]
  }
 ],
 "metadata": {
  "kernelspec": {
   "display_name": "ds_analysis_hardware_market-RD6MlNci",
   "language": "python",
   "name": "python3"
  },
  "language_info": {
   "codemirror_mode": {
    "name": "ipython",
    "version": 3
   },
   "file_extension": ".py",
   "mimetype": "text/x-python",
   "name": "python",
   "nbconvert_exporter": "python",
   "pygments_lexer": "ipython3",
   "version": "3.10.7"
  },
  "vscode": {
   "interpreter": {
    "hash": "e3d77f0af97eb2f5a9ce062861010adc19a5e169f09a25d48cf6fd0ced9b5ed6"
   }
  }
 },
 "nbformat": 4,
 "nbformat_minor": 0
}
