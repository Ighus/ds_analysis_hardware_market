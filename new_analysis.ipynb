{
 "cells": [
  {
   "cell_type": "code",
   "execution_count": 2,
   "metadata": {
    "collapsed": true
   },
   "outputs": [],
   "source": [
    "import pandas as pd\n",
    "import numpy as np\n",
    "import re\n",
    "from datetime import timedelta\n",
    "from connection_keys import connect_bq_client\n",
    "import statsmodels.api as sm\n",
    "import os\n",
    "import warnings\n",
    "import itertools\n",
    "warnings.filterwarnings(\"ignore\")"
   ]
  },
  {
   "cell_type": "code",
   "execution_count": 12,
   "metadata": {},
   "outputs": [],
   "source": [
    "client = connect_bq_client()\n",
    "\n",
    "sql = \"\"\"\n",
    "    SELECT *\n",
    "    FROM `db_market_product.gpu`\n",
    "    ORDER BY dt_carga asc\n",
    "\"\"\"\n",
    "\n",
    "df = client.query(sql).to_dataframe()"
   ]
  },
  {
   "cell_type": "code",
   "execution_count": 14,
   "metadata": {},
   "outputs": [
    {
     "data": {
      "text/html": [
       "<div>\n",
       "<style scoped>\n",
       "    .dataframe tbody tr th:only-of-type {\n",
       "        vertical-align: middle;\n",
       "    }\n",
       "\n",
       "    .dataframe tbody tr th {\n",
       "        vertical-align: top;\n",
       "    }\n",
       "\n",
       "    .dataframe thead th {\n",
       "        text-align: right;\n",
       "    }\n",
       "</style>\n",
       "<table border=\"1\" class=\"dataframe\">\n",
       "  <thead>\n",
       "    <tr style=\"text-align: right;\">\n",
       "      <th></th>\n",
       "      <th>ds_marca</th>\n",
       "      <th>ds_nome_produto</th>\n",
       "      <th>vl_preco_atual</th>\n",
       "      <th>vl_preco_com_desconto</th>\n",
       "      <th>vl_porcentagem_do_desconto</th>\n",
       "      <th>qt_quantidade_estoque</th>\n",
       "      <th>oferta</th>\n",
       "      <th>ds_disponibilidade</th>\n",
       "      <th>loja</th>\n",
       "      <th>dt_carga</th>\n",
       "      <th>data</th>\n",
       "    </tr>\n",
       "  </thead>\n",
       "  <tbody>\n",
       "    <tr>\n",
       "      <th>0</th>\n",
       "      <td>Nvidia</td>\n",
       "      <td>Nvlink 3 Slot Rtx Geforce</td>\n",
       "      <td>1322.0</td>\n",
       "      <td>1322.0</td>\n",
       "      <td>0.0</td>\n",
       "      <td>0</td>\n",
       "      <td>None</td>\n",
       "      <td>False</td>\n",
       "      <td>Kabum</td>\n",
       "      <td>2022-09-29 12:26:15.112196+00:00</td>\n",
       "      <td>2022-09-29</td>\n",
       "    </tr>\n",
       "    <tr>\n",
       "      <th>1</th>\n",
       "      <td>Gigabyte</td>\n",
       "      <td>Gigabyte GTX 1050 Ti, 4GB, DDR5</td>\n",
       "      <td>1999.0</td>\n",
       "      <td>1999.0</td>\n",
       "      <td>0.0</td>\n",
       "      <td>0</td>\n",
       "      <td>None</td>\n",
       "      <td>False</td>\n",
       "      <td>Kabum</td>\n",
       "      <td>2022-09-29 12:26:15.112196+00:00</td>\n",
       "      <td>2022-09-29</td>\n",
       "    </tr>\n",
       "    <tr>\n",
       "      <th>2</th>\n",
       "      <td>Nvidia</td>\n",
       "      <td>Vga Pci-e 1gb Galax Geforce Gt710 - 1gb</td>\n",
       "      <td>339.0</td>\n",
       "      <td>339.0</td>\n",
       "      <td>0.0</td>\n",
       "      <td>0</td>\n",
       "      <td>None</td>\n",
       "      <td>False</td>\n",
       "      <td>Kabum</td>\n",
       "      <td>2022-09-29 12:26:15.112196+00:00</td>\n",
       "      <td>2022-09-29</td>\n",
       "    </tr>\n",
       "    <tr>\n",
       "      <th>3</th>\n",
       "      <td>Colorful</td>\n",
       "      <td>Placa de Video Colorful GT 710, 1GB DDR3</td>\n",
       "      <td>349.0</td>\n",
       "      <td>349.0</td>\n",
       "      <td>0.0</td>\n",
       "      <td>93</td>\n",
       "      <td>None</td>\n",
       "      <td>True</td>\n",
       "      <td>Kabum</td>\n",
       "      <td>2022-09-29 12:26:15.112196+00:00</td>\n",
       "      <td>2022-09-29</td>\n",
       "    </tr>\n",
       "    <tr>\n",
       "      <th>4</th>\n",
       "      <td>Asus</td>\n",
       "      <td>Placa de Vídeo Asus GeForce RTX 3080 10GB</td>\n",
       "      <td>19999.0</td>\n",
       "      <td>19999.0</td>\n",
       "      <td>0.0</td>\n",
       "      <td>0</td>\n",
       "      <td>None</td>\n",
       "      <td>False</td>\n",
       "      <td>Kabum</td>\n",
       "      <td>2022-09-29 12:26:15.112196+00:00</td>\n",
       "      <td>2022-09-29</td>\n",
       "    </tr>\n",
       "  </tbody>\n",
       "</table>\n",
       "</div>"
      ],
      "text/plain": [
       "   ds_marca                            ds_nome_produto  vl_preco_atual  \\\n",
       "0    Nvidia                  Nvlink 3 Slot Rtx Geforce          1322.0   \n",
       "1  Gigabyte            Gigabyte GTX 1050 Ti, 4GB, DDR5          1999.0   \n",
       "2    Nvidia    Vga Pci-e 1gb Galax Geforce Gt710 - 1gb           339.0   \n",
       "3  Colorful   Placa de Video Colorful GT 710, 1GB DDR3           349.0   \n",
       "4      Asus  Placa de Vídeo Asus GeForce RTX 3080 10GB         19999.0   \n",
       "\n",
       "   vl_preco_com_desconto  vl_porcentagem_do_desconto  qt_quantidade_estoque  \\\n",
       "0                 1322.0                         0.0                      0   \n",
       "1                 1999.0                         0.0                      0   \n",
       "2                  339.0                         0.0                      0   \n",
       "3                  349.0                         0.0                     93   \n",
       "4                19999.0                         0.0                      0   \n",
       "\n",
       "  oferta ds_disponibilidade   loja                         dt_carga  \\\n",
       "0   None              False  Kabum 2022-09-29 12:26:15.112196+00:00   \n",
       "1   None              False  Kabum 2022-09-29 12:26:15.112196+00:00   \n",
       "2   None              False  Kabum 2022-09-29 12:26:15.112196+00:00   \n",
       "3   None               True  Kabum 2022-09-29 12:26:15.112196+00:00   \n",
       "4   None              False  Kabum 2022-09-29 12:26:15.112196+00:00   \n",
       "\n",
       "         data  \n",
       "0  2022-09-29  \n",
       "1  2022-09-29  \n",
       "2  2022-09-29  \n",
       "3  2022-09-29  \n",
       "4  2022-09-29  "
      ]
     },
     "execution_count": 14,
     "metadata": {},
     "output_type": "execute_result"
    }
   ],
   "source": [
    "df['data'] = df.dt_carga.dt.date\n",
    "df.head()"
   ]
  },
  {
   "cell_type": "code",
   "execution_count": 5,
   "metadata": {},
   "outputs": [
    {
     "name": "stdout",
     "output_type": "stream",
     "text": [
      "<class 'pandas.core.frame.DataFrame'>\n",
      "RangeIndex: 378682 entries, 0 to 378681\n",
      "Data columns (total 11 columns):\n",
      " #   Column                      Non-Null Count   Dtype              \n",
      "---  ------                      --------------   -----              \n",
      " 0   ds_marca                    378682 non-null  object             \n",
      " 1   ds_nome_produto             378682 non-null  object             \n",
      " 2   vl_preco_atual              378682 non-null  float64            \n",
      " 3   vl_preco_com_desconto       378682 non-null  float64            \n",
      " 4   vl_porcentagem_do_desconto  378682 non-null  float64            \n",
      " 5   qt_quantidade_estoque       140745 non-null  Int64              \n",
      " 6   oferta                      378682 non-null  object             \n",
      " 7   ds_disponibilidade          378682 non-null  object             \n",
      " 8   loja                        378682 non-null  object             \n",
      " 9   dt_carga                    378682 non-null  datetime64[ns, UTC]\n",
      " 10  data                        378682 non-null  object             \n",
      "dtypes: Int64(1), datetime64[ns, UTC](1), float64(3), object(6)\n",
      "memory usage: 32.1+ MB\n"
     ]
    }
   ],
   "source": [
    "df.info()"
   ]
  },
  {
   "cell_type": "code",
   "execution_count": 6,
   "metadata": {},
   "outputs": [
    {
     "data": {
      "text/plain": [
       "data        loja  \n",
       "2022-09-29  Kabum     2\n",
       "            Pichau    2\n",
       "2022-09-30  Kabum     2\n",
       "            Pichau    2\n",
       "2022-10-01  Kabum     2\n",
       "                     ..\n",
       "2022-12-03  Pichau    2\n",
       "2022-12-04  Kabum     2\n",
       "            Pichau    2\n",
       "2022-12-05  Kabum     1\n",
       "            Pichau    1\n",
       "Name: dt_carga, Length: 136, dtype: int64"
      ]
     },
     "execution_count": 6,
     "metadata": {},
     "output_type": "execute_result"
    }
   ],
   "source": [
    "df.groupby(['dt_carga'])['loja'].count()\n",
    "df.groupby(['data', 'loja'])['dt_carga'].nunique()\n",
    "# df['data'].value_counts().sort_index().reset_index()\n",
    "# df['data'] = df.dt_carga.dt.date"
   ]
  },
  {
   "cell_type": "code",
   "execution_count": 15,
   "metadata": {},
   "outputs": [],
   "source": [
    "# df_datas_loja = df.groupby(['data', 'loja'])['dt_carga'].nunique()\n",
    "# df_datas_loja\n",
    "maxDf = df.groupby(['data'])['dt_carga'].max()\n",
    "minDf = df.groupby(['data'])['dt_carga'].min()\n",
    "maxDates = maxDf.tolist()\n",
    "df = df.loc[df['dt_carga'].isin(maxDates)]"
   ]
  },
  {
   "cell_type": "code",
   "execution_count": null,
   "metadata": {},
   "outputs": [],
   "source": []
  },
  {
   "cell_type": "markdown",
   "metadata": {},
   "source": [
    "# Transpostar para outra lugar depois"
   ]
  },
  {
   "cell_type": "code",
   "execution_count": 11,
   "metadata": {},
   "outputs": [],
   "source": [
    "# Limpa o nome de arquivos\n",
    "import os\n",
    "import re\n",
    "folder = './teste/'\n",
    "for filename in os.listdir('./teste'):\n",
    "    nome = re.sub(r'\\([^)]*\\)', '', filename)\n",
    "    nome = re.sub(r'\\s+(?=[.,?!])', '', nome)\n",
    "    os.rename(os.path.join(folder, filename), os.path.join(folder, nome))"
   ]
  },
  {
   "cell_type": "code",
   "execution_count": 27,
   "metadata": {},
   "outputs": [],
   "source": []
  },
  {
   "cell_type": "code",
   "execution_count": null,
   "metadata": {},
   "outputs": [],
   "source": [
    "\n"
   ]
  }
 ],
 "metadata": {
  "kernelspec": {
   "display_name": "Python 3.10.7 ('ds_analysis_hardware_market-RD6MlNci')",
   "language": "python",
   "name": "python3"
  },
  "language_info": {
   "codemirror_mode": {
    "name": "ipython",
    "version": 3
   },
   "file_extension": ".py",
   "mimetype": "text/x-python",
   "name": "python",
   "nbconvert_exporter": "python",
   "pygments_lexer": "ipython3",
   "version": "3.10.7"
  },
  "vscode": {
   "interpreter": {
    "hash": "e3d77f0af97eb2f5a9ce062861010adc19a5e169f09a25d48cf6fd0ced9b5ed6"
   }
  }
 },
 "nbformat": 4,
 "nbformat_minor": 0
}
