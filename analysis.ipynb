{
 "metadata": {
  "language_info": {
   "codemirror_mode": {
    "name": "ipython",
    "version": 3
   },
   "file_extension": ".py",
   "mimetype": "text/x-python",
   "name": "python",
   "nbconvert_exporter": "python",
   "pygments_lexer": "ipython3",
   "version": "3.8.3-final"
  },
  "orig_nbformat": 2,
  "kernelspec": {
   "name": "python_defaultSpec_1599423043583",
   "display_name": "Python 3.8.3 64-bit"
  }
 },
 "nbformat": 4,
 "nbformat_minor": 2,
 "cells": [
  {
   "cell_type": "code",
   "execution_count": 62,
   "metadata": {},
   "outputs": [],
   "source": [
    "import pandas as pd\n",
    "import numpy as np\n",
    "import re\n",
    "from connection_keys import connection"
   ]
  },
  {
   "cell_type": "code",
   "execution_count": 2,
   "metadata": {},
   "outputs": [],
   "source": [
    "connectionbd = connection('db_hardware')"
   ]
  },
  {
   "cell_type": "code",
   "execution_count": 39,
   "metadata": {},
   "outputs": [],
   "source": [
    "query = \"\"\"\n",
    "    select * from graphic_card\n",
    "\"\"\"\n",
    "df = pd.read_sql(query, connectionbd)"
   ]
  },
  {
   "cell_type": "code",
   "execution_count": 42,
   "metadata": {},
   "outputs": [
    {
     "output_type": "execute_result",
     "data": {
      "text/plain": "id                       int64\nmarca                   object\nnome_produto            object\npreco_antigo_cartao    float64\npreco_atual_cartao     float64\npreco_boleto           float64\ndata                    object\nhora                    object\nloja                    object\ndtype: object"
     },
     "metadata": {},
     "execution_count": 42
    }
   ],
   "source": [
    "df.dtypes"
   ]
  },
  {
   "cell_type": "code",
   "execution_count": 35,
   "metadata": {},
   "outputs": [
    {
     "output_type": "execute_result",
     "data": {
      "text/plain": "      id       marca                                       nome_produto  \\\n0      0    Gigabyte  Placa de Vídeo Gigabyte NVIDIA GeForce GTX 165...   \n1      1        Asus  Placa de Vídeo Asus TUF NVIDIA GeForce RTX 206...   \n2      2        Asus  Placa de Vídeo Asus TUF3 NVIDIA GeForce GTX 16...   \n3      3    Gigabyte  Placa de Vídeo Gigabyte NVIDIA GeForce GTX 165...   \n4      4    Gigabyte  Placa de Vídeo Gigabyte GTX 1660 Super OC NVID...   \n..   ...         ...                                                ...   \n372  372         Pny  Placa de Vídeo PNY NVIDIA Quadro P400, 2GB, GD...   \n373  373  Powercolor  Placa de Vídeo PowerColor Red Dragon AMD Radeo...   \n374  374         MSI  Placa de Vídeo MSI NVIDIA GeForce GTX 1650 Gam...   \n375  375      ASRock  Placa de Vídeo ASRock AMD Radeon RX 5700 XT Ph...   \n376  376    Sapphire  Placa de Vídeo Sapphire Pulse AMD Radeon RX 57...   \n\n    preco_antigo_cartao preco_atual_cartao preco_boleto        data      hora  \\\n0                     0           1.399,89     1.329,90  2020-09-06  17:59:00   \n1              2.894,00           2.658,71     2.259,90  2020-09-06  17:59:00   \n2                     0           2.420,95     2.299,90  2020-09-06  17:59:00   \n3                     0           1.578,84     1.499,90  2020-09-06  17:59:00   \n4                     0           2.210,42     2.099,90  2020-09-06  17:59:00   \n..                  ...                ...          ...         ...       ...   \n372                   0           1.311,65     1.114,90  2020-09-06  17:59:00   \n373                   0             783,41       665,90  2020-09-06  17:59:00   \n374            1.599,88           1.388,12     1.179,90  2020-09-06  17:59:00   \n375                   0           3.835,18     3.259,90  2020-09-06  17:59:00   \n376            4.177,53           3.529,29     2.999,90  2020-09-06  17:59:00   \n\n      loja  \n0    Kabum  \n1    Kabum  \n2    Kabum  \n3    Kabum  \n4    Kabum  \n..     ...  \n372  Kabum  \n373  Kabum  \n374  Kabum  \n375  Kabum  \n376  Kabum  \n\n[377 rows x 9 columns]",
      "text/html": "<div>\n<style scoped>\n    .dataframe tbody tr th:only-of-type {\n        vertical-align: middle;\n    }\n\n    .dataframe tbody tr th {\n        vertical-align: top;\n    }\n\n    .dataframe thead th {\n        text-align: right;\n    }\n</style>\n<table border=\"1\" class=\"dataframe\">\n  <thead>\n    <tr style=\"text-align: right;\">\n      <th></th>\n      <th>id</th>\n      <th>marca</th>\n      <th>nome_produto</th>\n      <th>preco_antigo_cartao</th>\n      <th>preco_atual_cartao</th>\n      <th>preco_boleto</th>\n      <th>data</th>\n      <th>hora</th>\n      <th>loja</th>\n    </tr>\n  </thead>\n  <tbody>\n    <tr>\n      <th>0</th>\n      <td>0</td>\n      <td>Gigabyte</td>\n      <td>Placa de Vídeo Gigabyte NVIDIA GeForce GTX 165...</td>\n      <td>0</td>\n      <td>1.399,89</td>\n      <td>1.329,90</td>\n      <td>2020-09-06</td>\n      <td>17:59:00</td>\n      <td>Kabum</td>\n    </tr>\n    <tr>\n      <th>1</th>\n      <td>1</td>\n      <td>Asus</td>\n      <td>Placa de Vídeo Asus TUF NVIDIA GeForce RTX 206...</td>\n      <td>2.894,00</td>\n      <td>2.658,71</td>\n      <td>2.259,90</td>\n      <td>2020-09-06</td>\n      <td>17:59:00</td>\n      <td>Kabum</td>\n    </tr>\n    <tr>\n      <th>2</th>\n      <td>2</td>\n      <td>Asus</td>\n      <td>Placa de Vídeo Asus TUF3 NVIDIA GeForce GTX 16...</td>\n      <td>0</td>\n      <td>2.420,95</td>\n      <td>2.299,90</td>\n      <td>2020-09-06</td>\n      <td>17:59:00</td>\n      <td>Kabum</td>\n    </tr>\n    <tr>\n      <th>3</th>\n      <td>3</td>\n      <td>Gigabyte</td>\n      <td>Placa de Vídeo Gigabyte NVIDIA GeForce GTX 165...</td>\n      <td>0</td>\n      <td>1.578,84</td>\n      <td>1.499,90</td>\n      <td>2020-09-06</td>\n      <td>17:59:00</td>\n      <td>Kabum</td>\n    </tr>\n    <tr>\n      <th>4</th>\n      <td>4</td>\n      <td>Gigabyte</td>\n      <td>Placa de Vídeo Gigabyte GTX 1660 Super OC NVID...</td>\n      <td>0</td>\n      <td>2.210,42</td>\n      <td>2.099,90</td>\n      <td>2020-09-06</td>\n      <td>17:59:00</td>\n      <td>Kabum</td>\n    </tr>\n    <tr>\n      <th>...</th>\n      <td>...</td>\n      <td>...</td>\n      <td>...</td>\n      <td>...</td>\n      <td>...</td>\n      <td>...</td>\n      <td>...</td>\n      <td>...</td>\n      <td>...</td>\n    </tr>\n    <tr>\n      <th>372</th>\n      <td>372</td>\n      <td>Pny</td>\n      <td>Placa de Vídeo PNY NVIDIA Quadro P400, 2GB, GD...</td>\n      <td>0</td>\n      <td>1.311,65</td>\n      <td>1.114,90</td>\n      <td>2020-09-06</td>\n      <td>17:59:00</td>\n      <td>Kabum</td>\n    </tr>\n    <tr>\n      <th>373</th>\n      <td>373</td>\n      <td>Powercolor</td>\n      <td>Placa de Vídeo PowerColor Red Dragon AMD Radeo...</td>\n      <td>0</td>\n      <td>783,41</td>\n      <td>665,90</td>\n      <td>2020-09-06</td>\n      <td>17:59:00</td>\n      <td>Kabum</td>\n    </tr>\n    <tr>\n      <th>374</th>\n      <td>374</td>\n      <td>MSI</td>\n      <td>Placa de Vídeo MSI NVIDIA GeForce GTX 1650 Gam...</td>\n      <td>1.599,88</td>\n      <td>1.388,12</td>\n      <td>1.179,90</td>\n      <td>2020-09-06</td>\n      <td>17:59:00</td>\n      <td>Kabum</td>\n    </tr>\n    <tr>\n      <th>375</th>\n      <td>375</td>\n      <td>ASRock</td>\n      <td>Placa de Vídeo ASRock AMD Radeon RX 5700 XT Ph...</td>\n      <td>0</td>\n      <td>3.835,18</td>\n      <td>3.259,90</td>\n      <td>2020-09-06</td>\n      <td>17:59:00</td>\n      <td>Kabum</td>\n    </tr>\n    <tr>\n      <th>376</th>\n      <td>376</td>\n      <td>Sapphire</td>\n      <td>Placa de Vídeo Sapphire Pulse AMD Radeon RX 57...</td>\n      <td>4.177,53</td>\n      <td>3.529,29</td>\n      <td>2.999,90</td>\n      <td>2020-09-06</td>\n      <td>17:59:00</td>\n      <td>Kabum</td>\n    </tr>\n  </tbody>\n</table>\n<p>377 rows × 9 columns</p>\n</div>"
     },
     "metadata": {},
     "execution_count": 35
    }
   ],
   "source": [
    "df"
   ]
  },
  {
   "cell_type": "code",
   "execution_count": 40,
   "metadata": {},
   "outputs": [],
   "source": [
    "df['preco_antigo_cartao'] = df['preco_antigo_cartao'].str.replace('.', '').str.replace(',', '.').astype(float)\n",
    "df['preco_atual_cartao'] = df['preco_atual_cartao'].str.replace('.', '').str.replace(',', '.').astype(float)\n",
    "df['preco_boleto'] = df['preco_boleto'].str.replace('.', '').str.replace(',', '.').astype(float)"
   ]
  },
  {
   "cell_type": "code",
   "execution_count": 41,
   "metadata": {
    "tags": []
   },
   "outputs": [
    {
     "output_type": "stream",
     "name": "stdout",
     "text": "marca\nASRock        2285.855385\nAfox           403.817500\nAmd           5921.450000\nAorus         9212.824000\nAsus          3006.544848\nColorful      4827.015000\nDeepcool       105.760000\nEvga          3473.597455\nGainward      4875.514286\nGalax         3408.282000\nGigabyte      2861.453375\nHusky          823.410000\nLiketec         23.410000\nMSI           2576.507368\nPCYes          525.448889\nPny           4151.111818\nPowercolor    1702.921667\nRise Mode       37.775294\nSapphire      2194.690667\nXFX           2115.449231\nZotac         2322.942000\nName: preco_atual_cartao, dtype: float64\n"
    }
   ],
   "source": [
    "df_marcas = df['preco_atual_cartao'].groupby(df['marca'])\n",
    "print(df_marcas.mean())"
   ]
  },
  {
   "cell_type": "code",
   "execution_count": 55,
   "metadata": {},
   "outputs": [
    {
     "output_type": "execute_result",
     "data": {
      "text/plain": "217    Placa de Vídeo Gigabyte Aorus NVIDIA GeForce R...\n235    Placa de Vídeo Gigabyte Aorus NVIDIA GeForce R...\n238    Placa de Vídeo Gigabyte Aorus NVIDIA GeForce R...\n321    Placa de Vídeo Gigabyte Aorus NVIDIA GeForce R...\n347    Placa de Vídeo Aorus AMD Radeon RX 5700 XT, 8G...\nName: nome_produto, dtype: object"
     },
     "metadata": {},
     "execution_count": 55
    }
   ],
   "source": [
    "df['nome_produto'][df['marca'] == 'Aorus']"
   ]
  },
  {
   "cell_type": "code",
   "execution_count": 140,
   "metadata": {},
   "outputs": [
    {
     "output_type": "execute_result",
     "data": {
      "text/plain": "      id     marca                                       nome_produto  \\\n17    17  Gigabyte  Placa de Vídeo Gigabyte NVIDIA GeForce GT 730,...   \n47    47  Gigabyte  Placa de Vídeo Gigabyte NVIDIA GeForce GT 730,...   \n202  202     Zotac  Placa de Vídeo Zotac NVIDIA GeForce GT 730 4GB...   \n259  259      Evga  Placa de Vídeo EVGA NVIDIA GeForce GT 730 2GB,...   \n287  287       MSI  Placa de Vídeo MSI NVIDIA GeForce GT 730 2GB, ...   \n\n     preco_antigo_cartao  preco_atual_cartao  preco_boleto        data  \\\n17                588.12              470.47         399.9  2020-09-06   \n47                588.12              470.47         399.9  2020-09-06   \n202                 0.00              725.76         616.9  2020-09-06   \n259                 0.00              352.82         299.9  2020-09-06   \n287                 0.00              517.53         439.9  2020-09-06   \n\n         hora   loja  \n17   17:59:00  Kabum  \n47   17:59:00  Kabum  \n202  17:59:00  Kabum  \n259  17:59:00  Kabum  \n287  17:59:00  Kabum  ",
      "text/html": "<div>\n<style scoped>\n    .dataframe tbody tr th:only-of-type {\n        vertical-align: middle;\n    }\n\n    .dataframe tbody tr th {\n        vertical-align: top;\n    }\n\n    .dataframe thead th {\n        text-align: right;\n    }\n</style>\n<table border=\"1\" class=\"dataframe\">\n  <thead>\n    <tr style=\"text-align: right;\">\n      <th></th>\n      <th>id</th>\n      <th>marca</th>\n      <th>nome_produto</th>\n      <th>preco_antigo_cartao</th>\n      <th>preco_atual_cartao</th>\n      <th>preco_boleto</th>\n      <th>data</th>\n      <th>hora</th>\n      <th>loja</th>\n    </tr>\n  </thead>\n  <tbody>\n    <tr>\n      <th>17</th>\n      <td>17</td>\n      <td>Gigabyte</td>\n      <td>Placa de Vídeo Gigabyte NVIDIA GeForce GT 730,...</td>\n      <td>588.12</td>\n      <td>470.47</td>\n      <td>399.9</td>\n      <td>2020-09-06</td>\n      <td>17:59:00</td>\n      <td>Kabum</td>\n    </tr>\n    <tr>\n      <th>47</th>\n      <td>47</td>\n      <td>Gigabyte</td>\n      <td>Placa de Vídeo Gigabyte NVIDIA GeForce GT 730,...</td>\n      <td>588.12</td>\n      <td>470.47</td>\n      <td>399.9</td>\n      <td>2020-09-06</td>\n      <td>17:59:00</td>\n      <td>Kabum</td>\n    </tr>\n    <tr>\n      <th>202</th>\n      <td>202</td>\n      <td>Zotac</td>\n      <td>Placa de Vídeo Zotac NVIDIA GeForce GT 730 4GB...</td>\n      <td>0.00</td>\n      <td>725.76</td>\n      <td>616.9</td>\n      <td>2020-09-06</td>\n      <td>17:59:00</td>\n      <td>Kabum</td>\n    </tr>\n    <tr>\n      <th>259</th>\n      <td>259</td>\n      <td>Evga</td>\n      <td>Placa de Vídeo EVGA NVIDIA GeForce GT 730 2GB,...</td>\n      <td>0.00</td>\n      <td>352.82</td>\n      <td>299.9</td>\n      <td>2020-09-06</td>\n      <td>17:59:00</td>\n      <td>Kabum</td>\n    </tr>\n    <tr>\n      <th>287</th>\n      <td>287</td>\n      <td>MSI</td>\n      <td>Placa de Vídeo MSI NVIDIA GeForce GT 730 2GB, ...</td>\n      <td>0.00</td>\n      <td>517.53</td>\n      <td>439.9</td>\n      <td>2020-09-06</td>\n      <td>17:59:00</td>\n      <td>Kabum</td>\n    </tr>\n  </tbody>\n</table>\n</div>"
     },
     "metadata": {},
     "execution_count": 140
    }
   ],
   "source": [
    "df[df['nome_produto'].str.contains(\"730\")]"
   ]
  },
  {
   "cell_type": "code",
   "execution_count": 136,
   "metadata": {},
   "outputs": [
    {
     "output_type": "execute_result",
     "data": {
      "text/plain": "'Placa de Vídeo EVGA NVIDIA GeForce GTX 1660 Super SC Ultra Gaming, 6GB, GDDR6 - 06G-P4-1068-KR'"
     },
     "metadata": {},
     "execution_count": 136
    }
   ],
   "source": [
    "df['nome_produto'][df['id'] == 341].item()"
   ]
  },
  {
   "cell_type": "code",
   "execution_count": 141,
   "metadata": {},
   "outputs": [
    {
     "output_type": "execute_result",
     "data": {
      "text/plain": "'GT 730'"
     },
     "metadata": {},
     "execution_count": 141
    }
   ],
   "source": [
    "string = df['nome_produto'][df['id'] == 259].item()\n",
    "pattern = \"(RTX|GTX|GT|RX)\\s(\\d+)\"\n",
    "teste = re.search(pattern, string)\n",
    "teste.group()"
   ]
  },
  {
   "cell_type": "code",
   "execution_count": null,
   "metadata": {},
   "outputs": [],
   "source": []
  },
  {
   "cell_type": "code",
   "execution_count": null,
   "metadata": {},
   "outputs": [],
   "source": []
  }
 ]
}