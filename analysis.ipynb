{
 "metadata": {
  "language_info": {
   "codemirror_mode": {
    "name": "ipython",
    "version": 3
   },
   "file_extension": ".py",
   "mimetype": "text/x-python",
   "name": "python",
   "nbconvert_exporter": "python",
   "pygments_lexer": "ipython3",
   "version": "3.8.3-final"
  },
  "orig_nbformat": 2,
  "kernelspec": {
   "name": "python_defaultSpec_1599423043583",
   "display_name": "Python 3.8.3 64-bit"
  }
 },
 "nbformat": 4,
 "nbformat_minor": 2,
 "cells": [
  {
   "cell_type": "code",
   "execution_count": 62,
   "metadata": {},
   "outputs": [],
   "source": [
    "import pandas as pd\n",
    "import numpy as np\n",
    "import re\n",
    "from connection_keys import connection"
   ]
  },
  {
   "cell_type": "code",
   "execution_count": 2,
   "metadata": {},
   "outputs": [],
   "source": [
    "connectionbd = connection('db_hardware')"
   ]
  },
  {
   "cell_type": "code",
   "execution_count": 39,
   "metadata": {},
   "outputs": [],
   "source": [
    "query = \"\"\"\n",
    "    select * from graphic_card\n",
    "\"\"\"\n",
    "df = pd.read_sql(query, connectionbd)"
   ]
  },
  {
   "cell_type": "code",
   "execution_count": 42,
   "metadata": {},
   "outputs": [
    {
     "output_type": "execute_result",
     "data": {
      "text/plain": "id                       int64\nmarca                   object\nnome_produto            object\npreco_antigo_cartao    float64\npreco_atual_cartao     float64\npreco_boleto           float64\ndata                    object\nhora                    object\nloja                    object\ndtype: object"
     },
     "metadata": {},
     "execution_count": 42
    }
   ],
   "source": [
    "df.dtypes"
   ]
  },
  {
   "cell_type": "code",
   "execution_count": 35,
   "metadata": {},
   "outputs": [
    {
     "output_type": "execute_result",
     "data": {
      "text/plain": "      id       marca                                       nome_produto  \\\n0      0    Gigabyte  Placa de Vídeo Gigabyte NVIDIA GeForce GTX 165...   \n1      1        Asus  Placa de Vídeo Asus TUF NVIDIA GeForce RTX 206...   \n2      2        Asus  Placa de Vídeo Asus TUF3 NVIDIA GeForce GTX 16...   \n3      3    Gigabyte  Placa de Vídeo Gigabyte NVIDIA GeForce GTX 165...   \n4      4    Gigabyte  Placa de Vídeo Gigabyte GTX 1660 Super OC NVID...   \n..   ...         ...                                                ...   \n372  372         Pny  Placa de Vídeo PNY NVIDIA Quadro P400, 2GB, GD...   \n373  373  Powercolor  Placa de Vídeo PowerColor Red Dragon AMD Radeo...   \n374  374         MSI  Placa de Vídeo MSI NVIDIA GeForce GTX 1650 Gam...   \n375  375      ASRock  Placa de Vídeo ASRock AMD Radeon RX 5700 XT Ph...   \n376  376    Sapphire  Placa de Vídeo Sapphire Pulse AMD Radeon RX 57...   \n\n    preco_antigo_cartao preco_atual_cartao preco_boleto        data      hora  \\\n0                     0           1.399,89     1.329,90  2020-09-06  17:59:00   \n1              2.894,00           2.658,71     2.259,90  2020-09-06  17:59:00   \n2                     0           2.420,95     2.299,90  2020-09-06  17:59:00   \n3                     0           1.578,84     1.499,90  2020-09-06  17:59:00   \n4                     0           2.210,42     2.099,90  2020-09-06  17:59:00   \n..                  ...                ...          ...         ...       ...   \n372                   0           1.311,65     1.114,90  2020-09-06  17:59:00   \n373                   0             783,41       665,90  2020-09-06  17:59:00   \n374            1.599,88           1.388,12     1.179,90  2020-09-06  17:59:00   \n375                   0           3.835,18     3.259,90  2020-09-06  17:59:00   \n376            4.177,53           3.529,29     2.999,90  2020-09-06  17:59:00   \n\n      loja  \n0    Kabum  \n1    Kabum  \n2    Kabum  \n3    Kabum  \n4    Kabum  \n..     ...  \n372  Kabum  \n373  Kabum  \n374  Kabum  \n375  Kabum  \n376  Kabum  \n\n[377 rows x 9 columns]",
      "text/html": "<div>\n<style scoped>\n    .dataframe tbody tr th:only-of-type {\n        vertical-align: middle;\n    }\n\n    .dataframe tbody tr th {\n        vertical-align: top;\n    }\n\n    .dataframe thead th {\n        text-align: right;\n    }\n</style>\n<table border=\"1\" class=\"dataframe\">\n  <thead>\n    <tr style=\"text-align: right;\">\n      <th></th>\n      <th>id</th>\n      <th>marca</th>\n      <th>nome_produto</th>\n      <th>preco_antigo_cartao</th>\n      <th>preco_atual_cartao</th>\n      <th>preco_boleto</th>\n      <th>data</th>\n      <th>hora</th>\n      <th>loja</th>\n    </tr>\n  </thead>\n  <tbody>\n    <tr>\n      <th>0</th>\n      <td>0</td>\n      <td>Gigabyte</td>\n      <td>Placa de Vídeo Gigabyte NVIDIA GeForce GTX 165...</td>\n      <td>0</td>\n      <td>1.399,89</td>\n      <td>1.329,90</td>\n      <td>2020-09-06</td>\n      <td>17:59:00</td>\n      <td>Kabum</td>\n    </tr>\n    <tr>\n      <th>1</th>\n      <td>1</td>\n      <td>Asus</td>\n      <td>Placa de Vídeo Asus TUF NVIDIA GeForce RTX 206...</td>\n      <td>2.894,00</td>\n      <td>2.658,71</td>\n      <td>2.259,90</td>\n      <td>2020-09-06</td>\n      <td>17:59:00</td>\n      <td>Kabum</td>\n    </tr>\n    <tr>\n      <th>2</th>\n      <td>2</td>\n      <td>Asus</td>\n      <td>Placa de Vídeo Asus TUF3 NVIDIA GeForce GTX 16...</td>\n      <td>0</td>\n      <td>2.420,95</td>\n      <td>2.299,90</td>\n      <td>2020-09-06</td>\n      <td>17:59:00</td>\n      <td>Kabum</td>\n    </tr>\n    <tr>\n      <th>3</th>\n      <td>3</td>\n      <td>Gigabyte</td>\n      <td>Placa de Vídeo Gigabyte NVIDIA GeForce GTX 165...</td>\n      <td>0</td>\n      <td>1.578,84</td>\n      <td>1.499,90</td>\n      <td>2020-09-06</td>\n      <td>17:59:00</td>\n      <td>Kabum</td>\n    </tr>\n    <tr>\n      <th>4</th>\n      <td>4</td>\n      <td>Gigabyte</td>\n      <td>Placa de Vídeo Gigabyte GTX 1660 Super OC NVID...</td>\n      <td>0</td>\n      <td>2.210,42</td>\n      <td>2.099,90</td>\n      <td>2020-09-06</td>\n      <td>17:59:00</td>\n      <td>Kabum</td>\n    </tr>\n    <tr>\n      <th>...</th>\n      <td>...</td>\n      <td>...</td>\n      <td>...</td>\n      <td>...</td>\n      <td>...</td>\n      <td>...</td>\n      <td>...</td>\n      <td>...</td>\n      <td>...</td>\n    </tr>\n    <tr>\n      <th>372</th>\n      <td>372</td>\n      <td>Pny</td>\n      <td>Placa de Vídeo PNY NVIDIA Quadro P400, 2GB, GD...</td>\n      <td>0</td>\n      <td>1.311,65</td>\n      <td>1.114,90</td>\n      <td>2020-09-06</td>\n      <td>17:59:00</td>\n      <td>Kabum</td>\n    </tr>\n    <tr>\n      <th>373</th>\n      <td>373</td>\n      <td>Powercolor</td>\n      <td>Placa de Vídeo PowerColor Red Dragon AMD Radeo...</td>\n      <td>0</td>\n      <td>783,41</td>\n      <td>665,90</td>\n      <td>2020-09-06</td>\n      <td>17:59:00</td>\n      <td>Kabum</td>\n    </tr>\n    <tr>\n      <th>374</th>\n      <td>374</td>\n      <td>MSI</td>\n      <td>Placa de Vídeo MSI NVIDIA GeForce GTX 1650 Gam...</td>\n      <td>1.599,88</td>\n      <td>1.388,12</td>\n      <td>1.179,90</td>\n      <td>2020-09-06</td>\n      <td>17:59:00</td>\n      <td>Kabum</td>\n    </tr>\n    <tr>\n      <th>375</th>\n      <td>375</td>\n      <td>ASRock</td>\n      <td>Placa de Vídeo ASRock AMD Radeon RX 5700 XT Ph...</td>\n      <td>0</td>\n      <td>3.835,18</td>\n      <td>3.259,90</td>\n      <td>2020-09-06</td>\n      <td>17:59:00</td>\n      <td>Kabum</td>\n    </tr>\n    <tr>\n      <th>376</th>\n      <td>376</td>\n      <td>Sapphire</td>\n      <td>Placa de Vídeo Sapphire Pulse AMD Radeon RX 57...</td>\n      <td>4.177,53</td>\n      <td>3.529,29</td>\n      <td>2.999,90</td>\n      <td>2020-09-06</td>\n      <td>17:59:00</td>\n      <td>Kabum</td>\n    </tr>\n  </tbody>\n</table>\n<p>377 rows × 9 columns</p>\n</div>"
     },
     "metadata": {},
     "execution_count": 35
    }
   ],
   "source": [
    "df"
   ]
  },
  {
   "cell_type": "code",
   "execution_count": 40,
   "metadata": {},
   "outputs": [],
   "source": [
    "df['preco_antigo_cartao'] = df['preco_antigo_cartao'].str.replace('.', '').str.replace(',', '.').astype(float)\n",
    "df['preco_atual_cartao'] = df['preco_atual_cartao'].str.replace('.', '').str.replace(',', '.').astype(float)\n",
    "df['preco_boleto'] = df['preco_boleto'].str.replace('.', '').str.replace(',', '.').astype(float)"
   ]
  },
  {
   "cell_type": "code",
   "execution_count": 41,
   "metadata": {
    "tags": []
   },
   "outputs": [
    {
     "output_type": "stream",
     "name": "stdout",
     "text": "marca\nASRock        2285.855385\nAfox           403.817500\nAmd           5921.450000\nAorus         9212.824000\nAsus          3006.544848\nColorful      4827.015000\nDeepcool       105.760000\nEvga          3473.597455\nGainward      4875.514286\nGalax         3408.282000\nGigabyte      2861.453375\nHusky          823.410000\nLiketec         23.410000\nMSI           2576.507368\nPCYes          525.448889\nPny           4151.111818\nPowercolor    1702.921667\nRise Mode       37.775294\nSapphire      2194.690667\nXFX           2115.449231\nZotac         2322.942000\nName: preco_atual_cartao, dtype: float64\n"
    }
   ],
   "source": [
    "df_marcas = df['preco_atual_cartao'].groupby(df['marca'])\n",
    "print(df_marcas.mean())"
   ]
  },
  {
   "cell_type": "code",
   "execution_count": 55,
   "metadata": {},
   "outputs": [
    {
     "output_type": "execute_result",
     "data": {
      "text/plain": "217    Placa de Vídeo Gigabyte Aorus NVIDIA GeForce R...\n235    Placa de Vídeo Gigabyte Aorus NVIDIA GeForce R...\n238    Placa de Vídeo Gigabyte Aorus NVIDIA GeForce R...\n321    Placa de Vídeo Gigabyte Aorus NVIDIA GeForce R...\n347    Placa de Vídeo Aorus AMD Radeon RX 5700 XT, 8G...\nName: nome_produto, dtype: object"
     },
     "metadata": {},
     "execution_count": 55
    }
   ],
   "source": [
    "df['nome_produto'][df['marca'] == 'Aorus']"
   ]
  },
  {
   "cell_type": "code",
   "execution_count": 140,
   "metadata": {},
   "outputs": [
    {
     "output_type": "execute_result",
     "data": {
      "text/plain": "      id     marca                                       nome_produto  \\\n17    17  Gigabyte  Placa de Vídeo Gigabyte NVIDIA GeForce GT 730,...   \n47    47  Gigabyte  Placa de Vídeo Gigabyte NVIDIA GeForce GT 730,...   \n202  202     Zotac  Placa de Vídeo Zotac NVIDIA GeForce GT 730 4GB...   \n259  259      Evga  Placa de Vídeo EVGA NVIDIA GeForce GT 730 2GB,...   \n287  287       MSI  Placa de Vídeo MSI NVIDIA GeForce GT 730 2GB, ...   \n\n     preco_antigo_cartao  preco_atual_cartao  preco_boleto        data  \\\n17                588.12              470.47         399.9  2020-09-06   \n47                588.12              470.47         399.9  2020-09-06   \n202                 0.00              725.76         616.9  2020-09-06   \n259                 0.00              352.82         299.9  2020-09-06   \n287                 0.00              517.53         439.9  2020-09-06   \n\n         hora   loja  \n17   17:59:00  Kabum  \n47   17:59:00  Kabum  \n202  17:59:00  Kabum  \n259  17:59:00  Kabum  \n287  17:59:00  Kabum  ",
      "text/html": "<div>\n<style scoped>\n    .dataframe tbody tr th:only-of-type {\n        vertical-align: middle;\n    }\n\n    .dataframe tbody tr th {\n        vertical-align: top;\n    }\n\n    .dataframe thead th {\n        text-align: right;\n    }\n</style>\n<table border=\"1\" class=\"dataframe\">\n  <thead>\n    <tr style=\"text-align: right;\">\n      <th></th>\n      <th>id</th>\n      <th>marca</th>\n      <th>nome_produto</th>\n      <th>preco_antigo_cartao</th>\n      <th>preco_atual_cartao</th>\n      <th>preco_boleto</th>\n      <th>data</th>\n      <th>hora</th>\n      <th>loja</th>\n    </tr>\n  </thead>\n  <tbody>\n    <tr>\n      <th>17</th>\n      <td>17</td>\n      <td>Gigabyte</td>\n      <td>Placa de Vídeo Gigabyte NVIDIA GeForce GT 730,...</td>\n      <td>588.12</td>\n      <td>470.47</td>\n      <td>399.9</td>\n      <td>2020-09-06</td>\n      <td>17:59:00</td>\n      <td>Kabum</td>\n    </tr>\n    <tr>\n      <th>47</th>\n      <td>47</td>\n      <td>Gigabyte</td>\n      <td>Placa de Vídeo Gigabyte NVIDIA GeForce GT 730,...</td>\n      <td>588.12</td>\n      <td>470.47</td>\n      <td>399.9</td>\n      <td>2020-09-06</td>\n      <td>17:59:00</td>\n      <td>Kabum</td>\n    </tr>\n    <tr>\n      <th>202</th>\n      <td>202</td>\n      <td>Zotac</td>\n      <td>Placa de Vídeo Zotac NVIDIA GeForce GT 730 4GB...</td>\n      <td>0.00</td>\n      <td>725.76</td>\n      <td>616.9</td>\n      <td>2020-09-06</td>\n      <td>17:59:00</td>\n      <td>Kabum</td>\n    </tr>\n    <tr>\n      <th>259</th>\n      <td>259</td>\n      <td>Evga</td>\n      <td>Placa de Vídeo EVGA NVIDIA GeForce GT 730 2GB,...</td>\n      <td>0.00</td>\n      <td>352.82</td>\n      <td>299.9</td>\n      <td>2020-09-06</td>\n      <td>17:59:00</td>\n      <td>Kabum</td>\n    </tr>\n    <tr>\n      <th>287</th>\n      <td>287</td>\n      <td>MSI</td>\n      <td>Placa de Vídeo MSI NVIDIA GeForce GT 730 2GB, ...</td>\n      <td>0.00</td>\n      <td>517.53</td>\n      <td>439.9</td>\n      <td>2020-09-06</td>\n      <td>17:59:00</td>\n      <td>Kabum</td>\n    </tr>\n  </tbody>\n</table>\n</div>"
     },
     "metadata": {},
     "execution_count": 140
    }
   ],
   "source": [
    "df[df['nome_produto'].str.contains(\"730\")]"
   ]
  },
  {
   "cell_type": "code",
   "execution_count": 157,
   "metadata": {},
   "outputs": [],
   "source": [
    "def get_resume_product_name(name):\n",
    "    # string = df['nome_produto'][df['id'] == 259].item()\n",
    "    pattern = \"(RTX|GTX|GT|RX|WX|Quadro|R7|R5|R9|HD)(\\d+)\"\n",
    "    resume_name = re.search(pattern, name.replace(\" \", \"\"))\n",
    "    if resume_name is None: \n",
    "        return '' \n",
    "    else: \n",
    "        return resume_name.group()\n",
    "\n",
    "df['nome_produto_resumido'] = df.apply(lambda x: get_resume_product_name(x['nome_produto']), axis=1)"
   ]
  },
  {
   "cell_type": "code",
   "execution_count": 158,
   "metadata": {},
   "outputs": [
    {
     "output_type": "execute_result",
     "data": {
      "text/plain": "      id      marca                                       nome_produto  \\\n7      7  Rise Mode  Suporte para Placa de Vídeo VGA Rise até 2 Pla...   \n20    20  Rise Mode  Suporte para Placa de Vídeo VGA Rise Transpare...   \n28    28  Rise Mode  Suporte para Placa de Vídeo RISE LV2 Small Bla...   \n37    37  Rise Mode  Suporte para Placa de Vídeo VGA Rise até 2 Pla...   \n50    50  Rise Mode  Suporte para Placa de Vídeo VGA Rise Transpare...   \n58    58  Rise Mode  Suporte para Placa de Vídeo RISE LV2 Small Bla...   \n66    66  Rise Mode  Suporte para Placa de Video Rise Mode Small Aq...   \n72    72  Rise Mode  Suporte Para Placa de Vídeo RISE Snow Edition ...   \n74    74  Rise Mode  Suporte para Placa de Video VGA Rise Mode lv2 ...   \n80    80  Rise Mode  Suporte para placa de vídeo Rise Mode TecLab E...   \n81    81    Liketec  Suporte para Placa de Vídeo Liketec Nexxus 2, ...   \n82    82  Rise Mode  Suporte para Placa de Video Rise Mode Smoke RM...   \n84    84  Rise Mode  Suporte para Placa de Vídeo VGA Rise Mode lv2 ...   \n92    92  Rise Mode  Suporte para Placa de Video Rise Mode Vulpes R...   \n118  118       Asus  Case para Placa de Vídeo Asus ROG XG Station 2...   \n148  148  Rise Mode  Suporte para Placa de Vídeo Rise Mode Vermelho...   \n149  149  Rise Mode  Suporte para Placa de Video Rise Mode  Ice Col...   \n150  150  Rise Mode  Suporte para Placa de Video Rise Mode Small Bl...   \n206  206        Pny  Placa de Vídeo PNY NVIDIA Quadro P2000, 5GB, G...   \n216  216        Pny  Placa de Vídeo PNY NVIDIA Quadro NVS 810 4GB, ...   \n219  219        Pny  Placa de Vídeo PNY NVIDIA Quadro P620, 2GB, GD...   \n246  246       Asus  Placa de Video Asus AMD Radeon R9 Fury X 4GB -...   \n292  292        Pny  Placa de Vídeo PNY NVIDIA Quadro P1000 4GB, GD...   \n297  297  Rise Mode  Suporte para Placa de Vídeo VGA Rise Mode lv2 ...   \n310  310        XFX  Placa de Vídeo XFX AMD One Series 2GB 6570 Plu...   \n312  312   Deepcool  Suporte para Placa de Vídeo DeepCool GH-01 - D...   \n322  322      PCYes  Placa de Vídeo PCYes NVIDIA GeForce G210 1GB, ...   \n372  372        Pny  Placa de Vídeo PNY NVIDIA Quadro P400, 2GB, GD...   \n\n     preco_antigo_cartao  preco_atual_cartao  preco_boleto        data  \\\n7                  31.47               27.26          25.9  2020-09-06   \n20                  0.00               39.89          35.9  2020-09-06   \n28                 54.00               44.59          37.9  2020-09-06   \n37                 31.47               27.26          25.9  2020-09-06   \n50                  0.00               39.89          35.9  2020-09-06   \n58                 54.00               44.59          37.9  2020-09-06   \n66                  0.00               46.94          39.9  2020-09-06   \n72                 46.94               29.29          24.9  2020-09-06   \n74                 58.71               42.24          35.9  2020-09-06   \n80                  0.00               42.24          35.9  2020-09-06   \n81                  0.00               23.41          19.9  2020-09-06   \n82                 29.29               28.12          23.9  2020-09-06   \n84                  0.00               42.24          35.9  2020-09-06   \n92                 35.18               29.29          24.9  2020-09-06   \n118              5170.47             4258.71        3619.9  2020-09-06   \n148                30.47               29.29          24.9  2020-09-06   \n149                30.47               29.29          24.9  2020-09-06   \n150                 0.00               29.29          24.9  2020-09-06   \n206              4588.12             4369.29        3713.9  2020-09-06   \n216              5947.90             5623.41        4779.9  2020-09-06   \n219                 0.00             1764.59        1499.9  2020-09-06   \n246                 0.00             3529.29        2999.9  2020-09-06   \n292              3176.35             2941.06        2499.9  2020-09-06   \n297                 0.00               70.47          59.9  2020-09-06   \n310                 0.00              266.94         226.9  2020-09-06   \n312                 0.00              105.76          89.9  2020-09-06   \n322                 0.00              423.41         359.9  2020-09-06   \n372                 0.00             1311.65        1114.9  2020-09-06   \n\n         hora   loja nome_produto_resumido  \n7    17:59:00  Kabum                        \n20   17:59:00  Kabum                        \n28   17:59:00  Kabum                        \n37   17:59:00  Kabum                        \n50   17:59:00  Kabum                        \n58   17:59:00  Kabum                        \n66   17:59:00  Kabum                        \n72   17:59:00  Kabum                        \n74   17:59:00  Kabum                        \n80   17:59:00  Kabum                        \n81   17:59:00  Kabum                        \n82   17:59:00  Kabum                        \n84   17:59:00  Kabum                        \n92   17:59:00  Kabum                        \n118  17:59:00  Kabum                        \n148  17:59:00  Kabum                        \n149  17:59:00  Kabum                        \n150  17:59:00  Kabum                        \n206  17:59:00  Kabum                        \n216  17:59:00  Kabum                        \n219  17:59:00  Kabum                        \n246  17:59:00  Kabum                        \n292  17:59:00  Kabum                        \n297  17:59:00  Kabum                        \n310  17:59:00  Kabum                        \n312  17:59:00  Kabum                        \n322  17:59:00  Kabum                        \n372  17:59:00  Kabum                        ",
      "text/html": "<div>\n<style scoped>\n    .dataframe tbody tr th:only-of-type {\n        vertical-align: middle;\n    }\n\n    .dataframe tbody tr th {\n        vertical-align: top;\n    }\n\n    .dataframe thead th {\n        text-align: right;\n    }\n</style>\n<table border=\"1\" class=\"dataframe\">\n  <thead>\n    <tr style=\"text-align: right;\">\n      <th></th>\n      <th>id</th>\n      <th>marca</th>\n      <th>nome_produto</th>\n      <th>preco_antigo_cartao</th>\n      <th>preco_atual_cartao</th>\n      <th>preco_boleto</th>\n      <th>data</th>\n      <th>hora</th>\n      <th>loja</th>\n      <th>nome_produto_resumido</th>\n    </tr>\n  </thead>\n  <tbody>\n    <tr>\n      <th>7</th>\n      <td>7</td>\n      <td>Rise Mode</td>\n      <td>Suporte para Placa de Vídeo VGA Rise até 2 Pla...</td>\n      <td>31.47</td>\n      <td>27.26</td>\n      <td>25.9</td>\n      <td>2020-09-06</td>\n      <td>17:59:00</td>\n      <td>Kabum</td>\n      <td></td>\n    </tr>\n    <tr>\n      <th>20</th>\n      <td>20</td>\n      <td>Rise Mode</td>\n      <td>Suporte para Placa de Vídeo VGA Rise Transpare...</td>\n      <td>0.00</td>\n      <td>39.89</td>\n      <td>35.9</td>\n      <td>2020-09-06</td>\n      <td>17:59:00</td>\n      <td>Kabum</td>\n      <td></td>\n    </tr>\n    <tr>\n      <th>28</th>\n      <td>28</td>\n      <td>Rise Mode</td>\n      <td>Suporte para Placa de Vídeo RISE LV2 Small Bla...</td>\n      <td>54.00</td>\n      <td>44.59</td>\n      <td>37.9</td>\n      <td>2020-09-06</td>\n      <td>17:59:00</td>\n      <td>Kabum</td>\n      <td></td>\n    </tr>\n    <tr>\n      <th>37</th>\n      <td>37</td>\n      <td>Rise Mode</td>\n      <td>Suporte para Placa de Vídeo VGA Rise até 2 Pla...</td>\n      <td>31.47</td>\n      <td>27.26</td>\n      <td>25.9</td>\n      <td>2020-09-06</td>\n      <td>17:59:00</td>\n      <td>Kabum</td>\n      <td></td>\n    </tr>\n    <tr>\n      <th>50</th>\n      <td>50</td>\n      <td>Rise Mode</td>\n      <td>Suporte para Placa de Vídeo VGA Rise Transpare...</td>\n      <td>0.00</td>\n      <td>39.89</td>\n      <td>35.9</td>\n      <td>2020-09-06</td>\n      <td>17:59:00</td>\n      <td>Kabum</td>\n      <td></td>\n    </tr>\n    <tr>\n      <th>58</th>\n      <td>58</td>\n      <td>Rise Mode</td>\n      <td>Suporte para Placa de Vídeo RISE LV2 Small Bla...</td>\n      <td>54.00</td>\n      <td>44.59</td>\n      <td>37.9</td>\n      <td>2020-09-06</td>\n      <td>17:59:00</td>\n      <td>Kabum</td>\n      <td></td>\n    </tr>\n    <tr>\n      <th>66</th>\n      <td>66</td>\n      <td>Rise Mode</td>\n      <td>Suporte para Placa de Video Rise Mode Small Aq...</td>\n      <td>0.00</td>\n      <td>46.94</td>\n      <td>39.9</td>\n      <td>2020-09-06</td>\n      <td>17:59:00</td>\n      <td>Kabum</td>\n      <td></td>\n    </tr>\n    <tr>\n      <th>72</th>\n      <td>72</td>\n      <td>Rise Mode</td>\n      <td>Suporte Para Placa de Vídeo RISE Snow Edition ...</td>\n      <td>46.94</td>\n      <td>29.29</td>\n      <td>24.9</td>\n      <td>2020-09-06</td>\n      <td>17:59:00</td>\n      <td>Kabum</td>\n      <td></td>\n    </tr>\n    <tr>\n      <th>74</th>\n      <td>74</td>\n      <td>Rise Mode</td>\n      <td>Suporte para Placa de Video VGA Rise Mode lv2 ...</td>\n      <td>58.71</td>\n      <td>42.24</td>\n      <td>35.9</td>\n      <td>2020-09-06</td>\n      <td>17:59:00</td>\n      <td>Kabum</td>\n      <td></td>\n    </tr>\n    <tr>\n      <th>80</th>\n      <td>80</td>\n      <td>Rise Mode</td>\n      <td>Suporte para placa de vídeo Rise Mode TecLab E...</td>\n      <td>0.00</td>\n      <td>42.24</td>\n      <td>35.9</td>\n      <td>2020-09-06</td>\n      <td>17:59:00</td>\n      <td>Kabum</td>\n      <td></td>\n    </tr>\n    <tr>\n      <th>81</th>\n      <td>81</td>\n      <td>Liketec</td>\n      <td>Suporte para Placa de Vídeo Liketec Nexxus 2, ...</td>\n      <td>0.00</td>\n      <td>23.41</td>\n      <td>19.9</td>\n      <td>2020-09-06</td>\n      <td>17:59:00</td>\n      <td>Kabum</td>\n      <td></td>\n    </tr>\n    <tr>\n      <th>82</th>\n      <td>82</td>\n      <td>Rise Mode</td>\n      <td>Suporte para Placa de Video Rise Mode Smoke RM...</td>\n      <td>29.29</td>\n      <td>28.12</td>\n      <td>23.9</td>\n      <td>2020-09-06</td>\n      <td>17:59:00</td>\n      <td>Kabum</td>\n      <td></td>\n    </tr>\n    <tr>\n      <th>84</th>\n      <td>84</td>\n      <td>Rise Mode</td>\n      <td>Suporte para Placa de Vídeo VGA Rise Mode lv2 ...</td>\n      <td>0.00</td>\n      <td>42.24</td>\n      <td>35.9</td>\n      <td>2020-09-06</td>\n      <td>17:59:00</td>\n      <td>Kabum</td>\n      <td></td>\n    </tr>\n    <tr>\n      <th>92</th>\n      <td>92</td>\n      <td>Rise Mode</td>\n      <td>Suporte para Placa de Video Rise Mode Vulpes R...</td>\n      <td>35.18</td>\n      <td>29.29</td>\n      <td>24.9</td>\n      <td>2020-09-06</td>\n      <td>17:59:00</td>\n      <td>Kabum</td>\n      <td></td>\n    </tr>\n    <tr>\n      <th>118</th>\n      <td>118</td>\n      <td>Asus</td>\n      <td>Case para Placa de Vídeo Asus ROG XG Station 2...</td>\n      <td>5170.47</td>\n      <td>4258.71</td>\n      <td>3619.9</td>\n      <td>2020-09-06</td>\n      <td>17:59:00</td>\n      <td>Kabum</td>\n      <td></td>\n    </tr>\n    <tr>\n      <th>148</th>\n      <td>148</td>\n      <td>Rise Mode</td>\n      <td>Suporte para Placa de Vídeo Rise Mode Vermelho...</td>\n      <td>30.47</td>\n      <td>29.29</td>\n      <td>24.9</td>\n      <td>2020-09-06</td>\n      <td>17:59:00</td>\n      <td>Kabum</td>\n      <td></td>\n    </tr>\n    <tr>\n      <th>149</th>\n      <td>149</td>\n      <td>Rise Mode</td>\n      <td>Suporte para Placa de Video Rise Mode  Ice Col...</td>\n      <td>30.47</td>\n      <td>29.29</td>\n      <td>24.9</td>\n      <td>2020-09-06</td>\n      <td>17:59:00</td>\n      <td>Kabum</td>\n      <td></td>\n    </tr>\n    <tr>\n      <th>150</th>\n      <td>150</td>\n      <td>Rise Mode</td>\n      <td>Suporte para Placa de Video Rise Mode Small Bl...</td>\n      <td>0.00</td>\n      <td>29.29</td>\n      <td>24.9</td>\n      <td>2020-09-06</td>\n      <td>17:59:00</td>\n      <td>Kabum</td>\n      <td></td>\n    </tr>\n    <tr>\n      <th>206</th>\n      <td>206</td>\n      <td>Pny</td>\n      <td>Placa de Vídeo PNY NVIDIA Quadro P2000, 5GB, G...</td>\n      <td>4588.12</td>\n      <td>4369.29</td>\n      <td>3713.9</td>\n      <td>2020-09-06</td>\n      <td>17:59:00</td>\n      <td>Kabum</td>\n      <td></td>\n    </tr>\n    <tr>\n      <th>216</th>\n      <td>216</td>\n      <td>Pny</td>\n      <td>Placa de Vídeo PNY NVIDIA Quadro NVS 810 4GB, ...</td>\n      <td>5947.90</td>\n      <td>5623.41</td>\n      <td>4779.9</td>\n      <td>2020-09-06</td>\n      <td>17:59:00</td>\n      <td>Kabum</td>\n      <td></td>\n    </tr>\n    <tr>\n      <th>219</th>\n      <td>219</td>\n      <td>Pny</td>\n      <td>Placa de Vídeo PNY NVIDIA Quadro P620, 2GB, GD...</td>\n      <td>0.00</td>\n      <td>1764.59</td>\n      <td>1499.9</td>\n      <td>2020-09-06</td>\n      <td>17:59:00</td>\n      <td>Kabum</td>\n      <td></td>\n    </tr>\n    <tr>\n      <th>246</th>\n      <td>246</td>\n      <td>Asus</td>\n      <td>Placa de Video Asus AMD Radeon R9 Fury X 4GB -...</td>\n      <td>0.00</td>\n      <td>3529.29</td>\n      <td>2999.9</td>\n      <td>2020-09-06</td>\n      <td>17:59:00</td>\n      <td>Kabum</td>\n      <td></td>\n    </tr>\n    <tr>\n      <th>292</th>\n      <td>292</td>\n      <td>Pny</td>\n      <td>Placa de Vídeo PNY NVIDIA Quadro P1000 4GB, GD...</td>\n      <td>3176.35</td>\n      <td>2941.06</td>\n      <td>2499.9</td>\n      <td>2020-09-06</td>\n      <td>17:59:00</td>\n      <td>Kabum</td>\n      <td></td>\n    </tr>\n    <tr>\n      <th>297</th>\n      <td>297</td>\n      <td>Rise Mode</td>\n      <td>Suporte para Placa de Vídeo VGA Rise Mode lv2 ...</td>\n      <td>0.00</td>\n      <td>70.47</td>\n      <td>59.9</td>\n      <td>2020-09-06</td>\n      <td>17:59:00</td>\n      <td>Kabum</td>\n      <td></td>\n    </tr>\n    <tr>\n      <th>310</th>\n      <td>310</td>\n      <td>XFX</td>\n      <td>Placa de Vídeo XFX AMD One Series 2GB 6570 Plu...</td>\n      <td>0.00</td>\n      <td>266.94</td>\n      <td>226.9</td>\n      <td>2020-09-06</td>\n      <td>17:59:00</td>\n      <td>Kabum</td>\n      <td></td>\n    </tr>\n    <tr>\n      <th>312</th>\n      <td>312</td>\n      <td>Deepcool</td>\n      <td>Suporte para Placa de Vídeo DeepCool GH-01 - D...</td>\n      <td>0.00</td>\n      <td>105.76</td>\n      <td>89.9</td>\n      <td>2020-09-06</td>\n      <td>17:59:00</td>\n      <td>Kabum</td>\n      <td></td>\n    </tr>\n    <tr>\n      <th>322</th>\n      <td>322</td>\n      <td>PCYes</td>\n      <td>Placa de Vídeo PCYes NVIDIA GeForce G210 1GB, ...</td>\n      <td>0.00</td>\n      <td>423.41</td>\n      <td>359.9</td>\n      <td>2020-09-06</td>\n      <td>17:59:00</td>\n      <td>Kabum</td>\n      <td></td>\n    </tr>\n    <tr>\n      <th>372</th>\n      <td>372</td>\n      <td>Pny</td>\n      <td>Placa de Vídeo PNY NVIDIA Quadro P400, 2GB, GD...</td>\n      <td>0.00</td>\n      <td>1311.65</td>\n      <td>1114.9</td>\n      <td>2020-09-06</td>\n      <td>17:59:00</td>\n      <td>Kabum</td>\n      <td></td>\n    </tr>\n  </tbody>\n</table>\n</div>"
     },
     "metadata": {},
     "execution_count": 158
    }
   ],
   "source": [
    "df[df['nome_produto_resumido'] == '']\n",
    "# df"
   ]
  },
  {
   "cell_type": "code",
   "execution_count": null,
   "metadata": {},
   "outputs": [],
   "source": []
  },
  {
   "cell_type": "code",
   "execution_count": null,
   "metadata": {},
   "outputs": [],
   "source": []
  }
 ]
}